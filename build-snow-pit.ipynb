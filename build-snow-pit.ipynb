{
 "cells": [
  {
   "cell_type": "code",
   "execution_count": 1,
   "metadata": {},
   "outputs": [],
   "source": [
    "import pandas as pd\n",
    "import numpy as np\n",
    "import matplotlib.pyplot as plt\n",
    "import seaborn as sns\n",
    "import os\n",
    "from xml.dom import minidom"
   ]
  },
  {
   "cell_type": "code",
   "execution_count": 2,
   "metadata": {},
   "outputs": [],
   "source": [
    "# Find root of the xml file\n",
    "\n",
    "# Define the path to snowpits folder\n",
    "folder_path = \"snowpits_200_MT\" # The latest 200 snow pits from MT\n",
    "\n",
    "# Create a list of all CAAML files in the folder\n",
    "caaml_files = [f for f in os.listdir(folder_path) if f.endswith('.xml')] # List of all CAAML files in the folder\n",
    "file = caaml_files[0]\n",
    "\n",
    "file_path = folder_path + '/' + file\n",
    "#doc = minidom.parse(file_path)\n",
    "#root = doc.documentElement\n",
    "\n",
    "\n"
   ]
  },
  {
   "cell_type": "code",
   "execution_count": 3,
   "metadata": {},
   "outputs": [
    {
     "name": "stdout",
     "output_type": "stream",
     "text": [
      "2024-11-11\n"
     ]
    }
   ],
   "source": [
    "from snowPilotObs import SnowPilot_object\n",
    "\n",
    "snowPit1 = SnowPilot_object(file_path)\n",
    "\n",
    "print(snowPit1.get_date())\n"
   ]
  },
  {
   "cell_type": "code",
   "execution_count": 2,
   "metadata": {},
   "outputs": [],
   "source": [
    "#Main Class\n",
    "\n",
    "class SnowPilot_object(object):\n",
    "\n",
    "    \"\"\" \n",
    "    snowPilot_object class for representing a single snow pit from a snowPilot caaml.xml file\n",
    "    \"\"\"\n",
    "\n",
    "    def __init__(self, file_path):\n",
    "        self.file_path = file_path\n",
    "        self.doc = minidom.parse(self.file_path)\n",
    "        self.root = self.doc.documentElement\n",
    "\n",
    "        self.metaData = self.set_metaData(file_path)\n",
    "\n",
    "    def set_metaData(self, doc):\n",
    "        metaData_list = doc.getElementsByTagName('caaml:metaData')\n",
    "        for child in metaData_list:\n",
    "            for subchild in child.childNodes:\n",
    "                print(subchild.nodeName)\n",
    "                print(subchild.firstChild.nodeValue)\n",
    "\n",
    "\n",
    "\n"
   ]
  },
  {
   "cell_type": "code",
   "execution_count": null,
   "metadata": {},
   "outputs": [],
   "source": [
    "class metaData(object):\n",
    "    \"\"\" \n",
    "    metaData class for representing the meta data of a snow pit\n",
    "    \"\"\"\n",
    "    def __init__(self, comment, date, time, user):\n",
    "        self.timeRef = timeRef\n",
    "        self.comment = comment\n",
    "\n"
   ]
  },
  {
   "cell_type": "code",
   "execution_count": null,
   "metadata": {},
   "outputs": [],
   "source": [
    "class user(object):\n",
    "    \"\"\" \n",
    "    user class for representing the user who uploaded the snow pit\n",
    "    \"\"\"\n",
    "    def __init__(self, name, email, phone):\n",
    "        self.name = name\n",
    "        self.email = email\n",
    "        self.phone = phone\n",
    "\n"
   ]
  }
 ],
 "metadata": {
  "kernelspec": {
   "display_name": ".venv",
   "language": "python",
   "name": "python3"
  },
  "language_info": {
   "codemirror_mode": {
    "name": "ipython",
    "version": 3
   },
   "file_extension": ".py",
   "mimetype": "text/x-python",
   "name": "python",
   "nbconvert_exporter": "python",
   "pygments_lexer": "ipython3",
   "version": "3.13.1"
  }
 },
 "nbformat": 4,
 "nbformat_minor": 2
}
