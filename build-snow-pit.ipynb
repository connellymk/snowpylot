{
 "cells": [
  {
   "cell_type": "code",
   "execution_count": 1,
   "metadata": {},
   "outputs": [],
   "source": [
    "#import pandas as pd\n",
    "#import numpy as np\n",
    "#import matplotlib.pyplot as plt\n",
    "#import seaborn as sns\n",
    "import os\n",
    "#from xml.dom import minidom\n",
    "\n",
    "# Define path to sample file\n",
    "# Define the path to snowpits folder\n",
    "folder_path = \"snowpits_200_MT\" # The latest 200 snow pits from MT\n",
    "\n",
    "# Create a list of all CAAML files in the folder\n",
    "caaml_files = [f for f in os.listdir(folder_path) if f.endswith('.xml')] # List of all CAAML files in the folder\n",
    "file = caaml_files[0]\n",
    "\n",
    "file_path = folder_path + '/' + file"
   ]
  },
  {
   "cell_type": "code",
   "execution_count": 2,
   "metadata": {},
   "outputs": [
    {
     "name": "stdout",
     "output_type": "stream",
     "text": [
      "\n",
      " Test Methods\n",
      "['2532', 'm']\n",
      "\n",
      "\n",
      "LocationInfo: \n",
      " elevation=['2532', 'm'] \n",
      " aspect=E \n",
      " slopeAngle=['31', 'deg'] \n",
      " coords=45.8198520 -110.9286980 \n",
      " latitude=45.8198520 \n",
      " longitude=-110.9286980 \n",
      " country=US \n",
      " region=MT \n"
     ]
    }
   ],
   "source": [
    "# Test SnowPilotObs class\n",
    "from snowPilotObs import SnowPilot_obs\n",
    "\n",
    "snowPit1 = SnowPilot_obs(file_path) # SnowPilot_obs object from first file in folder\n",
    "\n",
    "print(\"\\n Test Methods\")\n",
    "print(snowPit1.locationInfo.get_elevation())\n",
    "print(\"\\n\")\n",
    "print(snowPit1.locationInfo)\n"
   ]
  }
 ],
 "metadata": {
  "language_info": {
   "name": "python"
  }
 },
 "nbformat": 4,
 "nbformat_minor": 2
}
