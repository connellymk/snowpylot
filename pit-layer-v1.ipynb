{
 "cells": [
  {
   "cell_type": "markdown",
   "metadata": {},
   "source": []
  },
  {
   "cell_type": "markdown",
   "metadata": {},
   "source": [
    "## Snow Pit Layer Object and Initial Investigation\n",
    "\n",
    "Initial research question: What is the relationship between snow pit layer hand hardness and grain form?\n",
    "\n",
    "### Import libraries"
   ]
  },
  {
   "cell_type": "code",
   "execution_count": 7,
   "metadata": {},
   "outputs": [],
   "source": [
    "import pandas as pd\n",
    "import numpy as np\n",
    "import matplotlib.pyplot as plt\n",
    "import seaborn as sns\n",
    "import os\n",
    "import xml.etree.ElementTree as ET"
   ]
  },
  {
   "cell_type": "code",
   "execution_count": 1,
   "metadata": {},
   "outputs": [
    {
     "name": "stdout",
     "output_type": "stream",
     "text": [
      "Hello World!\n"
     ]
    }
   ],
   "source": [
    "print('Hello World!') "
   ]
  },
  {
   "cell_type": "markdown",
   "metadata": {},
   "source": [
    "#Create layer object"
   ]
  },
  {
   "cell_type": "code",
   "execution_count": 3,
   "metadata": {},
   "outputs": [],
   "source": [
    "## Don't need?\n",
    "class Layer:\n",
    "    # Translated from https://github.com/SnowpitData/AvscienceServer/blob/master/src/avscience/ppc/Layer.java\n",
    "    def __init__(self, startDepth, endDepth, hardness1, hsuffix1, hardness2, hsuffix2, grainType, grainType1, grainSizeUnits1, grainSizeUnits2, grainSize, grainSuffix, grainSize1, grainSuffix1, waterContent, density1, density2, comments, layerNumber, fromTop):\n",
    "        self.startDepth=startDepth   \n",
    "        self.endDepth=endDepth\n",
    "        self.hardness1=hardness1\n",
    "        self.hsuffix1=hsuffix1\n",
    "        self.hardness2=hardness2\n",
    "        self.hsuffix2=hsuffix2\n",
    "        self.grainType=grainType\n",
    "        self.grainType1=grainType1\n",
    "        self.grainSizeUnits1=grainSizeUnits1\n",
    "        self.grainSizeUnits2=grainSizeUnits2\n",
    "        self.grainSize=grainSize\n",
    "        self.grainSuffix=grainSuffix\n",
    "        self.grainSize1=grainSize1\n",
    "        self.grainSuffix1=grainSuffix1\n",
    "        self.waterContent=waterContent\n",
    "        self.density1=density1\n",
    "        self.density2=density2\n",
    "        self.comments=comments\n",
    "        self.layerNumber=layerNumber\n",
    "        self.fromTop=fromTop\n",
    "                 \n",
    "\n"
   ]
  },
  {
   "cell_type": "code",
   "execution_count": 4,
   "metadata": {},
   "outputs": [],
   "source": [
    "# More promising approach\n",
    "\n",
    "## Create layer object from caaml file format\n",
    "class caaml_layer:\n",
    "    def __init__(self, depthTop_uom, depthTop, thickness_uom, thickness, grainFormPrimary, grainFormSecondary, hardness, wetness):\n",
    "        self.depthTop_uom=depthTop_uom\n",
    "        self.depthTop=depthTop\n",
    "        self.thickness_uom=thickness_uom\n",
    "        self.thickness=thickness\n",
    "        self.grainFormPrimary=grainFormPrimary\n",
    "        self.grainFormSecondary=grainFormSecondary\n",
    "        self.hardness=hardness\n",
    "        self.wetness=wetness\n",
    "\n",
    "## Convert to depth and thickness to cm\n",
    "def convert_to_cm(depthTop_uom, depthTop, thickness_uom, thickness):\n",
    "    if depthTop_uom == 'cm':\n",
    "        depthTop = depthTop\n",
    "    elif depthTop_uom == 'in':\n",
    "        depthTop = depthTop * 2.54\n",
    "\n",
    "    if thickness_uom == 'cm':\n",
    "        thickness = thickness\n",
    "    elif thickness_uom == 'in':\n",
    "        thickness = thickness * 2.54\n",
    "\n",
    "    return depthTop, thickness\n",
    "\n",
    "\n",
    "## Create dictionary for primary grain form\n",
    "## Reference: src/avscience/ppc/GrainTypeConvertor.java\n",
    "grainFormPrimaryDict = {\n",
    "    'PP': 'Precipitation particles',\n",
    "    'DF': 'Decomposing and fragmented precipitation particles',\n",
    "    'RG': 'Rounded grains',\n",
    "    'FC': 'Faceted crystals',\n",
    "    'DH': 'Depth hoar',\n",
    "    'SH': 'Surface hoar',\n",
    "    'MF': 'Melt forms',\n",
    "    'IF': 'Ice formations',\n",
    "    'MM': 'Machine made Snow'\n",
    "}\n",
    "\n",
    "## Create dictionary for secondary grain form\n",
    "## Reference: src/avscience/ppc/GrainTypeConvertor.java\n",
    "grainFormSecondaryDict = {\n",
    "    'PPgp': 'Graupel',\n",
    "    'PPco': 'Columns',\n",
    "    'PPpl': 'Plates',\n",
    "    'PPnd': 'Needles',\n",
    "    'PPsd': 'Stellars, Dendrites',\n",
    "    'PPir': 'Irregular crystals',\n",
    "    'PPip': 'Ice pellets',\n",
    "    'PPrm': 'Rime',\n",
    "    'DFdc': 'Partly decomposed precipitation particles',\n",
    "    'DFbk': 'Wind-broken precipitation particles',\n",
    "    'RGsr': 'Small rounded particles',\n",
    "    'RGlr': 'Large rounded particles',\n",
    "    'RGwp': 'Wind packed',\n",
    "    'RGxf': 'Faceted rounded particles',\n",
    "    'FCso': 'Solid faceted particles',\n",
    "    'FCsf': 'Near surface faceted particles',\n",
    "    'FCxr': 'Rounding faceted particles',\n",
    "    'DHcp': 'Hollow cups',\n",
    "    'DHpr': 'Hollow prisms',\n",
    "    'DHch': 'Chains of depth hoar',\n",
    "    'DHla': 'Large striated crystals',\n",
    "    'DHxr': 'Rounding depth hoar',\n",
    "    'SHsu': 'Surface hoar crystals',\n",
    "    'SHcv': 'Cavity or crevasse hoar',\n",
    "    'SHxr': 'Rounding surface hoar',\n",
    "    'MFcl': 'Clustered rounded grains',\n",
    "    'MFpc': 'Rounded polycrystals',\n",
    "    'MFsl': 'Slush',\n",
    "    'MFcr': 'Melt-freeze crust',\n",
    "    'IFil': 'Ice layer',\n",
    "    'IFic': 'Ice column',\n",
    "    'IFbi': 'Basal ice',\n",
    "    'IFrc': 'Rain crust',\n",
    "    'IFsc': 'Sun crust',\n",
    "    'MMrp': 'Round polycrystalline particles',\n",
    "    'MMci': 'Crushed ice particles',\n",
    "}\n",
    "\n",
    "## Create dictionary for hardness\n",
    "## Reference: src/avscience/ppc/Layer.java\n",
    "hardnessDict = {\n",
    "    'F': 'Fist',\n",
    "    '4F': '4 Fingers',\n",
    "    '1F': '1 Finger',\n",
    "    'P': 'Pencil',\n",
    "    'K': 'Knife',\n",
    "    'I': 'Ice'\n",
    "}\n",
    "\n",
    "## Create dictionary for wetness\n",
    "## Reference: src/avscience/ppc/GrainTypeConvertor.java\n",
    "wetnessDict = {\n",
    "    'D': 'Dry',\n",
    "    'M': 'Moist',\n",
    "    'W': 'Wet',\n",
    "    'U': 'Very wet'\n",
    "}"
   ]
  },
  {
   "cell_type": "code",
   "execution_count": 12,
   "metadata": {},
   "outputs": [
    {
     "name": "stdout",
     "output_type": "stream",
     "text": [
      "snowpits-66387-caaml.xml\n"
     ]
    }
   ],
   "source": [
    "## Read in data from caaml files\n",
    "\n",
    "# Define the path to snowpits folder\n",
    "folder_path = \"snowpits_200_MT\" # The latest 200 snow pits from MT\n",
    "\n",
    "# Create a list of all CAAML files in the folder\n",
    "caaml_files = [f for f in os.listdir(folder_path) if f.endswith('.xml')]\n",
    "\n",
    "#print(caaml_files)\n",
    "file1=caaml_files[0]\n",
    "print(file1)\n"
   ]
  },
  {
   "cell_type": "markdown",
   "metadata": {},
   "source": [
    "Read in data from 10 snow pits and create table showing how many layers there are of each crystal form. \n",
    "1. Histogram of primary and secondary grain forms\n",
    "2. Histogram of hardness\n",
    "3. Boxplot of primary gram form vs hardness\n",
    "4. Hardness vs wetness"
   ]
  },
  {
   "cell_type": "code",
   "execution_count": 79,
   "metadata": {},
   "outputs": [
    {
     "name": "stdout",
     "output_type": "stream",
     "text": [
      "\n",
      "Layer 1:\n",
      "DepthTop:  0\n",
      "Thickness:  8\n",
      "GrainFormPrimary:  DFbk\n",
      "Hardness:  F\n",
      "\n",
      "Layer 2:\n",
      "DepthTop:  8\n",
      "Thickness:  39\n",
      "GrainFormPrimary:  DFbk\n",
      "Hardness:  F+\n",
      "\n",
      "Layer 3:\n",
      "DepthTop:  47\n",
      "Thickness:  1\n",
      "GrainFormPrimary:  MFcr\n",
      "Hardness:  1F\n",
      "\n",
      "Layer 4:\n",
      "DepthTop:  48\n",
      "Thickness:  20\n",
      "GrainFormPrimary:  FCxr\n",
      "Hardness:  4F\n",
      "\n",
      "Layer 5:\n",
      "DepthTop:  23\n"
     ]
    }
   ],
   "source": [
    "## THIS IS WORKING\n",
    "# Try parsing w/minidom\n",
    "from xml.dom import minidom\n",
    "\n",
    "file_path = 'snowpits_200_MT/snowpits-66387-caaml.xml'\n",
    "doc = minidom.parse(file_path)\n",
    "root = doc.documentElement\n",
    "\n",
    "# Get all Layer nodes\n",
    "layers = root.getElementsByTagName('caaml:Layer')\n",
    "\n",
    "# Process each layer\n",
    "for i, layer in enumerate(layers, 1):\n",
    "    print(f\"\\nLayer {i}:\")\n",
    "\n",
    "    for j, node in enumerate(layer.childNodes):\n",
    "        #print(node.localName)\n",
    "        if node.localName == 'depthTop':\n",
    "            print(\"DepthTop: \", node.firstChild.nodeValue)\n",
    "        if node.localName == 'thickness':\n",
    "            print(\"Thickness: \", node.firstChild.nodeValue)\n",
    "        if node.localName == 'grainFormPrimary':\n",
    "            print(\"GrainFormPrimary: \", node.firstChild.nodeValue)\n",
    "        if node.localName == 'grainFormSecondary':\n",
    "            print(\"GrainFormSecondary: \", node.firstChild.nodeValue)\n",
    "        if node.localName == 'hardness':\n",
    "            print(\"Hardness: \", node.firstChild.nodeValue)\n",
    "        if node.localName == 'wetness':\n",
    "            print(\"Wetness: \", node.firstChild.nodeValue)\n",
    "    \n"
   ]
  }
 ],
 "metadata": {
  "kernelspec": {
   "display_name": ".venv",
   "language": "python",
   "name": "python3"
  },
  "language_info": {
   "codemirror_mode": {
    "name": "ipython",
    "version": 3
   },
   "file_extension": ".py",
   "mimetype": "text/x-python",
   "name": "python",
   "nbconvert_exporter": "python",
   "pygments_lexer": "ipython3",
   "version": "3.13.1"
  }
 },
 "nbformat": 4,
 "nbformat_minor": 2
}
