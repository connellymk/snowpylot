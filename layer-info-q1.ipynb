{
 "cells": [
  {
   "cell_type": "markdown",
   "metadata": {},
   "source": [
    "## Snowpit Layer Information - RQ1\n",
    "\n",
    " Create tables of value and qty for the following properties of layers in a group of snow pits\n",
    " \n",
    "\n",
    " **Done**\n",
    "* grainFormPrimary\n",
    "* grainFormSecondary\n",
    "* hardness\n",
    "\n",
    "**Possible**\n",
    "* depthTop\n",
    "* thickness\n",
    "* wetness\n",
    "\n",
    "Snow Pit Group 1: 200 snow pits from Montana\n",
    "\n",
    "folder: snowpits_200_MT\n"
   ]
  },
  {
   "cell_type": "code",
   "execution_count": 1,
   "metadata": {},
   "outputs": [],
   "source": [
    "# Import librarys\n",
    "import pandas as pd\n",
    "import numpy as np\n",
    "import matplotlib.pyplot as plt\n",
    "import seaborn as sns\n",
    "import os\n",
    "from xml.dom import minidom\n",
    "from Layer import Layer\n",
    "\n",
    "# Define the path to snowpits folder\n",
    "folder_path = \"snowpits_200_MT\" # The latest 200 snow pits from MT"
   ]
  },
  {
   "cell_type": "code",
   "execution_count": 2,
   "metadata": {},
   "outputs": [
    {
     "ename": "AttributeError",
     "evalue": "'Layer' object has no attribute 'set_grainClass'",
     "output_type": "error",
     "traceback": [
      "\u001b[1;31m---------------------------------------------------------------------------\u001b[0m",
      "\u001b[1;31mAttributeError\u001b[0m                            Traceback (most recent call last)",
      "Cell \u001b[1;32mIn[2], line 47\u001b[0m\n\u001b[0;32m     44\u001b[0m         wetness \u001b[38;5;241m=\u001b[39m node\u001b[38;5;241m.\u001b[39mfirstChild\u001b[38;5;241m.\u001b[39mnodeValue\n\u001b[0;32m     46\u001b[0m \u001b[38;5;66;03m# Create layer object\u001b[39;00m\n\u001b[1;32m---> 47\u001b[0m layer_i \u001b[38;5;241m=\u001b[39m \u001b[43mLayer\u001b[49m\u001b[43m(\u001b[49m\u001b[43mdepthTop\u001b[49m\u001b[43m,\u001b[49m\u001b[43mthickness\u001b[49m\u001b[43m,\u001b[49m\u001b[43mgrainFormPrimary\u001b[49m\u001b[43m,\u001b[49m\u001b[43mgrainFormSecondary\u001b[49m\u001b[43m,\u001b[49m\u001b[43mhardness\u001b[49m\u001b[43m,\u001b[49m\u001b[43mwetness\u001b[49m\u001b[43m)\u001b[49m\n\u001b[0;32m     48\u001b[0m layersList\u001b[38;5;241m.\u001b[39mappend(layer_i)\n",
      "File \u001b[1;32mc:\\Users\\Administrator\\Desktop\\SnowPilot Repo\\SnowPilotAnalytics\\Layer.py:11\u001b[0m, in \u001b[0;36mLayer.__init__\u001b[1;34m(self, depthTop, thickness, grainFormPrimary, grainFormSecondary, hardness, wetness)\u001b[0m\n\u001b[0;32m      9\u001b[0m \u001b[38;5;28mself\u001b[39m\u001b[38;5;241m.\u001b[39mthickness\u001b[38;5;241m=\u001b[39mthickness\n\u001b[0;32m     10\u001b[0m \u001b[38;5;28mself\u001b[39m\u001b[38;5;241m.\u001b[39mgrainFormPrimary\u001b[38;5;241m=\u001b[39mgrainFormPrimary\n\u001b[1;32m---> 11\u001b[0m \u001b[38;5;28mself\u001b[39m\u001b[38;5;241m.\u001b[39mgrainFormPrimary_grainClass \u001b[38;5;241m=\u001b[39m \u001b[38;5;28;43mself\u001b[39;49m\u001b[38;5;241;43m.\u001b[39;49m\u001b[43mset_grainClass\u001b[49m(\u001b[38;5;28mself\u001b[39m\u001b[38;5;241m.\u001b[39mgrainFormPrimary)\n\u001b[0;32m     12\u001b[0m \u001b[38;5;28mself\u001b[39m\u001b[38;5;241m.\u001b[39mgrainFormPrimary_grainSubClass\u001b[38;5;241m=\u001b[39m\u001b[38;5;28mself\u001b[39m\u001b[38;5;241m.\u001b[39mset_grainSubClass(\u001b[38;5;28mself\u001b[39m\u001b[38;5;241m.\u001b[39mgrainFormPrimary)\n\u001b[0;32m     13\u001b[0m \u001b[38;5;28mself\u001b[39m\u001b[38;5;241m.\u001b[39mgrainFormSecondary\u001b[38;5;241m=\u001b[39mgrainFormSecondary\n",
      "\u001b[1;31mAttributeError\u001b[0m: 'Layer' object has no attribute 'set_grainClass'"
     ]
    }
   ],
   "source": [
    "# iterate through caaml files and create list of layer objects\n",
    "# layerslist is a list of layer objects for all the layers in all the caaml files\n",
    "\n",
    "#caaml_parser in process\n",
    "\n",
    "layersList = [] # Initialize list of layer objects\n",
    "\n",
    "# Create a list of all CAAML files in the folder\n",
    "caaml_files = [f for f in os.listdir(folder_path) if f.endswith('.xml')] # List of all CAAML files in the folder\n",
    "\n",
    "# Iterate through each file\n",
    "for file in caaml_files:\n",
    "        \n",
    "        # Parse the file\n",
    "        file_path = folder_path + '/' + file\n",
    "        doc = minidom.parse(file_path)\n",
    "        root = doc.documentElement\n",
    "\n",
    "        # Get all Layer nodes\n",
    "        layers = root.getElementsByTagName('caaml:Layer')\n",
    "\n",
    "        # Process each layer\n",
    "        for layer in layers:\n",
    "            # Initialize layer object parameters\n",
    "            depthTop = None\n",
    "            thickness = None\n",
    "            grainFormPrimary = None\n",
    "            grainFormSecondary = None\n",
    "            hardness = None\n",
    "            wetness = None\n",
    "\n",
    "            for node in layer.childNodes:\n",
    "                if node.localName == 'depthTop':\n",
    "                    depthTop = node.firstChild.nodeValue                \n",
    "                if node.localName == 'thickness':\n",
    "                    thickness = node.firstChild.nodeValue\n",
    "                if node.localName == 'grainFormPrimary':\n",
    "                    grainFormPrimary = node.firstChild.nodeValue\n",
    "                if node.localName == 'grainFormSecondary':\n",
    "                    grainFormSecondary = node.firstChild.nodeValue\n",
    "                if node.localName == 'hardness':\n",
    "                    hardness = node.firstChild.nodeValue\n",
    "                if node.localName == 'wetness':\n",
    "                    wetness = node.firstChild.nodeValue\n",
    "\n",
    "            # Create layer object\n",
    "            layer_i = Layer(depthTop,thickness,grainFormPrimary,grainFormSecondary,hardness,wetness)\n",
    "            layersList.append(layer_i)\n",
    "    "
   ]
  },
  {
   "cell_type": "code",
   "execution_count": null,
   "metadata": {},
   "outputs": [],
   "source": [
    "layer1=layersList[1]\n",
    "print(layer1)\n",
    "print(vars(layer1))\n",
    "print(layer1.get_depthTop())\n",
    "#print(layer1.get_grainFormPrimaryClass())\n",
    "#print(layer1.get_grainFormPrimarySubClass())    "
   ]
  },
  {
   "cell_type": "code",
   "execution_count": null,
   "metadata": {},
   "outputs": [],
   "source": [
    "# Create a dataframe from the list of layer objects\n",
    "df = pd.DataFrame([vars(layer) for layer in layersList]) \n",
    "print(df)"
   ]
  },
  {
   "cell_type": "code",
   "execution_count": null,
   "metadata": {},
   "outputs": [],
   "source": [
    "# Create a value counts table for grainFormPrimary\n",
    "grain_form_table = df['grainFormPrimary'].value_counts().reset_index()\n",
    "grain_form_table.columns = ['Grain Form', 'Count']\n",
    "\n",
    "# Add percentage column\n",
    "grain_form_table['Percentage'] = (grain_form_table['Count'] / grain_form_table['Count'].sum() * 100).round(1)\n",
    "\n",
    "# Display the table\n",
    "print(\"\\nPrimary Grain Form Distribution:\")\n",
    "print(grain_form_table.to_string(index=False))\n",
    "\n",
    "#Create a bar plot\n",
    "plt.figure(figsize=(10, 6))\n",
    "plt.bar(grain_form_table['Grain Form'], grain_form_table['Count'])\n",
    "plt.xticks(rotation=45, ha='right')\n",
    "plt.title('Distribution of Primary Grain Forms for 200 MT Snow Pits')\n",
    "plt.xlabel('Grain Form')\n",
    "plt.ylabel('Count')\n",
    "plt.tight_layout()\n",
    "plt.show()"
   ]
  },
  {
   "cell_type": "code",
   "execution_count": null,
   "metadata": {},
   "outputs": [],
   "source": [
    "# Create a value counts table for hardness\n",
    "hardness_table = df['hardness'].value_counts().reset_index()\n",
    "hardness_table.columns = ['Hardness', 'Count']\n",
    "\n",
    "# Add percentage column\n",
    "hardness_table['Percentage'] = (hardness_table['Count'] / hardness_table['Count'].sum() * 100).round(1)\n",
    "\n",
    "# Display the table\n",
    "print(\"\\nHardness Distribution:\")\n",
    "print(hardness_table.to_string(index=False))\n",
    "\n",
    "#Create a bar plot\n",
    "plt.figure(figsize=(10, 6))\n",
    "plt.bar(hardness_table['Hardness'], hardness_table['Count'])\n",
    "plt.xticks(rotation=45, ha='right')\n",
    "plt.title('Distribution of Hardness for 200 MT Snow Pits')\n",
    "plt.xlabel('Hardness')\n",
    "plt.ylabel('Count')\n",
    "plt.tight_layout()\n",
    "plt.show()"
   ]
  },
  {
   "cell_type": "code",
   "execution_count": null,
   "metadata": {},
   "outputs": [],
   "source": [
    "# Create a crosstable\n",
    "crosstab = pd.crosstab(df['grainFormPrimary'], df['hardness'])\n",
    "\n",
    "# Create a heatmap  \n",
    "sns.heatmap(crosstab, annot=True, cmap=\"YlGnBu\")\n",
    "plt.show()"
   ]
  },
  {
   "cell_type": "code",
   "execution_count": null,
   "metadata": {},
   "outputs": [],
   "source": [
    "# Create a value counts table for grainFormSecondary\n",
    "grain_form_table = df['grainFormSecondary'].value_counts().reset_index()\n",
    "grain_form_table.columns = ['Grain Form', 'Count']\n",
    "\n",
    "# Add percentage column\n",
    "grain_form_table['Percentage'] = (grain_form_table['Count'] / grain_form_table['Count'].sum() * 100).round(1)\n",
    "\n",
    "# Display the table\n",
    "print(\"\\nPrimary Grain Form Distribution:\")\n",
    "print(grain_form_table.to_string(index=False))\n",
    "\n",
    "#Create a bar plot\n",
    "plt.figure(figsize=(10, 6))\n",
    "plt.bar(grain_form_table['Grain Form'], grain_form_table['Count'])\n",
    "plt.xticks(rotation=45, ha='right')\n",
    "plt.title('Distribution of Secondary Grain Forms for 200 MT Snow Pits')\n",
    "plt.xlabel('Grain Form')\n",
    "plt.ylabel('Count')\n",
    "plt.tight_layout()\n",
    "plt.show()"
   ]
  }
 ],
 "metadata": {
  "kernelspec": {
   "display_name": ".venv",
   "language": "python",
   "name": "python3"
  },
  "language_info": {
   "codemirror_mode": {
    "name": "ipython",
    "version": 3
   },
   "file_extension": ".py",
   "mimetype": "text/x-python",
   "name": "python",
   "nbconvert_exporter": "python",
   "pygments_lexer": "ipython3",
   "version": "3.13.1"
  }
 },
 "nbformat": 4,
 "nbformat_minor": 2
}
