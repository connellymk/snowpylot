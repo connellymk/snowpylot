{
 "cells": [
  {
   "cell_type": "markdown",
   "metadata": {},
   "source": [
    "Explore snowpyt\n",
    "https://github.com/ArcticSnow/snowpyt"
   ]
  },
  {
   "cell_type": "code",
   "execution_count": 3,
   "metadata": {},
   "outputs": [],
   "source": [
    "# import libraries\n",
    "import pandas as pd\n",
    "import numpy as np\n",
    "import matplotlib.pyplot as plt\n",
    "import seaborn as sns\n",
    "import xlrd\n",
    "import snowpyt\n"
   ]
  },
  {
   "cell_type": "code",
   "execution_count": 4,
   "metadata": {},
   "outputs": [
    {
     "name": "stderr",
     "output_type": "stream",
     "text": [
      "<>:5: SyntaxWarning: invalid escape sequence '\\s'\n",
      "<>:5: SyntaxWarning: invalid escape sequence '\\s'\n",
      "C:\\Users\\Administrator\\AppData\\Local\\Temp\\ipykernel_3240\\1554817210.py:5: SyntaxWarning: invalid escape sequence '\\s'\n",
      "  p.caaml_file= 'snowpits_200_MT\\snowpits-66387-caaml.xml'\n",
      "C:\\Users\\Administrator\\AppData\\Local\\Temp\\ipykernel_3240\\1554817210.py:5: SyntaxWarning: invalid escape sequence '\\s'\n",
      "  p.caaml_file= 'snowpits_200_MT\\snowpits-66387-caaml.xml'\n"
     ]
    },
    {
     "ename": "ImportError",
     "evalue": "cannot import name 'pit_class' from 'snowpyt' (c:\\Users\\Administrator\\Desktop\\SnowPilot Repo\\SnowPilotAnalytics\\snowpyt\\__init__.py)",
     "output_type": "error",
     "traceback": [
      "\u001b[1;31m---------------------------------------------------------------------------\u001b[0m",
      "\u001b[1;31mImportError\u001b[0m                               Traceback (most recent call last)",
      "Cell \u001b[1;32mIn[4], line 1\u001b[0m\n\u001b[1;32m----> 1\u001b[0m \u001b[38;5;28;01mfrom\u001b[39;00m \u001b[38;5;21;01msnowpyt\u001b[39;00m \u001b[38;5;28;01mimport\u001b[39;00m pit_class \u001b[38;5;28;01mas\u001b[39;00m pc\n\u001b[0;32m      3\u001b[0m \u001b[38;5;66;03m# Example 1 - using a caamlv6 file:\u001b[39;00m\n\u001b[0;32m      4\u001b[0m p \u001b[38;5;241m=\u001b[39m pc\u001b[38;5;241m.\u001b[39mSnowpit()\n",
      "\u001b[1;31mImportError\u001b[0m: cannot import name 'pit_class' from 'snowpyt' (c:\\Users\\Administrator\\Desktop\\SnowPilot Repo\\SnowPilotAnalytics\\snowpyt\\__init__.py)"
     ]
    }
   ],
   "source": [
    "from snowpyt import pit_class as pc\n",
    "\n",
    "# Example 1 - using a caamlv6 file:\n",
    "p = pc.Snowpit()\n",
    "p.caaml_file= 'snowpits_200_MT\\snowpits-66387-caaml.xml'\n",
    "p.import_caamlv6()\n",
    "p.plot(plot_order=['density', 'temperature', 'stratigraphy', 'hardness'])"
   ]
  }
 ],
 "metadata": {
  "kernelspec": {
   "display_name": ".venv",
   "language": "python",
   "name": "python3"
  },
  "language_info": {
   "codemirror_mode": {
    "name": "ipython",
    "version": 3
   },
   "file_extension": ".py",
   "mimetype": "text/x-python",
   "name": "python",
   "nbconvert_exporter": "python",
   "pygments_lexer": "ipython3",
   "version": "3.13.1"
  }
 },
 "nbformat": 4,
 "nbformat_minor": 2
}
