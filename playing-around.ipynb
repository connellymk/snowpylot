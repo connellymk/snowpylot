{
 "cells": [
  {
   "cell_type": "code",
   "execution_count": 1,
   "id": "e2557eea-661b-49fd-a2d5-b3094c9710e3",
   "metadata": {},
   "outputs": [
    {
     "name": "stdout",
     "output_type": "stream",
     "text": [
      "Hello World!\n"
     ]
    }
   ],
   "source": [
    "print('Hello World!') "
   ]
  },
  {
   "cell_type": "markdown",
   "id": "e98d5465",
   "metadata": {},
   "source": []
  },
  {
   "cell_type": "code",
   "execution_count": null,
   "id": "7b20a447",
   "metadata": {},
   "outputs": [],
   "source": [
    "## Don't need?\n",
    "class test_Layer:\n",
    "    # Translated from https://github.com/SnowpitData/AvscienceServer/blob/master/src/avscience/ppc/Layer.java\n",
    "    def __init__(self, startDepth, endDepth, hardness1, hsuffix1, hardness2, hsuffix2, grainType, grainType1, grainSizeUnits1, grainSizeUnits2, grainSize, grainSuffix, grainSize1, grainSuffix1, waterContent, density1, density2, comments, layerNumber, fromTop):\n",
    "        self.startDepth=startDepth   \n",
    "        self.endDepth=endDepth\n",
    "        self.hardness1=hardness1\n",
    "        self.hsuffix1=hsuffix1\n",
    "        self.hardness2=hardness2\n",
    "        self.hsuffix2=hsuffix2\n",
    "        self.grainType=grainType\n",
    "        self.grainType1=grainType1\n",
    "        self.grainSizeUnits1=grainSizeUnits1\n",
    "        self.grainSizeUnits2=grainSizeUnits2\n",
    "        self.grainSize=grainSize\n",
    "        self.grainSuffix=grainSuffix\n",
    "        self.grainSize1=grainSize1\n",
    "        self.grainSuffix1=grainSuffix1\n",
    "        self.waterContent=waterContent\n",
    "        self.density1=density1\n",
    "        self.density2=density2\n",
    "        self.comments=comments\n",
    "        self.layerNumber=layerNumber\n",
    "        self.fromTop=fromTop\n",
    "                 "
   ]
  },
  {
   "cell_type": "code",
   "execution_count": null,
   "id": "4d6d7976",
   "metadata": {},
   "outputs": [],
   "source": [
    "## Create dictionary for primary grain form\n",
    "## Reference: src/avscience/ppc/GrainTypeConvertor.java\n",
    "grainFormBasicClassDict = {\n",
    "    'PP': 'Precipitation particles',\n",
    "    'DF': 'Decomposing and fragmented precipitation particles',\n",
    "    'RG': 'Rounded grains',\n",
    "    'FC': 'Faceted crystals',\n",
    "    'DH': 'Depth hoar',\n",
    "    'SH': 'Surface hoar',\n",
    "    'MF': 'Melt forms',\n",
    "    'IF': 'Ice formations',\n",
    "    'MM': 'Machine made Snow'\n",
    "}\n",
    "\n",
    "## Create dictionary for secondary grain form\n",
    "## Reference: src/avscience/ppc/GrainTypeConvertor.java\n",
    "grainFormSubClassDict = {\n",
    "    'PPgp': 'Graupel',\n",
    "    'PPco': 'Columns',\n",
    "    'PPpl': 'Plates',\n",
    "    'PPnd': 'Needles',\n",
    "    'PPsd': 'Stellars, Dendrites',\n",
    "    'PPir': 'Irregular crystals',\n",
    "    'PPip': 'Ice pellets',\n",
    "    'PPrm': 'Rime',\n",
    "    'DFdc': 'Partly decomposed precipitation particles',\n",
    "    'DFbk': 'Wind-broken precipitation particles',\n",
    "    'RGsr': 'Small rounded particles',\n",
    "    'RGlr': 'Large rounded particles',\n",
    "    'RGwp': 'Wind packed',\n",
    "    'RGxf': 'Faceted rounded particles',\n",
    "    'FCso': 'Solid faceted particles',\n",
    "    'FCsf': 'Near surface faceted particles',\n",
    "    'FCxr': 'Rounding faceted particles',\n",
    "    'DHcp': 'Hollow cups',\n",
    "    'DHpr': 'Hollow prisms',\n",
    "    'DHch': 'Chains of depth hoar',\n",
    "    'DHla': 'Large striated crystals',\n",
    "    'DHxr': 'Rounding depth hoar',\n",
    "    'SHsu': 'Surface hoar crystals',\n",
    "    'SHcv': 'Cavity or crevasse hoar',\n",
    "    'SHxr': 'Rounding surface hoar',\n",
    "    'MFcl': 'Clustered rounded grains',\n",
    "    'MFpc': 'Rounded polycrystals',\n",
    "    'MFsl': 'Slush',\n",
    "    'MFcr': 'Melt-freeze crust',\n",
    "    'IFil': 'Ice layer',\n",
    "    'IFic': 'Ice column',\n",
    "    'IFbi': 'Basal ice',\n",
    "    'IFrc': 'Rain crust',\n",
    "    'IFsc': 'Sun crust',\n",
    "    'MMrp': 'Round polycrystalline particles',\n",
    "    'MMci': 'Crushed ice particles',\n",
    "}\n",
    "\n",
    "## Create dictionary for hardness\n",
    "## Reference: src/avscience/ppc/Layer.java\n",
    "hardnessDict = {\n",
    "    'F': 'Fist',\n",
    "    '4F': '4 Fingers',\n",
    "    '1F': '1 Finger',\n",
    "    'P': 'Pencil',\n",
    "    'K': 'Knife',\n",
    "    'I': 'Ice'\n",
    "}\n",
    "\n",
    "## Create dictionary for wetness\n",
    "## Reference: src/avscience/ppc/GrainTypeConvertor.java\n",
    "wetnessDict = {\n",
    "    'D': 'Dry',\n",
    "    'M': 'Moist',\n",
    "    'W': 'Wet',\n",
    "    'U': 'Very wet'\n",
    "}"
   ]
  }
 ],
 "metadata": {
  "kernelspec": {
   "display_name": "Python 3 (ipykernel)",
   "language": "python",
   "name": "python3"
  },
  "language_info": {
   "codemirror_mode": {
    "name": "ipython",
    "version": 3
   },
   "file_extension": ".py",
   "mimetype": "text/x-python",
   "name": "python",
   "nbconvert_exporter": "python",
   "pygments_lexer": "ipython3",
   "version": "3.13.1"
  }
 },
 "nbformat": 4,
 "nbformat_minor": 5
}
