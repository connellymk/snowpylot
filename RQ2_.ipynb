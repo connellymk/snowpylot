{
 "cells": [
  {
   "cell_type": "markdown",
   "metadata": {},
   "source": [
    "**Research Question 2**\n",
    "\n",
    "How often is a Q1 fracture associated with an ECTP on the same layer?\n",
    "\n",
    "## General Process\n",
    "1. load files\n",
    "2. Optional: Find pits with properties of interest\n",
    "3. Create a list of dictionaries of properties of interest\n",
    "4. Create a dataframe from the list of dictionaries\n",
    "\n",
    "*Question: In the case of multiple CT and ECT results, which results should be used?*\n",
    "* Do any tests\n",
    "\n",
    "\n",
    "* Do any ECTs and CTs have P and Q1 on the same layer?\n",
    "    If yes, then correlation\n",
    "\n",
    "\n",
    "* Are ECTP and Q1 failure on the same layer?\n",
    "* If multiple CTs, are they all the same shear quality?\n",
    "\n",
    "\n",
    "*STEPS*\n",
    "1. find pits with ECTP and CT with shear quality results\n",
    "2. Find tests with failure on the same layer\n",
    "3. If multiple of either test, select test with lowest fracture character\n",
    "\n",
    "*FIRST QUESTION*\n",
    "* Of pits that have ECTP results and CT results with Shear quality. When failure occurs on the same layer, how often (pie chart and/or percentage table) is the fracture character of the CT Q1?\n",
    "\n",
    "\n",
    "\n",
    "\n",
    "\n",
    "\n"
   ]
  },
  {
   "cell_type": "code",
   "execution_count": 8,
   "metadata": {},
   "outputs": [],
   "source": [
    "# Load files\n",
    "import os\n",
    "import pandas as pd\n",
    "import matplotlib.pyplot as plt\n",
    "from caaml_parser import caaml_parser\n",
    "\n",
    "folder_path = \"snowpits_200_MT\" # The latest 200 snow pits from MT\n",
    "\n",
    "# Create a list of all CAAML files in the folder\n",
    "caaml_files = [f for f in os.listdir(folder_path) if f.endswith('.xml')] # List of all CAAML files in the folder"
   ]
  },
  {
   "cell_type": "code",
   "execution_count": 2,
   "metadata": {},
   "outputs": [
    {
     "name": "stdout",
     "output_type": "stream",
     "text": [
      "55\n"
     ]
    }
   ],
   "source": [
    "# Find pits with CT and ECT results\n",
    "\n",
    "pits_with_CT_ECT = []\n",
    "\n",
    "for file in caaml_files:\n",
    "    file_path = folder_path + '/' + file\n",
    "    pit = caaml_parser(file_path)\n",
    "\n",
    "    if len(pit.stabilityTests.CT) > 0 and len(pit.stabilityTests.ECT) > 0:\n",
    "        pits_with_CT_ECT.append(pit)\n",
    "\n",
    "\n",
    "print(len(pits_with_CT_ECT)) ## How many pits have CT and ECT results?"
   ]
  },
  {
   "cell_type": "code",
   "execution_count": 7,
   "metadata": {},
   "outputs": [
    {
     "name": "stdout",
     "output_type": "stream",
     "text": [
      "    PitID ECT Score ECT Prop CT Shear Qual\n",
      "0     NaN       NaN      NaN           NaN\n",
      "1   66408    ECTP18     True            Q2\n",
      "2   66408    ECTP18     True            Q2\n",
      "3   66408    ECTP18     True            Q2\n",
      "4   66408    ECTP18     True            Q2\n",
      "5   66670    ECTP15     True           BRK\n",
      "6   66672    ECTP12     True           BRK\n",
      "7   66672    ECTP12     True           BRK\n",
      "8   66733    ECTP14     True            Q2\n",
      "9   66733    ECTP14     True            Q2\n",
      "10  66733    ECTP14     True            Q2\n",
      "11  66733    ECTP14     True            Q2\n",
      "12  66733    ECTP14     True            Q2\n",
      "13  66733    ECTP14     True            Q2\n",
      "14  66932    ECTP30     True            Q2\n",
      "15  66932    ECTP30     True            Q2\n",
      "16  66932    ECTP30     True            Q2\n",
      "17  66932    ECTP30     True            Q2\n",
      "18  66932    ECTP30     True            Q2\n",
      "19  66932    ECTP30     True            Q2\n",
      "20  66932    ECTP30     True            Q2\n",
      "21  66932    ECTP30     True            Q2\n",
      "22  66932    ECTP30     True            Q2\n",
      "23  66932    ECTP30     True            Q2\n",
      "24  66932    ECTP30     True            Q2\n",
      "25  67563    ECTP21     True            Q1\n",
      "26  67563    ECTP21     True            Q1\n",
      "27  67563    ECTP21     True            Q1\n",
      "28  67563    ECTP21     True            Q1\n",
      "29  67563    ECTP21     True            Q1\n",
      "30  67563    ECTP21     True            Q1\n",
      "31  67803    ECTP15     True            Q2\n",
      "32  67803    ECTP15     True            Q2\n",
      "33  67803    ECTP15     True            Q2\n",
      "34  67803    ECTP15     True            Q2\n",
      "35  67803    ECTP15     True            Q2\n",
      "36  67803    ECTP15     True            Q2\n",
      "37  68121     ECTP9     True            Q1\n",
      "38  68121     ECTP9     True            Q1\n",
      "39  68121     ECTP9     True            Q1\n",
      "40  68121     ECTP9     True            Q1\n",
      "41  68121     ECTP9     True            Q1\n",
      "42  68121     ECTP9     True            Q1\n",
      "43  68121     ECTP9     True            Q1\n",
      "44  68777    ECTP27     True            Q2\n",
      "45  68777    ECTP27     True            Q2\n",
      "46  68777    ECTP27     True            Q2\n",
      "47  69019    ECTP20     True            Q1\n",
      "48  69019    ECTP20     True            Q1\n",
      "49  69019    ECTP20     True            Q1\n",
      "50  69019    ECTP20     True            Q1\n",
      "51  69692    ECTP26     True            SP\n",
      "52  69692    ECTP26     True            SP\n",
      "53  69692    ECTP26     True            SP\n",
      "54  69692    ECTP26     True            SP\n"
     ]
    }
   ],
   "source": [
    "# ECT and CT results\n",
    "\n",
    "results_list=[]\n",
    "results_dict={}\n",
    "\n",
    "for pit in pits_with_CT_ECT:\n",
    "\n",
    "    ECTs = pit.stabilityTests.ECT\n",
    "    CTs = pit.stabilityTests.CT\n",
    "\n",
    "    for ect in ECTs:\n",
    "        for ct in CTs:\n",
    "            if(ect.depthTop == ct.depthTop and ect.propogation == True): # If failure on the same level and ECT has propogation\n",
    "                results_dict ={\n",
    "                    'PitID': pit.pitID,\n",
    "                    'ECT Score': ect.testScore,\n",
    "                    'CT Shear Qual': ct.shearQuality\n",
    "                }\n",
    "\n",
    "    results_list.append(results_dict)\n",
    "\n",
    "df = pd.DataFrame(results_list)\n",
    "\n",
    "print(df)\n"
   ]
  },
  {
   "cell_type": "code",
   "execution_count": 11,
   "metadata": {},
   "outputs": [
    {
     "data": {
      "image/png": "[encoded data removed]",
      "text/plain": [
       "<Figure size 1000x800 with 1 Axes>"
      ]
     },
     "metadata": {},
     "output_type": "display_data"
    },
    {
     "name": "stdout",
     "output_type": "stream",
     "text": [
      "\n",
      "Shear Quality Distribution:\n",
      "CT Shear Qual\n",
      "Q2     30\n",
      "Q1     17\n",
      "SP      4\n",
      "BRK     3\n",
      "Name: count, dtype: int64\n",
      "\n",
      "Percentages:\n",
      "CT Shear Qual\n",
      "Q2     54.5\n",
      "Q1     30.9\n",
      "SP      7.3\n",
      "BRK     5.5\n",
      "Name: count, dtype: float64\n"
     ]
    }
   ],
   "source": [
    "import matplotlib.pyplot as plt\n",
    "\n",
    "# Calculate value counts for ShearQual\n",
    "shear_counts = df['CT Shear Qual'].value_counts()\n",
    "\n",
    "# Create pie chart\n",
    "plt.figure(figsize=(10, 8))\n",
    "plt.pie(shear_counts.values, \n",
    "        labels=shear_counts.index,\n",
    "        autopct='%1.1f%%',  # Show percentages with 1 decimal place\n",
    "        startangle=90)      # Rotate start of pie to 90 degrees\n",
    "\n",
    "# Add title\n",
    "plt.title('Distribution of Shear Quality Results', pad=20)\n",
    "\n",
    "# Equal aspect ratio ensures that pie is drawn as a circle\n",
    "plt.axis('equal')\n",
    "\n",
    "# Show the plot\n",
    "plt.show()\n",
    "\n",
    "# Optional: Print the actual counts and percentages\n",
    "print(\"\\nShear Quality Distribution:\")\n",
    "print(shear_counts)\n",
    "print(\"\\nPercentages:\")\n",
    "print((shear_counts/len(df['CT Shear Qual'])*100).round(1))"
   ]
  }
 ],
 "metadata": {
  "kernelspec": {
   "display_name": ".venv",
   "language": "python",
   "name": "python3"
  },
  "language_info": {
   "codemirror_mode": {
    "name": "ipython",
    "version": 3
   },
   "file_extension": ".py",
   "mimetype": "text/x-python",
   "name": "python",
   "nbconvert_exporter": "python",
   "pygments_lexer": "ipython3",
   "version": "3.13.2"
  }
 },
 "nbformat": 4,
 "nbformat_minor": 2
}
