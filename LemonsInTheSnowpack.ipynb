{
 "cells": [
  {
   "cell_type": "markdown",
   "metadata": {},
   "source": [
    "Identify snowpits with \"Lemons\" and compare stability test results\n",
    "\n",
    "**What are we considering the \"Weak Layer\"?**\n",
    "In this case: The weak layer is defined as the layer of failure "
   ]
  },
  {
   "cell_type": "code",
   "execution_count": 1,
   "metadata": {},
   "outputs": [
    {
     "name": "stdout",
     "output_type": "stream",
     "text": [
      "pit1\n",
      "SnowPit: \n",
      " caamlVersion: {http://caaml.org/Schemas/SnowProfileIACS/v6.0.3} \n",
      " pitID: 66387 \n",
      " Date: 2024-11-06 \n",
      " User:\n",
      "    Organization: None\n",
      "    Affiliation: None\n",
      "    Role: None\n",
      "    Name: None\n",
      "    UserID: None\n",
      " Location:\n",
      "    Latitude: 45.819852\n",
      "    Longitude: -110.928698\n",
      "    Elevation: ['2532', 'm']\n",
      "    Aspect: ['E', None]\n",
      "    SlopeAngle: ['31', 'deg']\n",
      "    Country: US\n",
      "    Region: MT\n",
      " Snow Profile: \n",
      "    measurementDirection: top down\n",
      "    profileDepth: [68.0, 'cm']\n",
      "    hS: [68.0, 'cm']\n",
      "    surfCond: \n",
      "\t windLoading: None\n",
      "\t penetrationFoot: None\n",
      "\t penetrationSki: None\n",
      "    Layers:\n",
      "    Layer 1: \n",
      "\t depthTop: ['0', 'cm']\n",
      "\t thickness: ['8', 'cm']\n",
      "\t grainFormPrimary: DFbk\n",
      "\t hardness: F\n",
      "\t wetness: None\n",
      "\t layerOfConcern: None\n",
      "\t grainFormPrimary_Class: DF\n",
      "    Layer 2: \n",
      "\t depthTop: ['8', 'cm']\n",
      "\t thickness: ['39', 'cm']\n",
      "\t grainFormPrimary: DFbk\n",
      "\t hardness: F+\n",
      "\t wetness: None\n",
      "\t layerOfConcern: None\n",
      "\t grainFormPrimary_Class: DF\n",
      "    Layer 3: \n",
      "\t depthTop: ['47', 'cm']\n",
      "\t thickness: ['1', 'cm']\n",
      "\t grainFormPrimary: MFcr\n",
      "\t hardness: 1F\n",
      "\t wetness: None\n",
      "\t layerOfConcern: true\n",
      "\t grainFormPrimary_Class: MF\n",
      "    Layer 4: \n",
      "\t depthTop: ['48', 'cm']\n",
      "\t thickness: ['20', 'cm']\n",
      "\t grainFormPrimary: FCxr\n",
      "\t hardness: 4F\n",
      "\t wetness: None\n",
      "\t layerOfConcern: None\n",
      "\t grainFormPrimary_Class: FC\n",
      "    Layer 5: \n",
      "\t depthTop: ['23', 'cm']\n",
      "\t thickness: None\n",
      "\t grainFormPrimary: None\n",
      "\t hardness: None\n",
      "\t wetness: None\n",
      "\t layerOfConcern: None\n",
      "\t grainFormPrimary_Class: None\n",
      "    tempProfile:\n",
      "    layers_of_concern: [] \n",
      " Stability Tests: \n",
      "    ExtColumnTest 1: \n",
      "\t failure: None\n",
      "\t depthTop: [23.0, 'cm']\n",
      "\t comment: None\n",
      "\t testScore: ECTN7 \n"
     ]
    }
   ],
   "source": [
    "import os\n",
    "import pandas as pd\n",
    "import numpy as np\n",
    "import matplotlib.pyplot as plt\n",
    "import seaborn as sns\n",
    "\n",
    "from caaml_parser import caaml_parser"
   ]
  },
  {
   "cell_type": "code",
   "execution_count": 2,
   "metadata": {},
   "outputs": [],
   "source": [
    "# Load files\n",
    "\n",
    "folder_path = \"snowpits_200_MT\" # The latest 200 snow pits from MT\n",
    "\n",
    "# Create a list of all CAAML files in the folder\n",
    "caaml_files = [f for f in os.listdir(folder_path) if f.endswith('.xml')] # List of all CAAML files in the folder"
   ]
  },
  {
   "cell_type": "code",
   "execution_count": 5,
   "metadata": {},
   "outputs": [],
   "source": [
    "# Create list of snowpit objects with an identified layer of concern\n",
    "pits = []\n",
    "\n",
    "for file in caaml_files:\n",
    "    pit = caaml_parser(os.path.join(folder_path, file))\n",
    "    if pit.snowProfile.layers_of_concern != []:\n",
    "        print(pit.pitID)\n",
    "        print(pit.snowProfile.layers_of_concern)\n"
   ]
  },
  {
   "cell_type": "code",
   "execution_count": 4,
   "metadata": {},
   "outputs": [],
   "source": [
    "# Lemon 1\n",
    "# Depth of the failure plane\n",
    "# Weak layer is <= 1m\n",
    "\n",
    "# Is the identified layer of concern <= 1m deep?\n",
    "for pit in pits:\n",
    "    #if pit.snowProfile\n",
    "\n",
    "\n"
   ]
  },
  {
   "cell_type": "code",
   "execution_count": 5,
   "metadata": {},
   "outputs": [],
   "source": [
    "# Lemon 2\n",
    "# Weak Layer thickness\n"
   ]
  },
  {
   "cell_type": "code",
   "execution_count": 6,
   "metadata": {},
   "outputs": [],
   "source": [
    "# Lemon 3\n",
    "# Hardness Transition (More than 1 step different between layer above and below)\n"
   ]
  },
  {
   "cell_type": "code",
   "execution_count": 7,
   "metadata": {},
   "outputs": [],
   "source": [
    "# Lemon 4\n",
    "# Grain type"
   ]
  },
  {
   "cell_type": "code",
   "execution_count": 8,
   "metadata": {},
   "outputs": [],
   "source": [
    "# Lemon 5\n",
    "# Grain size\n"
   ]
  }
 ],
 "metadata": {
  "kernelspec": {
   "display_name": ".venv",
   "language": "python",
   "name": "python3"
  },
  "language_info": {
   "codemirror_mode": {
    "name": "ipython",
    "version": 3
   },
   "file_extension": ".py",
   "mimetype": "text/x-python",
   "name": "python",
   "nbconvert_exporter": "python",
   "pygments_lexer": "ipython3",
   "version": "3.13.2"
  }
 },
 "nbformat": 4,
 "nbformat_minor": 2
}
