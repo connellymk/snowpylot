{
 "cells": [
  {
   "cell_type": "code",
   "execution_count": 14,
   "id": "8224105c",
   "metadata": {},
   "outputs": [
    {
     "name": "stdout",
     "output_type": "stream",
     "text": [
      "=== Environment Check ===\n",
      "✅ Environment variables are set!\n",
      "   SNOWPILOT_USER: katisthebatis\n",
      "   SNOWPILOT_PASSWORD: ******************\n",
      "\n",
      "=== Imports ===\n",
      "✅ pandas imported successfully\n",
      "✅ snowpylot imported successfully\n",
      "✅ SnowPilotSession imported successfully\n",
      "\n",
      "=== Testing Authentication ===\n"
     ]
    },
    {
     "name": "stderr",
     "output_type": "stream",
     "text": [
      "ERROR:snowpylot.query_engine:Authentication failed with status 403\n"
     ]
    },
    {
     "name": "stdout",
     "output_type": "stream",
     "text": [
      "❌ Authentication failed - please check your credentials\n"
     ]
    }
   ],
   "source": [
    "import os\n",
    "\n",
    "# Test environment setup\n",
    "print(\"=== Environment Check ===\")\n",
    "user = os.environ.get('SNOWPILOT_USER')\n",
    "password = os.environ.get('SNOWPILOT_PASSWORD')\n",
    "\n",
    "if user and password:\n",
    "    print('✅ Environment variables are set!')\n",
    "    print(f'   SNOWPILOT_USER: {user}')\n",
    "    print(f'   SNOWPILOT_PASSWORD: {\"*\" * len(password)}')\n",
    "else:\n",
    "    print('❌ Environment variables not set!')\n",
    "\n",
    "print(\"\\n=== Imports ===\")\n",
    "try:\n",
    "    import pandas as pd\n",
    "    print('✅ pandas imported successfully')\n",
    "    \n",
    "    import snowpylot\n",
    "    print('✅ snowpylot imported successfully')\n",
    "    \n",
    "    from snowpylot.query_engine import SnowPilotSession\n",
    "    print('✅ SnowPilotSession imported successfully')\n",
    "    \n",
    "    print('\\n=== Testing Authentication ===')\n",
    "    session = SnowPilotSession()\n",
    "    if session.authenticate():\n",
    "        print('✅ Authentication successful!')\n",
    "    else:\n",
    "        print('❌ Authentication failed - please check your credentials')\n",
    "        \n",
    "except ImportError as e:\n",
    "    print(f'❌ Import error: {e}')\n",
    "except Exception as e:\n",
    "    print(f'❌ Error: {e}')\n"
   ]
  },
  {
   "cell_type": "code",
   "execution_count": null,
   "id": "c068acea",
   "metadata": {},
   "outputs": [
    {
     "name": "stdout",
     "output_type": "stream",
     "text": [
      "=== Environment Check ===\n",
      "✅ Environment variables are set!\n",
      "   SNOWPILOT_USER: katisthebatis\n",
      "   SNOWPILOT_PASSWORD: ******************\n",
      "\n",
      "=== Imports ===\n",
      "✅ pandas imported successfully\n",
      "✅ snowpylot imported successfully\n",
      "✅ SnowPilotSession imported successfully\n",
      "\n",
      "=== Testing Authentication ===\n"
     ]
    },
    {
     "name": "stderr",
     "output_type": "stream",
     "text": [
      "ERROR:snowpylot.query_engine:Authentication failed with status 403\n"
     ]
    },
    {
     "name": "stdout",
     "output_type": "stream",
     "text": [
      "❌ Authentication failed - please check your credentials\n"
     ]
    }
   ],
   "source": [
    "import os\n",
    "\n",
    "# Test environment setup\n",
    "print(\"=== Environment Check ===\")\n",
    "user = os.environ.get('SNOWPILOT_USER')\n",
    "password = os.environ.get('SNOWPILOT_PASSWORD')\n",
    "\n",
    "if user and password:\n",
    "    print('✅ Environment variables are set!')\n",
    "    print(f'   SNOWPILOT_USER: {user}')\n",
    "    print(f'   SNOWPILOT_PASSWORD: {\"*\" * len(password)}')\n",
    "else:\n",
    "    print('❌ Environment variables not set!')\n",
    "\n",
    "print(\"\\n=== Imports ===\")\n",
    "try:\n",
    "    import pandas as pd\n",
    "    print('✅ pandas imported successfully')\n",
    "    \n",
    "    import snowpylot\n",
    "    print('✅ snowpylot imported successfully')\n",
    "    \n",
    "    from snowpylot.query_engine import SnowPilotSession\n",
    "    print('✅ SnowPilotSession imported successfully')\n",
    "    \n",
    "    print('\\n=== Testing Authentication ===')\n",
    "    session = SnowPilotSession()\n",
    "    if session.authenticate():\n",
    "        print('✅ Authentication successful!')\n",
    "    else:\n",
    "        print('❌ Authentication failed - please check your credentials')\n",
    "        \n",
    "except ImportError as e:\n",
    "    print(f'❌ Import error: {e}')\n",
    "except Exception as e:\n",
    "    print(f'❌ Error: {e}')\n"
   ]
  },
  {
   "cell_type": "code",
   "execution_count": 7,
   "id": "c5a28c96",
   "metadata": {},
   "outputs": [
    {
     "name": "stdout",
     "output_type": "stream",
     "text": [
      "=== Initializing Query Engine ===\n",
      "✓ Query engine initialized\n",
      "  Data path: data/test_downloads\n",
      "  Supported states: ['MT', 'CO', 'WY', 'UT', 'ID', 'WA', 'OR', 'CA', 'AK', 'NH', 'VT', 'ME', 'NY']\n",
      "\n",
      "=== Setting up test date ranges ===\n",
      "Today: 2025-07-09\n",
      "7 days ago: 2025-07-02\n",
      "30 days ago: 2025-06-09\n"
     ]
    }
   ],
   "source": [
    "# Initialize the Query Engine\n",
    "\n",
    "print(\"=== Initializing Query Engine ===\")\n",
    "\n",
    "# Import required modules\n",
    "from datetime import datetime, timedelta\n",
    "from snowpylot.query_engine import QueryEngine, QueryFilter, SnowPilotSession\n",
    "from snowpylot.query_engine import (\n",
    "    preview_by_date_range, \n",
    "    query_by_date_range, \n",
    "    query_by_pit_id,\n",
    "    query_by_organization,\n",
    "    query_by_location\n",
    ")\n",
    "\n",
    "# Initialize the query engine with a custom data path\n",
    "engine = QueryEngine(pits_path=\"data/test_downloads\")\n",
    "\n",
    "print(f\"✓ Query engine initialized\")\n",
    "print(f\"  Data path: {engine.pits_path}\")\n",
    "print(f\"  Supported states: {list(engine.query_builder.supported_states.keys())}\")\n",
    "\n",
    "# Set up date ranges for testing\n",
    "print(\"\\n=== Setting up test date ranges ===\")\n",
    "today = datetime.now()\n",
    "end_date = today.strftime(\"%Y-%m-%d\")\n",
    "start_date_7d = (today - timedelta(days=7)).strftime(\"%Y-%m-%d\")\n",
    "start_date_30d = (today - timedelta(days=30)).strftime(\"%Y-%m-%d\")\n",
    "\n",
    "print(f\"Today: {end_date}\")\n",
    "print(f\"7 days ago: {start_date_7d}\")\n",
    "print(f\"30 days ago: {start_date_30d}\")\n"
   ]
  },
  {
   "cell_type": "code",
   "execution_count": 8,
   "id": "1aa77ca1",
   "metadata": {},
   "outputs": [
    {
     "name": "stderr",
     "output_type": "stream",
     "text": [
      "INFO:snowpylot.query_engine:Previewing query with filter: QueryFilter(pit_id=None, pit_name=None, date_start='2025-07-02', date_end='2025-07-09', country=None, state='MT', region=None, user_id=None, username=None, organization_id=None, organization_name=None, elevation_min=None, elevation_max=None, aspect=None, per_page=1000)\n"
     ]
    },
    {
     "name": "stdout",
     "output_type": "stream",
     "text": [
      "=== Test 1: Preview Functionality ===\n",
      "Query filter: 2025-07-02 to 2025-07-09, state: MT\n",
      "\n",
      "--- Previewing Query ---\n"
     ]
    },
    {
     "name": "stderr",
     "output_type": "stream",
     "text": [
      "INFO:snowpylot.query_engine:Successfully authenticated with snowpilot.org\n",
      "WARNING:snowpylot.query_engine:Preview request failed with status 200\n",
      "INFO:snowpylot.query_engine:Previewing query with filter: QueryFilter(pit_id=None, pit_name=None, date_start='2025-06-09', date_end='2025-07-09', country=None, state='CO', region=None, user_id=None, username=None, organization_id=None, organization_name=None, elevation_min=None, elevation_max=None, aspect=None, per_page=1000)\n",
      "WARNING:snowpylot.query_engine:Preview request failed with status 200\n",
      "INFO:snowpylot.query_engine:Previewing query with filter: QueryFilter(pit_id=None, pit_name=None, date_start='2025-07-02', date_end='2025-07-09', country=None, state='MT', region=None, user_id=None, username=None, organization_id=None, organization_name=None, elevation_min=2000, elevation_max=None, aspect=None, per_page=1000)\n",
      "WARNING:snowpylot.query_engine:Preview request failed with status 200\n",
      "INFO:snowpylot.query_engine:Previewing query with filter: QueryFilter(pit_id=None, pit_name=None, date_start='2019-01-01', date_end='2019-01-31', country=None, state='MT', region=None, user_id=None, username=None, organization_id=None, organization_name=None, elevation_min=None, elevation_max=None, aspect=None, per_page=1000)\n"
     ]
    },
    {
     "name": "stdout",
     "output_type": "stream",
     "text": [
      "✓ Preview successful!\n",
      "  Estimated pits: 0\n",
      "  Query details:\n",
      "    Date range: 2025-07-02 to 2025-07-09\n",
      "    State: MT\n",
      "    Format: CAAML\n",
      "\n",
      "--- Formatted Preview ---\n",
      "Query Preview:\n",
      "  Estimated pits: 0\n",
      "  Date range: 2025-07-02 to 2025-07-09\n",
      "  State: MT\n",
      "  Organization: Any\n",
      "  Elevation: Any - Anym\n",
      "  Format: CAAML\n",
      "\n",
      "--- Testing Different Preview Parameters ---\n",
      "\n",
      "Test 1: CO, 2025-06-09 to 2025-07-09\n",
      "  → 0 pits estimated\n",
      "\n",
      "Test 2: MT, 2025-07-02 to 2025-07-09\n",
      "  Elevation min: 2000m\n",
      "  → 0 pits estimated\n",
      "\n",
      "Test 3: MT, 2019-01-01 to 2019-01-31\n"
     ]
    },
    {
     "name": "stderr",
     "output_type": "stream",
     "text": [
      "INFO:snowpylot.query_engine:Preview found approximately 0 pits\n"
     ]
    },
    {
     "name": "stdout",
     "output_type": "stream",
     "text": [
      "  → 0 pits estimated\n"
     ]
    }
   ],
   "source": [
    "# Test 1: Preview Functionality (NEW FEATURE)\n",
    "\n",
    "print(\"=== Test 1: Preview Functionality ===\")\n",
    "\n",
    "# Create a simple query filter\n",
    "query_filter = QueryFilter(\n",
    "    date_start=start_date_7d,\n",
    "    date_end=end_date,\n",
    "    state=\"MT\"\n",
    ")\n",
    "\n",
    "print(f\"Query filter: {query_filter.date_start} to {query_filter.date_end}, state: {query_filter.state}\")\n",
    "\n",
    "# Preview the query first\n",
    "print(\"\\n--- Previewing Query ---\")\n",
    "try:\n",
    "    preview = engine.preview_query(query_filter)\n",
    "    print(f\"✓ Preview successful!\")\n",
    "    print(f\"  Estimated pits: {preview.estimated_count}\")\n",
    "    print(f\"  Query details:\")\n",
    "    print(f\"    Date range: {preview.query_filter.date_start} to {preview.query_filter.date_end}\")\n",
    "    print(f\"    State: {preview.query_filter.state}\")\n",
    "    print(f\"    Format: {preview.preview_info.get('format', 'Unknown')}\")\n",
    "    \n",
    "    # Show the formatted preview\n",
    "    print(f\"\\n--- Formatted Preview ---\")\n",
    "    print(preview)\n",
    "    \n",
    "except Exception as e:\n",
    "    print(f\"❌ Preview failed: {e}\")\n",
    "    print(\"This is expected if not connected to snowpilot.org or credentials not set\")\n",
    "\n",
    "# Test preview with different parameters\n",
    "print(\"\\n--- Testing Different Preview Parameters ---\")\n",
    "test_filters = [\n",
    "    QueryFilter(date_start=start_date_30d, date_end=end_date, state=\"CO\"),\n",
    "    QueryFilter(date_start=start_date_7d, date_end=end_date, state=\"MT\", elevation_min=2000),\n",
    "    QueryFilter(date_start=\"2019-01-01\", date_end=\"2019-01-31\", state=\"MT\")  # Larger range\n",
    "]\n",
    "\n",
    "for i, filter_obj in enumerate(test_filters, 1):\n",
    "    print(f\"\\nTest {i}: {filter_obj.state}, {filter_obj.date_start} to {filter_obj.date_end}\")\n",
    "    if filter_obj.elevation_min:\n",
    "        print(f\"  Elevation min: {filter_obj.elevation_min}m\")\n",
    "    \n",
    "    try:\n",
    "        preview = engine.preview_query(filter_obj)\n",
    "        print(f\"  → {preview.estimated_count} pits estimated\")\n",
    "    except Exception as e:\n",
    "        print(f\"  → Error: {e}\")\n"
   ]
  },
  {
   "cell_type": "code",
   "execution_count": 9,
   "id": "873b5c0a",
   "metadata": {},
   "outputs": [
    {
     "name": "stderr",
     "output_type": "stream",
     "text": [
      "INFO:snowpylot.query_engine:Querying pits with filter: QueryFilter(pit_id=None, pit_name=None, date_start='2025-07-02', date_end='2025-07-09', country=None, state='MT', region=None, user_id=None, username=None, organization_id=None, organization_name=None, elevation_min=None, elevation_max=None, aspect=None, per_page=1000)\n",
      "INFO:snowpylot.query_engine:Previewing query with filter: QueryFilter(pit_id=None, pit_name=None, date_start='2025-07-02', date_end='2025-07-09', country=None, state='MT', region=None, user_id=None, username=None, organization_id=None, organization_name=None, elevation_min=None, elevation_max=None, aspect=None, per_page=1000)\n",
      "WARNING:snowpylot.query_engine:Preview request failed with status 200\n"
     ]
    },
    {
     "name": "stdout",
     "output_type": "stream",
     "text": [
      "=== Test 2: Approval System ===\n",
      "\n",
      "--- Test 2a: Small Query (Auto-Approve) ---\n",
      "Query: MT, 2025-07-02 to 2025-07-09\n",
      "This query should auto-approve if < 100 pits\n",
      "Preview: Will download approximately 0 pits\n"
     ]
    },
    {
     "name": "stderr",
     "output_type": "stream",
     "text": [
      "WARNING:snowpylot.query_engine:CAAML download failed with status 403\n",
      "INFO:snowpylot.query_engine:Querying pits with filter: QueryFilter(pit_id=None, pit_name=None, date_start='2025-07-02', date_end='2025-07-09', country=None, state='MT', region=None, user_id=None, username=None, organization_id=None, organization_name=None, elevation_min=None, elevation_max=None, aspect=None, per_page=1000)\n",
      "INFO:snowpylot.query_engine:Previewing query with filter: QueryFilter(pit_id=None, pit_name=None, date_start='2025-07-02', date_end='2025-07-09', country=None, state='MT', region=None, user_id=None, username=None, organization_id=None, organization_name=None, elevation_min=None, elevation_max=None, aspect=None, per_page=1000)\n",
      "WARNING:snowpylot.query_engine:Preview request failed with status 200\n",
      "WARNING:snowpylot.query_engine:CAAML download failed with status 403\n",
      "INFO:snowpylot.query_engine:Querying pits with filter: QueryFilter(pit_id=None, pit_name=None, date_start='2025-07-02', date_end='2025-07-09', country=None, state='MT', region=None, user_id=None, username=None, organization_id=None, organization_name=None, elevation_min=None, elevation_max=None, aspect=None, per_page=1000)\n",
      "INFO:snowpylot.query_engine:Previewing query with filter: QueryFilter(pit_id=None, pit_name=None, date_start='2025-07-02', date_end='2025-07-09', country=None, state='MT', region=None, user_id=None, username=None, organization_id=None, organization_name=None, elevation_min=None, elevation_max=None, aspect=None, per_page=1000)\n"
     ]
    },
    {
     "name": "stdout",
     "output_type": "stream",
     "text": [
      "✓ Query completed successfully\n",
      "  Downloaded: 0 pits\n",
      "  Preview estimate: 0 pits\n",
      "  Saved to: N/A\n",
      "\n",
      "--- Test 2b: Custom Approval Threshold ---\n",
      "Testing with approval_threshold=10 (should require approval for most queries)\n",
      "Preview: Will download approximately 0 pits\n",
      "✓ Query completed\n",
      "  Downloaded: 0 pits\n",
      "\n",
      "--- Test 2c: Auto-Approve ---\n",
      "Testing with auto_approve=True (should skip approval prompt)\n"
     ]
    },
    {
     "name": "stderr",
     "output_type": "stream",
     "text": [
      "WARNING:snowpylot.query_engine:Preview request failed with status 200\n",
      "WARNING:snowpylot.query_engine:CAAML download failed with status 403\n"
     ]
    },
    {
     "name": "stdout",
     "output_type": "stream",
     "text": [
      "✓ Auto-approved query completed\n",
      "  Downloaded: 0 pits\n",
      "\n",
      "--- Approval System Summary ---\n",
      "The approval system:\n",
      "• Previews queries automatically before download\n",
      "• Prompts user for approval when pit count > threshold\n",
      "• Shows warnings for very large downloads (>1000 pits)\n",
      "• Allows users to cancel downloads\n",
      "• Can be bypassed with auto_approve=True\n"
     ]
    }
   ],
   "source": [
    "# Test 2: Approval System (NEW FEATURE)\n",
    "\n",
    "print(\"=== Test 2: Approval System ===\")\n",
    "\n",
    "# Test small query (should auto-approve)\n",
    "print(\"\\n--- Test 2a: Small Query (Auto-Approve) ---\")\n",
    "small_query = QueryFilter(\n",
    "    date_start=start_date_7d,\n",
    "    date_end=end_date,\n",
    "    state=\"MT\"\n",
    ")\n",
    "\n",
    "print(f\"Query: {small_query.state}, {small_query.date_start} to {small_query.date_end}\")\n",
    "print(\"This query should auto-approve if < 100 pits\")\n",
    "\n",
    "try:\n",
    "    result = engine.query_pits(small_query, auto_approve=False, approval_threshold=100)\n",
    "    \n",
    "    if result.download_info.get('status') == 'cancelled':\n",
    "        print(\"❌ Query was cancelled by user\")\n",
    "    else:\n",
    "        print(f\"✓ Query completed successfully\")\n",
    "        print(f\"  Downloaded: {result.total_count} pits\")\n",
    "        if result.preview:\n",
    "            print(f\"  Preview estimate: {result.preview.estimated_count} pits\")\n",
    "        print(f\"  Saved to: {result.download_info.get('saved_file', 'N/A')}\")\n",
    "    \n",
    "except Exception as e:\n",
    "    print(f\"❌ Query failed: {e}\")\n",
    "\n",
    "# Test with different approval thresholds\n",
    "print(\"\\n--- Test 2b: Custom Approval Threshold ---\")\n",
    "print(\"Testing with approval_threshold=10 (should require approval for most queries)\")\n",
    "\n",
    "try:\n",
    "    # This should trigger approval prompt if > 10 pits\n",
    "    result = engine.query_pits(small_query, auto_approve=False, approval_threshold=10)\n",
    "    \n",
    "    if result.download_info.get('status') == 'cancelled':\n",
    "        print(\"❌ Query was cancelled by user\")\n",
    "    else:\n",
    "        print(f\"✓ Query completed\")\n",
    "        print(f\"  Downloaded: {result.total_count} pits\")\n",
    "        \n",
    "except Exception as e:\n",
    "    print(f\"❌ Query failed: {e}\")\n",
    "\n",
    "# Test auto-approve\n",
    "print(\"\\n--- Test 2c: Auto-Approve ---\")\n",
    "print(\"Testing with auto_approve=True (should skip approval prompt)\")\n",
    "\n",
    "try:\n",
    "    result = engine.query_pits(small_query, auto_approve=True)\n",
    "    print(f\"✓ Auto-approved query completed\")\n",
    "    print(f\"  Downloaded: {result.total_count} pits\")\n",
    "    \n",
    "except Exception as e:\n",
    "    print(f\"❌ Query failed: {e}\")\n",
    "\n",
    "print(\"\\n--- Approval System Summary ---\")\n",
    "print(\"The approval system:\")\n",
    "print(\"• Previews queries automatically before download\")\n",
    "print(\"• Prompts user for approval when pit count > threshold\")\n",
    "print(\"• Shows warnings for very large downloads (>1000 pits)\")\n",
    "print(\"• Allows users to cancel downloads\")\n",
    "print(\"• Can be bypassed with auto_approve=True\")\n"
   ]
  },
  {
   "cell_type": "code",
   "execution_count": 10,
   "id": "1db17226",
   "metadata": {},
   "outputs": [
    {
     "name": "stderr",
     "output_type": "stream",
     "text": [
      "INFO:snowpylot.query_engine:Previewing query with filter: QueryFilter(pit_id=None, pit_name=None, date_start='2025-06-09', date_end='2025-07-09', country=None, state='CO', region=None, user_id=None, username=None, organization_id=None, organization_name=None, elevation_min=None, elevation_max=None, aspect=None, per_page=1000)\n",
      "WARNING:snowpylot.query_engine:Preview request failed with status 200\n",
      "INFO:snowpylot.query_engine:Querying pits with filter: QueryFilter(pit_id=None, pit_name=None, date_start='2025-06-09', date_end='2025-07-09', country=None, state='CO', region=None, user_id=None, username=None, organization_id=None, organization_name=None, elevation_min=None, elevation_max=None, aspect=None, per_page=1000)\n",
      "INFO:snowpylot.query_engine:Previewing query with filter: QueryFilter(pit_id=None, pit_name=None, date_start='2025-06-09', date_end='2025-07-09', country=None, state='CO', region=None, user_id=None, username=None, organization_id=None, organization_name=None, elevation_min=None, elevation_max=None, aspect=None, per_page=1000)\n",
      "WARNING:snowpylot.query_engine:Preview request failed with status 200\n"
     ]
    },
    {
     "name": "stdout",
     "output_type": "stream",
     "text": [
      "=== Test 3: Various Filter Combinations ===\n",
      "\n",
      "--- Test 3a: By State and Date Range ---\n",
      "Filter parameters:\n",
      "  date_start: 2025-06-09\n",
      "  date_end: 2025-07-09\n",
      "  state: CO\n",
      "Preview: 0 pits estimated\n",
      "  → Small query, attempting download...\n"
     ]
    },
    {
     "name": "stderr",
     "output_type": "stream",
     "text": [
      "WARNING:snowpylot.query_engine:CAAML download failed with status 403\n",
      "INFO:snowpylot.query_engine:Previewing query with filter: QueryFilter(pit_id=None, pit_name=None, date_start='2025-06-09', date_end='2025-07-09', country=None, state='MT', region=None, user_id=None, username=None, organization_id=None, organization_name=None, elevation_min=2000, elevation_max=3000, aspect=None, per_page=1000)\n",
      "WARNING:snowpylot.query_engine:Preview request failed with status 200\n",
      "INFO:snowpylot.query_engine:Querying pits with filter: QueryFilter(pit_id=None, pit_name=None, date_start='2025-06-09', date_end='2025-07-09', country=None, state='MT', region=None, user_id=None, username=None, organization_id=None, organization_name=None, elevation_min=2000, elevation_max=3000, aspect=None, per_page=1000)\n",
      "INFO:snowpylot.query_engine:Previewing query with filter: QueryFilter(pit_id=None, pit_name=None, date_start='2025-06-09', date_end='2025-07-09', country=None, state='MT', region=None, user_id=None, username=None, organization_id=None, organization_name=None, elevation_min=2000, elevation_max=3000, aspect=None, per_page=1000)\n",
      "WARNING:snowpylot.query_engine:Preview request failed with status 200\n"
     ]
    },
    {
     "name": "stdout",
     "output_type": "stream",
     "text": [
      "  → Downloaded: 0 pits\n",
      "\n",
      "--- Test 3b: By Elevation Range ---\n",
      "Filter parameters:\n",
      "  date_start: 2025-06-09\n",
      "  date_end: 2025-07-09\n",
      "  state: MT\n",
      "  elevation_min: 2000\n",
      "  elevation_max: 3000\n",
      "Preview: 0 pits estimated\n",
      "  → Small query, attempting download...\n"
     ]
    },
    {
     "name": "stderr",
     "output_type": "stream",
     "text": [
      "WARNING:snowpylot.query_engine:CAAML download failed with status 403\n",
      "INFO:snowpylot.query_engine:Previewing query with filter: QueryFilter(pit_id=None, pit_name=None, date_start='2025-06-09', date_end='2025-07-09', country=None, state=None, region=None, user_id=None, username=None, organization_id=None, organization_name='Avalanche Center', elevation_min=None, elevation_max=None, aspect=None, per_page=1000)\n",
      "INFO:snowpylot.query_engine:Preview found approximately 0 pits\n"
     ]
    },
    {
     "name": "stdout",
     "output_type": "stream",
     "text": [
      "  → Downloaded: 0 pits\n",
      "\n",
      "--- Test 3c: By Organization ---\n",
      "Filter parameters:\n",
      "  date_start: 2025-06-09\n",
      "  date_end: 2025-07-09\n",
      "  organization_name: Avalanche Center\n"
     ]
    },
    {
     "name": "stderr",
     "output_type": "stream",
     "text": [
      "INFO:snowpylot.query_engine:Querying pits with filter: QueryFilter(pit_id=None, pit_name=None, date_start='2025-06-09', date_end='2025-07-09', country=None, state=None, region=None, user_id=None, username=None, organization_id=None, organization_name='Avalanche Center', elevation_min=None, elevation_max=None, aspect=None, per_page=1000)\n",
      "INFO:snowpylot.query_engine:Previewing query with filter: QueryFilter(pit_id=None, pit_name=None, date_start='2025-06-09', date_end='2025-07-09', country=None, state=None, region=None, user_id=None, username=None, organization_id=None, organization_name='Avalanche Center', elevation_min=None, elevation_max=None, aspect=None, per_page=1000)\n",
      "INFO:snowpylot.query_engine:Preview found approximately 0 pits\n"
     ]
    },
    {
     "name": "stdout",
     "output_type": "stream",
     "text": [
      "Preview: 0 pits estimated\n",
      "  → Small query, attempting download...\n"
     ]
    },
    {
     "name": "stderr",
     "output_type": "stream",
     "text": [
      "WARNING:snowpylot.query_engine:CAAML download failed with status 403\n",
      "INFO:snowpylot.query_engine:Previewing query with filter: QueryFilter(pit_id=None, pit_name=None, date_start='2019-01-01', date_end='2019-12-31', country=None, state=None, region=None, user_id=None, username='benschmidt5', organization_id=None, organization_name=None, elevation_min=None, elevation_max=None, aspect=None, per_page=1000)\n"
     ]
    },
    {
     "name": "stdout",
     "output_type": "stream",
     "text": [
      "  → Downloaded: 0 pits\n",
      "\n",
      "--- Test 3d: By Username ---\n",
      "Filter parameters:\n",
      "  date_start: 2019-01-01\n",
      "  date_end: 2019-12-31\n",
      "  username: benschmidt5\n"
     ]
    },
    {
     "name": "stderr",
     "output_type": "stream",
     "text": [
      "INFO:snowpylot.query_engine:Preview found approximately 0 pits\n",
      "INFO:snowpylot.query_engine:Querying pits with filter: QueryFilter(pit_id=None, pit_name=None, date_start='2019-01-01', date_end='2019-12-31', country=None, state=None, region=None, user_id=None, username='benschmidt5', organization_id=None, organization_name=None, elevation_min=None, elevation_max=None, aspect=None, per_page=1000)\n",
      "INFO:snowpylot.query_engine:Previewing query with filter: QueryFilter(pit_id=None, pit_name=None, date_start='2019-01-01', date_end='2019-12-31', country=None, state=None, region=None, user_id=None, username='benschmidt5', organization_id=None, organization_name=None, elevation_min=None, elevation_max=None, aspect=None, per_page=1000)\n"
     ]
    },
    {
     "name": "stdout",
     "output_type": "stream",
     "text": [
      "Preview: 0 pits estimated\n",
      "  → Small query, attempting download...\n"
     ]
    },
    {
     "name": "stderr",
     "output_type": "stream",
     "text": [
      "INFO:snowpylot.query_engine:Preview found approximately 0 pits\n",
      "WARNING:snowpylot.query_engine:CAAML download failed with status 403\n",
      "INFO:snowpylot.query_engine:Previewing query with filter: QueryFilter(pit_id=None, pit_name=None, date_start='2025-06-09', date_end='2025-07-09', country=None, state='MT', region=None, user_id=None, username=None, organization_id=None, organization_name=None, elevation_min=None, elevation_max=None, aspect='N', per_page=1000)\n",
      "WARNING:snowpylot.query_engine:Preview request failed with status 200\n",
      "INFO:snowpylot.query_engine:Querying pits with filter: QueryFilter(pit_id=None, pit_name=None, date_start='2025-06-09', date_end='2025-07-09', country=None, state='MT', region=None, user_id=None, username=None, organization_id=None, organization_name=None, elevation_min=None, elevation_max=None, aspect='N', per_page=1000)\n",
      "INFO:snowpylot.query_engine:Previewing query with filter: QueryFilter(pit_id=None, pit_name=None, date_start='2025-06-09', date_end='2025-07-09', country=None, state='MT', region=None, user_id=None, username=None, organization_id=None, organization_name=None, elevation_min=None, elevation_max=None, aspect='N', per_page=1000)\n",
      "WARNING:snowpylot.query_engine:Preview request failed with status 200\n"
     ]
    },
    {
     "name": "stdout",
     "output_type": "stream",
     "text": [
      "  → Downloaded: 0 pits\n",
      "\n",
      "--- Test 3e: By Aspect ---\n",
      "Filter parameters:\n",
      "  date_start: 2025-06-09\n",
      "  date_end: 2025-07-09\n",
      "  state: MT\n",
      "  aspect: N\n",
      "Preview: 0 pits estimated\n",
      "  → Small query, attempting download...\n"
     ]
    },
    {
     "name": "stderr",
     "output_type": "stream",
     "text": [
      "WARNING:snowpylot.query_engine:CAAML download failed with status 403\n",
      "INFO:snowpylot.query_engine:Previewing query with filter: QueryFilter(pit_id=None, pit_name=None, date_start='2025-06-09', date_end='2025-07-09', country=None, state='MT', region=None, user_id=None, username=None, organization_id=None, organization_name='Montana', elevation_min=2500, elevation_max=None, aspect='N', per_page=1000)\n",
      "WARNING:snowpylot.query_engine:Preview request failed with status 200\n",
      "INFO:snowpylot.query_engine:Querying pits with filter: QueryFilter(pit_id=None, pit_name=None, date_start='2025-06-09', date_end='2025-07-09', country=None, state='MT', region=None, user_id=None, username=None, organization_id=None, organization_name='Montana', elevation_min=2500, elevation_max=None, aspect='N', per_page=1000)\n",
      "INFO:snowpylot.query_engine:Previewing query with filter: QueryFilter(pit_id=None, pit_name=None, date_start='2025-06-09', date_end='2025-07-09', country=None, state='MT', region=None, user_id=None, username=None, organization_id=None, organization_name='Montana', elevation_min=2500, elevation_max=None, aspect='N', per_page=1000)\n",
      "WARNING:snowpylot.query_engine:Preview request failed with status 200\n"
     ]
    },
    {
     "name": "stdout",
     "output_type": "stream",
     "text": [
      "  → Downloaded: 0 pits\n",
      "\n",
      "--- Test 3f: Complex Multi-Filter ---\n",
      "Filter parameters:\n",
      "  date_start: 2025-06-09\n",
      "  date_end: 2025-07-09\n",
      "  state: MT\n",
      "  elevation_min: 2500\n",
      "  organization_name: Montana\n",
      "  aspect: N\n",
      "Preview: 0 pits estimated\n",
      "  → Small query, attempting download...\n"
     ]
    },
    {
     "name": "stderr",
     "output_type": "stream",
     "text": [
      "WARNING:snowpylot.query_engine:CAAML download failed with status 403\n"
     ]
    },
    {
     "name": "stdout",
     "output_type": "stream",
     "text": [
      "  → Downloaded: 0 pits\n",
      "\n",
      "--- Filter Combination Summary ---\n",
      "The query engine supports filtering by:\n",
      "• Date range (date_start, date_end)\n",
      "• Location (country, state, region)\n",
      "• Elevation (elevation_min, elevation_max)\n",
      "• User (user_id, username)\n",
      "• Organization (organization_id, organization_name)\n",
      "• Pit details (pit_id, pit_name)\n",
      "• Terrain (aspect)\n",
      "• Any combination of the above!\n"
     ]
    }
   ],
   "source": [
    "# Test 3: Various Filter Combinations\n",
    "\n",
    "print(\"=== Test 3: Various Filter Combinations ===\")\n",
    "\n",
    "# Test different filter combinations\n",
    "test_cases = [\n",
    "    {\n",
    "        \"name\": \"By State and Date Range\",\n",
    "        \"filter\": QueryFilter(\n",
    "            date_start=start_date_30d,\n",
    "            date_end=end_date,\n",
    "            state=\"CO\"\n",
    "        )\n",
    "    },\n",
    "    {\n",
    "        \"name\": \"By Elevation Range\",\n",
    "        \"filter\": QueryFilter(\n",
    "            date_start=start_date_30d,\n",
    "            date_end=end_date,\n",
    "            state=\"MT\",\n",
    "            elevation_min=2000,\n",
    "            elevation_max=3000\n",
    "        )\n",
    "    },\n",
    "    {\n",
    "        \"name\": \"By Organization\",\n",
    "        \"filter\": QueryFilter(\n",
    "            date_start=start_date_30d,\n",
    "            date_end=end_date,\n",
    "            organization_name=\"Avalanche Center\"\n",
    "        )\n",
    "    },\n",
    "    {\n",
    "        \"name\": \"By Username\",\n",
    "        \"filter\": QueryFilter(\n",
    "            date_start=\"2019-01-01\",\n",
    "            date_end=\"2019-12-31\",\n",
    "            username=\"benschmidt5\"\n",
    "        )\n",
    "    },\n",
    "    {\n",
    "        \"name\": \"By Aspect\",\n",
    "        \"filter\": QueryFilter(\n",
    "            date_start=start_date_30d,\n",
    "            date_end=end_date,\n",
    "            state=\"MT\",\n",
    "            aspect=\"N\"\n",
    "        )\n",
    "    },\n",
    "    {\n",
    "        \"name\": \"Complex Multi-Filter\",\n",
    "        \"filter\": QueryFilter(\n",
    "            date_start=start_date_30d,\n",
    "            date_end=end_date,\n",
    "            state=\"MT\",\n",
    "            elevation_min=2500,\n",
    "            aspect=\"N\",\n",
    "            organization_name=\"Montana\"\n",
    "        )\n",
    "    }\n",
    "]\n",
    "\n",
    "for i, test_case in enumerate(test_cases, 1):\n",
    "    print(f\"\\n--- Test 3{chr(96+i)}: {test_case['name']} ---\")\n",
    "    \n",
    "    filter_obj = test_case['filter']\n",
    "    \n",
    "    # Show filter details\n",
    "    print(\"Filter parameters:\")\n",
    "    for attr in ['date_start', 'date_end', 'state', 'elevation_min', 'elevation_max', \n",
    "                 'organization_name', 'username', 'aspect']:\n",
    "        value = getattr(filter_obj, attr, None)\n",
    "        if value is not None:\n",
    "            print(f\"  {attr}: {value}\")\n",
    "    \n",
    "    # Preview the query\n",
    "    try:\n",
    "        preview = engine.preview_query(filter_obj)\n",
    "        print(f\"Preview: {preview.estimated_count} pits estimated\")\n",
    "        \n",
    "        # Only actually download if it's a small query\n",
    "        if preview.estimated_count <= 50:\n",
    "            print(\"  → Small query, attempting download...\")\n",
    "            result = engine.query_pits(filter_obj, auto_approve=True)\n",
    "            print(f\"  → Downloaded: {result.total_count} pits\")\n",
    "        else:\n",
    "            print(\"  → Large query, skipping download in test\")\n",
    "            \n",
    "    except Exception as e:\n",
    "        print(f\"  → Error: {e}\")\n",
    "\n",
    "print(\"\\n--- Filter Combination Summary ---\")\n",
    "print(\"The query engine supports filtering by:\")\n",
    "print(\"• Date range (date_start, date_end)\")\n",
    "print(\"• Location (country, state, region)\")\n",
    "print(\"• Elevation (elevation_min, elevation_max)\")\n",
    "print(\"• User (user_id, username)\")\n",
    "print(\"• Organization (organization_id, organization_name)\")\n",
    "print(\"• Pit details (pit_id, pit_name)\")\n",
    "print(\"• Terrain (aspect)\")\n",
    "print(\"• Any combination of the above!\")\n"
   ]
  },
  {
   "cell_type": "code",
   "execution_count": 11,
   "id": "c65c2d96",
   "metadata": {},
   "outputs": [
    {
     "name": "stderr",
     "output_type": "stream",
     "text": [
      "INFO:snowpylot.query_engine:Previewing query with filter: QueryFilter(pit_id=None, pit_name=None, date_start='2025-07-02', date_end='2025-07-09', country=None, state='MT', region=None, user_id=None, username=None, organization_id=None, organization_name=None, elevation_min=None, elevation_max=None, aspect=None, per_page=1000)\n"
     ]
    },
    {
     "name": "stdout",
     "output_type": "stream",
     "text": [
      "=== Test 4: Convenience Functions ===\n",
      "\n",
      "--- Test 4a: preview_by_date_range ---\n"
     ]
    },
    {
     "name": "stderr",
     "output_type": "stream",
     "text": [
      "INFO:snowpylot.query_engine:Successfully authenticated with snowpilot.org\n",
      "WARNING:snowpylot.query_engine:Preview request failed with status 200\n",
      "INFO:snowpylot.query_engine:Querying pits with filter: QueryFilter(pit_id=None, pit_name=None, date_start='2025-07-02', date_end='2025-07-09', country=None, state='CO', region=None, user_id=None, username=None, organization_id=None, organization_name=None, elevation_min=None, elevation_max=None, aspect=None, per_page=1000)\n",
      "INFO:snowpylot.query_engine:Previewing query with filter: QueryFilter(pit_id=None, pit_name=None, date_start='2025-07-02', date_end='2025-07-09', country=None, state='CO', region=None, user_id=None, username=None, organization_id=None, organization_name=None, elevation_min=None, elevation_max=None, aspect=None, per_page=1000)\n"
     ]
    },
    {
     "name": "stdout",
     "output_type": "stream",
     "text": [
      "✓ Preview: 0 pits from Montana\n",
      "  Date range: 2025-07-02 to 2025-07-09\n",
      "\n",
      "--- Test 4b: query_by_date_range ---\n"
     ]
    },
    {
     "name": "stderr",
     "output_type": "stream",
     "text": [
      "ERROR:snowpylot.query_engine:Authentication failed with status 403\n",
      "ERROR:snowpylot.query_engine:Authentication failed with status 403\n",
      "INFO:snowpylot.query_engine:Querying pits with filter: QueryFilter(pit_id='13720', pit_name=None, date_start=None, date_end=None, country=None, state=None, region=None, user_id=None, username=None, organization_id=None, organization_name=None, elevation_min=None, elevation_max=None, aspect=None, per_page=1000)\n",
      "INFO:snowpylot.query_engine:Previewing query with filter: QueryFilter(pit_id='13720', pit_name=None, date_start='2025-07-02', date_end='2025-07-09', country=None, state=None, region=None, user_id=None, username=None, organization_id=None, organization_name=None, elevation_min=None, elevation_max=None, aspect=None, per_page=1000)\n"
     ]
    },
    {
     "name": "stdout",
     "output_type": "stream",
     "text": [
      "✓ Query: 0 pits from Colorado\n",
      "  Preview estimate: 0 pits\n",
      "\n",
      "--- Test 4c: query_by_pit_id ---\n"
     ]
    },
    {
     "name": "stderr",
     "output_type": "stream",
     "text": [
      "ERROR:snowpylot.query_engine:Authentication failed with status 403\n",
      "ERROR:snowpylot.query_engine:Authentication failed with status 403\n",
      "INFO:snowpylot.query_engine:Querying pits with filter: QueryFilter(pit_id=None, pit_name=None, date_start='2025-06-09', date_end='2025-07-09', country=None, state=None, region=None, user_id=None, username=None, organization_id=None, organization_name='Montana Avalanche Center', elevation_min=None, elevation_max=None, aspect=None, per_page=1000)\n",
      "INFO:snowpylot.query_engine:Previewing query with filter: QueryFilter(pit_id=None, pit_name=None, date_start='2025-06-09', date_end='2025-07-09', country=None, state=None, region=None, user_id=None, username=None, organization_id=None, organization_name='Montana Avalanche Center', elevation_min=None, elevation_max=None, aspect=None, per_page=1000)\n"
     ]
    },
    {
     "name": "stdout",
     "output_type": "stream",
     "text": [
      "✓ Query: 0 pits found for ID 13720\n",
      "\n",
      "--- Test 4d: query_by_organization ---\n"
     ]
    },
    {
     "name": "stderr",
     "output_type": "stream",
     "text": [
      "ERROR:snowpylot.query_engine:Authentication failed with status 403\n",
      "ERROR:snowpylot.query_engine:Authentication failed with status 403\n",
      "INFO:snowpylot.query_engine:Querying pits with filter: QueryFilter(pit_id=None, pit_name=None, date_start=None, date_end=None, country='US', state='MT', region=None, user_id=None, username=None, organization_id=None, organization_name=None, elevation_min=2000, elevation_max=3000, aspect=None, per_page=1000)\n",
      "INFO:snowpylot.query_engine:Previewing query with filter: QueryFilter(pit_id=None, pit_name=None, date_start='2025-07-02', date_end='2025-07-09', country='US', state='MT', region=None, user_id=None, username=None, organization_id=None, organization_name=None, elevation_min=2000, elevation_max=3000, aspect=None, per_page=1000)\n"
     ]
    },
    {
     "name": "stdout",
     "output_type": "stream",
     "text": [
      "✓ Query: 0 pits from Montana Avalanche Center\n",
      "\n",
      "--- Test 4e: query_by_location ---\n"
     ]
    },
    {
     "name": "stderr",
     "output_type": "stream",
     "text": [
      "ERROR:snowpylot.query_engine:Authentication failed with status 403\n",
      "ERROR:snowpylot.query_engine:Authentication failed with status 403\n"
     ]
    },
    {
     "name": "stdout",
     "output_type": "stream",
     "text": [
      "✓ Query: 0 pits from Montana, 2000-3000m elevation\n",
      "\n",
      "--- Convenience Functions Summary ---\n",
      "Available convenience functions:\n",
      "• preview_by_date_range() - Preview date range queries\n",
      "• query_by_date_range() - Query by date range\n",
      "• query_by_pit_id() - Query specific pit (auto-approved)\n",
      "• query_by_organization() - Query by organization\n",
      "• query_by_location() - Query by location parameters\n",
      "• All functions support auto_approve parameter\n"
     ]
    }
   ],
   "source": [
    "# Test 4: Convenience Functions\n",
    "\n",
    "print(\"=== Test 4: Convenience Functions ===\")\n",
    "\n",
    "# Test the convenience functions\n",
    "print(\"\\n--- Test 4a: preview_by_date_range ---\")\n",
    "try:\n",
    "    preview = preview_by_date_range(start_date_7d, end_date, state=\"MT\")\n",
    "    print(f\"✓ Preview: {preview.estimated_count} pits from Montana\")\n",
    "    print(f\"  Date range: {preview.query_filter.date_start} to {preview.query_filter.date_end}\")\n",
    "except Exception as e:\n",
    "    print(f\"❌ Preview failed: {e}\")\n",
    "\n",
    "print(\"\\n--- Test 4b: query_by_date_range ---\")\n",
    "try:\n",
    "    result = query_by_date_range(start_date_7d, end_date, state=\"CO\", auto_approve=True)\n",
    "    print(f\"✓ Query: {result.total_count} pits from Colorado\")\n",
    "    if result.preview:\n",
    "        print(f\"  Preview estimate: {result.preview.estimated_count} pits\")\n",
    "except Exception as e:\n",
    "    print(f\"❌ Query failed: {e}\")\n",
    "\n",
    "print(\"\\n--- Test 4c: query_by_pit_id ---\")\n",
    "try:\n",
    "    # This should auto-approve by default for single pit queries\n",
    "    result = query_by_pit_id(\"13720\")\n",
    "    print(f\"✓ Query: {result.total_count} pits found for ID 13720\")\n",
    "    if result.total_count > 0:\n",
    "        pit = result.snow_pits[0]\n",
    "        print(f\"  Pit name: {pit.core_info.pit_name}\")\n",
    "        print(f\"  Date: {pit.core_info.date}\")\n",
    "        print(f\"  User: {pit.core_info.user.username}\")\n",
    "except Exception as e:\n",
    "    print(f\"❌ Query failed: {e}\")\n",
    "\n",
    "print(\"\\n--- Test 4d: query_by_organization ---\")\n",
    "try:\n",
    "    result = query_by_organization(\n",
    "        \"Montana Avalanche Center\",\n",
    "        date_start=start_date_30d,\n",
    "        date_end=end_date,\n",
    "        auto_approve=True\n",
    "    )\n",
    "    print(f\"✓ Query: {result.total_count} pits from Montana Avalanche Center\")\n",
    "except Exception as e:\n",
    "    print(f\"❌ Query failed: {e}\")\n",
    "\n",
    "print(\"\\n--- Test 4e: query_by_location ---\")\n",
    "try:\n",
    "    result = query_by_location(\n",
    "        country=\"US\",\n",
    "        state=\"MT\",\n",
    "        elevation_min=2000,\n",
    "        elevation_max=3000,\n",
    "        auto_approve=True\n",
    "    )\n",
    "    print(f\"✓ Query: {result.total_count} pits from Montana, 2000-3000m elevation\")\n",
    "except Exception as e:\n",
    "    print(f\"❌ Query failed: {e}\")\n",
    "\n",
    "print(\"\\n--- Convenience Functions Summary ---\")\n",
    "print(\"Available convenience functions:\")\n",
    "print(\"• preview_by_date_range() - Preview date range queries\")\n",
    "print(\"• query_by_date_range() - Query by date range\")\n",
    "print(\"• query_by_pit_id() - Query specific pit (auto-approved)\")\n",
    "print(\"• query_by_organization() - Query by organization\")\n",
    "print(\"• query_by_location() - Query by location parameters\")\n",
    "print(\"• All functions support auto_approve parameter\")\n"
   ]
  },
  {
   "cell_type": "code",
   "execution_count": 12,
   "id": "fee2ee8f",
   "metadata": {},
   "outputs": [
    {
     "name": "stdout",
     "output_type": "stream",
     "text": [
      "=== Test 5: Local Search Functionality ===\n",
      "\n",
      "--- Test 5a: Search Local Files ---\n",
      "Found 65356 local CAAML files:\n",
      "  ../demos/snowpits/test/snowpits-13720-caaml.xml\n",
      "  ../demos/snowpits/test/snowpylot-test-26-Feb-caaml.xml\n",
      "  ../demos/snowpits/test/mkc_TESTPIT-23-Feb-caaml.xml\n",
      "  ../demos/snowpits/test/snowpits-25670-wumph-caaml.xml\n",
      "  ../demos/snowpits/by_season/2019-2020/snowpits-18792-caaml.xml\n",
      "  ... and 65351 more\n",
      "\n",
      "--- Test 5b: Local Search with Filters ---\n",
      "\n",
      "Local search 1: {'pit_id': None, 'pit_name': None, 'date_start': None, 'date_end': None, 'country': None, 'state': 'MT', 'region': None, 'user_id': None, 'username': None, 'organization_id': None, 'organization_name': None, 'elevation_min': None, 'elevation_max': None, 'aspect': None, 'per_page': 1000}\n",
      "  ✓ Found 0 matching pits\n",
      "  Searched 0 files\n",
      "\n",
      "Local search 2: {'pit_id': None, 'pit_name': None, 'date_start': None, 'date_end': None, 'country': None, 'state': None, 'region': None, 'user_id': None, 'username': None, 'organization_id': None, 'organization_name': None, 'elevation_min': 2000, 'elevation_max': None, 'aspect': None, 'per_page': 1000}\n",
      "  ✓ Found 0 matching pits\n",
      "  Searched 0 files\n",
      "\n",
      "Local search 3: {'pit_id': None, 'pit_name': None, 'date_start': None, 'date_end': None, 'country': None, 'state': None, 'region': None, 'user_id': None, 'username': 'benschmidt5', 'organization_id': None, 'organization_name': None, 'elevation_min': None, 'elevation_max': None, 'aspect': None, 'per_page': 1000}\n",
      "  ✓ Found 0 matching pits\n",
      "  Searched 0 files\n",
      "\n",
      "Local search 4: {'pit_id': None, 'pit_name': None, 'date_start': None, 'date_end': None, 'country': None, 'state': None, 'region': None, 'user_id': None, 'username': None, 'organization_id': None, 'organization_name': 'Montana', 'elevation_min': None, 'elevation_max': None, 'aspect': None, 'per_page': 1000}\n",
      "  ✓ Found 0 matching pits\n",
      "  Searched 0 files\n",
      "\n",
      "--- Local Search Summary ---\n",
      "Local search functionality:\n",
      "• Searches through locally saved CAAML files\n",
      "• Applies all filter parameters to local data\n",
      "• Returns parsed SnowPit objects\n",
      "• Useful for offline analysis of previously downloaded data\n",
      "• Works with the same QueryFilter parameters as online queries\n"
     ]
    }
   ],
   "source": [
    "# Test 5: Local Search Functionality\n",
    "\n",
    "print(\"=== Test 5: Local Search Functionality ===\")\n",
    "\n",
    "# Test searching through local files\n",
    "print(\"\\n--- Test 5a: Search Local Files ---\")\n",
    "\n",
    "# First, let's check if we have any local files\n",
    "import os\n",
    "import glob\n",
    "\n",
    "# Check in common locations for CAAML files\n",
    "search_paths = [\n",
    "    \"demos/snowpits/**/*caaml.xml\",\n",
    "    \"data/**/*caaml.xml\",\n",
    "    \"../demos/snowpits/**/*caaml.xml\",\n",
    "    \"snowpits/**/*caaml.xml\"\n",
    "]\n",
    "\n",
    "local_files = []\n",
    "for path in search_paths:\n",
    "    files = glob.glob(path, recursive=True)\n",
    "    local_files.extend(files)\n",
    "\n",
    "print(f\"Found {len(local_files)} local CAAML files:\")\n",
    "for file in local_files[:5]:  # Show first 5 files\n",
    "    print(f\"  {file}\")\n",
    "if len(local_files) > 5:\n",
    "    print(f\"  ... and {len(local_files) - 5} more\")\n",
    "\n",
    "# Test local search with different filters\n",
    "if local_files:\n",
    "    print(\"\\n--- Test 5b: Local Search with Filters ---\")\n",
    "    \n",
    "    test_filters = [\n",
    "        QueryFilter(state=\"MT\"),\n",
    "        QueryFilter(elevation_min=2000),\n",
    "        QueryFilter(username=\"benschmidt5\"),\n",
    "        QueryFilter(organization_name=\"Montana\")\n",
    "    ]\n",
    "    \n",
    "    for i, filter_obj in enumerate(test_filters, 1):\n",
    "        print(f\"\\nLocal search {i}: {filter_obj.__dict__}\")\n",
    "        \n",
    "        try:\n",
    "            result = engine.search_local_pits(filter_obj)\n",
    "            print(f\"  ✓ Found {result.total_count} matching pits\")\n",
    "            print(f\"  Searched {result.download_info.get('files_searched', 0)} files\")\n",
    "            \n",
    "            # Show some sample results\n",
    "            if result.total_count > 0:\n",
    "                print(\"  Sample pits:\")\n",
    "                for j, pit in enumerate(result.snow_pits[:3]):\n",
    "                    print(f\"    {j+1}. {pit.core_info.pit_name or 'Unnamed'} - {pit.core_info.date}\")\n",
    "                    \n",
    "        except Exception as e:\n",
    "            print(f\"  ❌ Local search failed: {e}\")\n",
    "\n",
    "else:\n",
    "    print(\"No local CAAML files found. Local search requires existing pit files.\")\n",
    "    print(\"To test local search:\")\n",
    "    print(\"1. Download some pits using the query engine\")\n",
    "    print(\"2. Or place CAAML files in the demos/snowpits directory\")\n",
    "\n",
    "print(\"\\n--- Local Search Summary ---\")\n",
    "print(\"Local search functionality:\")\n",
    "print(\"• Searches through locally saved CAAML files\")\n",
    "print(\"• Applies all filter parameters to local data\")\n",
    "print(\"• Returns parsed SnowPit objects\")\n",
    "print(\"• Useful for offline analysis of previously downloaded data\")\n",
    "print(\"• Works with the same QueryFilter parameters as online queries\")\n"
   ]
  },
  {
   "cell_type": "code",
   "execution_count": 13,
   "id": "6e5cab77",
   "metadata": {},
   "outputs": [
    {
     "name": "stderr",
     "output_type": "stream",
     "text": [
      "INFO:snowpylot.query_engine:Previewing query with filter: QueryFilter(pit_id=None, pit_name=None, date_start='2025-06-09', date_end='2025-07-09', country=None, state='MT', region=None, user_id=None, username=None, organization_id=None, organization_name='Avalanche', elevation_min=2000, elevation_max=None, aspect=None, per_page=1000)\n",
      "WARNING:snowpylot.query_engine:Preview request failed with status 200\n"
     ]
    },
    {
     "name": "stdout",
     "output_type": "stream",
     "text": [
      "=== Test 6: Complete Usage Example ===\n",
      "\n",
      "--- Complete Workflow Example ---\n",
      "Step 1: Define Query Parameters\n",
      "Query parameters:\n",
      "  Date range: 2025-06-09 to 2025-07-09\n",
      "  State: MT\n",
      "  Elevation: ≥ 2000m\n",
      "  Organization: Contains 'Avalanche'\n",
      "\n",
      "Step 2: Preview Query\n",
      "Preview Results:\n",
      "  Estimated pits: 0\n",
      "  Query will use: CAAML format\n",
      "\n",
      "Step 3: Decision Making\n",
      "  → No pits found, adjust query parameters\n",
      "❌ Workflow failed: name 'proceed' is not defined\n",
      "\n",
      "============================================================\n",
      "SNOWPYLOT QUERY ENGINE TESTING COMPLETE\n",
      "============================================================\n",
      "\n",
      "🎉 NEW FEATURES DEMONSTRATED:\n",
      "✓ Preview functionality - See pit counts before downloading\n",
      "✓ Approval system - Prevents accidental large downloads\n",
      "✓ Configurable thresholds - Customize when approval is required\n",
      "✓ Auto-approve option - Bypass approval for automated scripts\n",
      "✓ Enhanced result objects - Preview info included in results\n",
      "\n",
      "📋 EXISTING FEATURES TESTED:\n",
      "✓ Flexible filtering - Multiple parameter combinations\n",
      "✓ Convenience functions - Easy-to-use shortcuts\n",
      "✓ Local search - Search through downloaded files\n",
      "✓ Multiple data formats - XML and CAAML support\n",
      "✓ Session management - Automatic authentication\n",
      "\n",
      "💡 USAGE TIPS:\n",
      "• Always preview large queries first\n",
      "• Use auto_approve=True for automated scripts\n",
      "• Set custom approval thresholds based on your needs\n",
      "• Use local search for offline analysis\n",
      "• Combine multiple filters for precise results\n",
      "\n",
      "🔧 TROUBLESHOOTING:\n",
      "• Set SNOWPILOT_USER and SNOWPILOT_PASSWORD environment variables\n",
      "• Install required dependencies: pip install requests pandas\n",
      "• Check network connectivity for online queries\n",
      "• Verify credentials are correct if authentication fails\n",
      "\n",
      "📚 DOCUMENTATION:\n",
      "• See docs/query_engine_usage.md for detailed documentation\n",
      "• Check examples/query_engine_usage.py for more examples\n",
      "• Run examples/preview_demo.py for preview feature demo\n",
      "\n",
      "Ready to query snowpilot.org! 🏔️❄️\n"
     ]
    }
   ],
   "source": [
    "# Test 6: Complete Usage Example\n",
    "\n",
    "print(\"=== Test 6: Complete Usage Example ===\")\n",
    "\n",
    "# Demonstrate a complete workflow using all the new features\n",
    "print(\"\\n--- Complete Workflow Example ---\")\n",
    "\n",
    "# Step 1: Define your query\n",
    "print(\"Step 1: Define Query Parameters\")\n",
    "example_query = QueryFilter(\n",
    "    date_start=start_date_30d,\n",
    "    date_end=end_date,\n",
    "    state=\"MT\",\n",
    "    elevation_min=2000,\n",
    "    organization_name=\"Avalanche\"\n",
    ")\n",
    "\n",
    "print(\"Query parameters:\")\n",
    "print(f\"  Date range: {example_query.date_start} to {example_query.date_end}\")\n",
    "print(f\"  State: {example_query.state}\")\n",
    "print(f\"  Elevation: ≥ {example_query.elevation_min}m\")\n",
    "print(f\"  Organization: Contains '{example_query.organization_name}'\")\n",
    "\n",
    "# Step 2: Preview the query\n",
    "print(\"\\nStep 2: Preview Query\")\n",
    "try:\n",
    "    preview = engine.preview_query(example_query)\n",
    "    print(f\"Preview Results:\")\n",
    "    print(f\"  Estimated pits: {preview.estimated_count}\")\n",
    "    print(f\"  Query will use: {preview.preview_info.get('format', 'CAAML')} format\")\n",
    "    \n",
    "    # Step 3: Decide based on preview\n",
    "    print(\"\\nStep 3: Decision Making\")\n",
    "    if preview.estimated_count == 0:\n",
    "        print(\"  → No pits found, adjust query parameters\")\n",
    "    elif preview.estimated_count <= 50:\n",
    "        print(\"  → Small query, proceeding with download\")\n",
    "        proceed = True\n",
    "    elif preview.estimated_count <= 200:\n",
    "        print(\"  → Medium query, may require approval\")\n",
    "        proceed = True\n",
    "    else:\n",
    "        print(\"  → Large query, definitely will require approval\")\n",
    "        proceed = False  # Skip in demo\n",
    "    \n",
    "    # Step 4: Execute query (if appropriate)\n",
    "    if proceed:\n",
    "        print(\"\\nStep 4: Execute Query\")\n",
    "        result = engine.query_pits(example_query, auto_approve=True)\n",
    "        \n",
    "        print(f\"Query Results:\")\n",
    "        print(f\"  Downloaded: {result.total_count} pits\")\n",
    "        print(f\"  Preview accuracy: {abs(result.total_count - preview.estimated_count)} pit difference\")\n",
    "        print(f\"  Saved to: {result.download_info.get('saved_file', 'N/A')}\")\n",
    "        \n",
    "        # Step 5: Analyze results\n",
    "        if result.total_count > 0:\n",
    "            print(\"\\nStep 5: Analyze Results\")\n",
    "            print(\"Sample pit details:\")\n",
    "            for i, pit in enumerate(result.snow_pits[:3]):\n",
    "                print(f\"  Pit {i+1}:\")\n",
    "                print(f\"    Name: {pit.core_info.pit_name or 'Unnamed'}\")\n",
    "                print(f\"    Date: {pit.core_info.date}\")\n",
    "                print(f\"    User: {pit.core_info.user.username}\")\n",
    "                print(f\"    Organization: {pit.core_info.user.operation_name}\")\n",
    "                print(f\"    Elevation: {pit.core_info.location.elevation}\")\n",
    "                print(f\"    Aspect: {pit.core_info.location.aspect}\")\n",
    "    else:\n",
    "        print(\"\\nStep 4: Skipped large query in demo\")\n",
    "        \n",
    "except Exception as e:\n",
    "    print(f\"❌ Workflow failed: {e}\")\n",
    "\n",
    "print(\"\\n\" + \"=\"*60)\n",
    "print(\"SNOWPYLOT QUERY ENGINE TESTING COMPLETE\")\n",
    "print(\"=\"*60)\n",
    "\n",
    "print(\"\\n🎉 NEW FEATURES DEMONSTRATED:\")\n",
    "print(\"✓ Preview functionality - See pit counts before downloading\")\n",
    "print(\"✓ Approval system - Prevents accidental large downloads\")\n",
    "print(\"✓ Configurable thresholds - Customize when approval is required\")\n",
    "print(\"✓ Auto-approve option - Bypass approval for automated scripts\")\n",
    "print(\"✓ Enhanced result objects - Preview info included in results\")\n",
    "\n",
    "print(\"\\n📋 EXISTING FEATURES TESTED:\")\n",
    "print(\"✓ Flexible filtering - Multiple parameter combinations\")\n",
    "print(\"✓ Convenience functions - Easy-to-use shortcuts\")\n",
    "print(\"✓ Local search - Search through downloaded files\")\n",
    "print(\"✓ Multiple data formats - XML and CAAML support\")\n",
    "print(\"✓ Session management - Automatic authentication\")\n",
    "\n",
    "print(\"\\n💡 USAGE TIPS:\")\n",
    "print(\"• Always preview large queries first\")\n",
    "print(\"• Use auto_approve=True for automated scripts\")\n",
    "print(\"• Set custom approval thresholds based on your needs\")\n",
    "print(\"• Use local search for offline analysis\")\n",
    "print(\"• Combine multiple filters for precise results\")\n",
    "\n",
    "print(\"\\n🔧 TROUBLESHOOTING:\")\n",
    "print(\"• Set SNOWPILOT_USER and SNOWPILOT_PASSWORD environment variables\")\n",
    "print(\"• Install required dependencies: pip install requests pandas\")\n",
    "print(\"• Check network connectivity for online queries\")\n",
    "print(\"• Verify credentials are correct if authentication fails\")\n",
    "\n",
    "print(\"\\n📚 DOCUMENTATION:\")\n",
    "print(\"• See docs/query_engine_usage.md for detailed documentation\")\n",
    "print(\"• Check examples/query_engine_usage.py for more examples\")\n",
    "print(\"• Run examples/preview_demo.py for preview feature demo\")\n",
    "\n",
    "print(\"\\nReady to query snowpilot.org! 🏔️❄️\")\n"
   ]
  }
 ],
 "metadata": {
  "kernelspec": {
   "display_name": ".venv",
   "language": "python",
   "name": "python3"
  },
  "language_info": {
   "codemirror_mode": {
    "name": "ipython",
    "version": 3
   },
   "file_extension": ".py",
   "mimetype": "text/x-python",
   "name": "python",
   "nbconvert_exporter": "python",
   "pygments_lexer": "ipython3",
   "version": "3.13.2"
  }
 },
 "nbformat": 4,
 "nbformat_minor": 5
}
