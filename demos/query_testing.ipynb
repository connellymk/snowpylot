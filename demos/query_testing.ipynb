{
 "cells": [
  {
   "cell_type": "code",
   "execution_count": 3,
   "id": "c068acea",
   "metadata": {},
   "outputs": [
    {
     "name": "stdout",
     "output_type": "stream",
     "text": [
      "=== Environment Check ===\n",
      "✅ Environment variables are set!\n",
      "   SNOWPILOT_USER: katisthebatis\n",
      "   SNOWPILOT_PASSWORD: ***********\n",
      "\n",
      "=== Testing Authentication ===\n"
     ]
    },
    {
     "name": "stderr",
     "output_type": "stream",
     "text": [
      "INFO:snowpylot.query_engine:Successfully authenticated with snowpilot.org\n"
     ]
    },
    {
     "name": "stdout",
     "output_type": "stream",
     "text": [
      "✅ Authentication successful!\n"
     ]
    }
   ],
   "source": [
    "import os\n",
    "\n",
    "from dotenv import load_dotenv\n",
    "\n",
    "import snowpylot\n",
    "\n",
    "# Import query engine functions\n",
    "from snowpylot.query_engine import (\n",
    "    QueryEngine,\n",
    "    QueryFilter,\n",
    "    SnowPilotSession,\n",
    "    preview_by_date_range,\n",
    "    query_by_date_range,\n",
    "    query_by_username,\n",
    "    query_by_organization,\n",
    "    query_by_location,\n",
    "    QueryFilter,\n",
    ")\n",
    "\n",
    "# Load environment variables from .env file\n",
    "load_dotenv()\n",
    "\n",
    "# Test environment setup\n",
    "print(\"=== Environment Check ===\")\n",
    "user = os.environ.get('SNOWPILOT_USER')\n",
    "password = os.environ.get('SNOWPILOT_PASSWORD')\n",
    "\n",
    "if user and password:\n",
    "    print('✅ Environment variables are set!')\n",
    "    print(f'   SNOWPILOT_USER: {user}')\n",
    "    print(f'   SNOWPILOT_PASSWORD: {\"*\" * len(password)}')\n",
    "else:\n",
    "    print('❌ Environment variables not set!')\n",
    "    print('Please check your .env file contains:')\n",
    "    print('SNOWPILOT_USER=your_username')\n",
    "    print('SNOWPILOT_PASSWORD=your_password')\n",
    "\n",
    "try:\n",
    "    print('\\n=== Testing Authentication ===')\n",
    "    session = SnowPilotSession()\n",
    "    if session.authenticate():\n",
    "        print('✅ Authentication successful!')\n",
    "    else:\n",
    "        print('❌ Authentication failed - please check your credentials')\n",
    "\n",
    "except ImportError as e:\n",
    "    print(f'❌ Import error: {e}')\n",
    "except Exception as e:\n",
    "    print(f'❌ Error: {e}')\n"
   ]
  },
  {
   "cell_type": "code",
   "execution_count": 4,
   "id": "6d43464c",
   "metadata": {},
   "outputs": [
    {
     "name": "stderr",
     "output_type": "stream",
     "text": [
      "INFO:snowpylot.query_engine:Previewing query with filter: QueryFilter(pit_id=None, pit_name=None, date_start='2023-01-01', date_end='2023-01-31', country=None, state='MT', region=None, user_id=None, username=None, organization_id=None, organization_name=None, elevation_min=None, elevation_max=None, aspect=None, per_page=100)\n"
     ]
    },
    {
     "name": "stdout",
     "output_type": "stream",
     "text": [
      "Date range: 2023-01-01 to 2023-01-31\n",
      "State: MT\n",
      "Format: CAAML (now the only supported format)\n",
      "\n",
      "=== Query Preview ===\n"
     ]
    },
    {
     "name": "stderr",
     "output_type": "stream",
     "text": [
      "INFO:snowpylot.query_engine:Previewing query: PIT_NAME=&STATE=MT&OBS_DATE_MIN=2023-01-01&OBS_DATE_MAX=2023-01-31&recent_dates=0&USERNAME=&AFFIL=&per_page=1&ADV_WHERE_QUERY=&submit=Get%20Pits\n",
      "INFO:snowpylot.query_engine:Preview indicates data is available\n",
      "INFO:snowpylot.query_engine:Querying CAAML pits with filter: QueryFilter(pit_id=None, pit_name=None, date_start='2023-01-01', date_end='2023-01-31', country=None, state='MT', region=None, user_id=None, username=None, organization_id=None, organization_name=None, elevation_min=None, elevation_max=None, aspect=None, per_page=100)\n",
      "INFO:snowpylot.query_engine:Previewing query with filter: QueryFilter(pit_id=None, pit_name=None, date_start='2023-01-01', date_end='2023-01-31', country=None, state='MT', region=None, user_id=None, username=None, organization_id=None, organization_name=None, elevation_min=None, elevation_max=None, aspect=None, per_page=100)\n"
     ]
    },
    {
     "name": "stdout",
     "output_type": "stream",
     "text": [
      "Query Preview:\n",
      "  Estimated pits: 10\n",
      "  Date range: 2023-01-01 to 2023-01-31\n",
      "  State: MT\n",
      "  Username: Any\n",
      "  Organization: Any\n",
      "  Elevation: Any - Anym\n",
      "  Format: CAAML\n",
      "\n",
      "⚠️  This will download 10 snow pits\n",
      "Note: Large downloads may take significant time and bandwidth\n",
      "\n",
      "=== Starting Download ===\n"
     ]
    },
    {
     "name": "stderr",
     "output_type": "stream",
     "text": [
      "INFO:snowpylot.query_engine:Previewing query: PIT_NAME=&STATE=MT&OBS_DATE_MIN=2023-01-01&OBS_DATE_MAX=2023-01-31&recent_dates=0&USERNAME=&AFFIL=&per_page=1&ADV_WHERE_QUERY=&submit=Get%20Pits\n",
      "INFO:snowpylot.query_engine:Preview indicates data is available\n"
     ]
    },
    {
     "name": "stdout",
     "output_type": "stream",
     "text": [
      "Preview: Will download approximately 10 pits\n"
     ]
    },
    {
     "name": "stderr",
     "output_type": "stream",
     "text": [
      "INFO:snowpylot.query_engine:Requesting CAAML data with query: PIT_NAME=&STATE=MT&OBS_DATE_MIN=2023-01-01&OBS_DATE_MAX=2023-01-31&recent_dates=0&USERNAME=&AFFIL=&per_page=100&ADV_WHERE_QUERY=&submit=Get%20Pits\n",
      "WARNING:snowpylot.query_engine:CAAML download failed with status 500\n",
      "ERROR:snowpylot.query_engine:Server error (500) - this may indicate an issue with the query parameters or server\n"
     ]
    },
    {
     "name": "stdout",
     "output_type": "stream",
     "text": [
      "❌ No pits were downloaded\n"
     ]
    }
   ],
   "source": [
    "# Query snow pits from date range using CAAML format\n",
    "\n",
    "# Define date range (using past dates with known data)\n",
    "start_date = \"2023-01-01\"\n",
    "end_date = \"2023-01-31\"\n",
    "state = \"MT\"  # Montana - specify state as required by API\n",
    "\n",
    "print(f\"Date range: {start_date} to {end_date}\")\n",
    "print(f\"State: {state}\")\n",
    "print(\"Format: CAAML (now the only supported format)\")\n",
    "\n",
    "# First, let's preview the query to see how many pits we'll download\n",
    "print(\"\\n=== Query Preview ===\")\n",
    "try:\n",
    "    preview = preview_by_date_range(start_date, end_date, state=state)\n",
    "    print(preview)\n",
    "\n",
    "    # If the preview looks good, proceed with download\n",
    "    if preview.estimated_count > 0:\n",
    "        print(f\"\\n⚠️  This will download {preview.estimated_count} snow pits\")\n",
    "        print(\"Note: Large downloads may take significant time and bandwidth\")\n",
    "\n",
    "        # Download the pits (auto_approve=False will prompt for confirmation if >100 pits)\n",
    "        print(\"\\n=== Starting Download ===\")\n",
    "        result = query_by_date_range(start_date, end_date, state=state, auto_approve=False)\n",
    "\n",
    "        if result.snow_pits:\n",
    "            print(f\"✅ Successfully downloaded {len(result.snow_pits)} snow pits!\")\n",
    "            print(f\"Total pits found: {result.total_count}\")\n",
    "\n",
    "            # Show some basic info about the downloaded pits\n",
    "            print(\"\\n=== Download Summary ===\")\n",
    "            if result.download_info:\n",
    "                print(f\"Format: {result.download_info.get('format', 'caaml')}\")\n",
    "                if 'saved_file' in result.download_info:\n",
    "                    print(f\"Saved to: {result.download_info['saved_file']}\")\n",
    "\n",
    "            # Show info about first few pits\n",
    "            print(\"\\nFirst 5 pits:\")\n",
    "            for i, pit in enumerate(result.snow_pits[:5]):\n",
    "                print(f\"  {i+1}. Pit ID: {pit.core_info.pit_id}\")\n",
    "                print(f\"     Date: {pit.core_info.date_time}\")\n",
    "                print(f\"     Location: {pit.core_info.location.region if pit.core_info.location else 'Unknown'}\")\n",
    "                if pit.core_info.location and pit.core_info.location.elevation:\n",
    "                    print(f\"     Elevation: {pit.core_info.location.elevation[0]}m\")\n",
    "                print()\n",
    "\n",
    "        else:\n",
    "            print(\"❌ No pits were downloaded\")\n",
    "            if result.download_info.get('status') == 'cancelled':\n",
    "                print(\"Reason: Download was cancelled by user\")\n",
    "    else:\n",
    "        print(\"❌ No pits found for the specified date range\")\n",
    "        print(\"Try:\")\n",
    "        print(\"  - Different date range (e.g., winter months)\")\n",
    "        print(\"  - Different state (MT, CO, WY, etc.)\")\n",
    "        print(\"  - Check if dates are in the past (snowpilot.org doesn't have future data)\")\n",
    "\n",
    "except Exception as e:\n",
    "    print(f\"❌ Error during query: {e}\")\n",
    "    print(\"This might be due to:\")\n",
    "    print(\"  - Network connectivity issues\")\n",
    "    print(\"  - Authentication problems\")\n",
    "    print(\"  - Invalid date range\")\n",
    "    print(\"  - Server issues at snowpilot.org\")\n"
   ]
  }
 ],
 "metadata": {
  "kernelspec": {
   "display_name": "venv",
   "language": "python",
   "name": "python3"
  },
  "language_info": {
   "codemirror_mode": {
    "name": "ipython",
    "version": 3
   },
   "file_extension": ".py",
   "mimetype": "text/x-python",
   "name": "python",
   "nbconvert_exporter": "python",
   "pygments_lexer": "ipython3",
   "version": "3.13.2"
  }
 },
 "nbformat": 4,
 "nbformat_minor": 5
}
