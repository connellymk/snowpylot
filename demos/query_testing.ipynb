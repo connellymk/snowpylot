{
 "cells": [
  {
   "cell_type": "code",
   "execution_count": null,
   "id": "c068acea",
   "metadata": {},
   "outputs": [
    {
     "name": "stdout",
     "output_type": "stream",
     "text": [
      "=== Environment Check ===\n",
      "✅ Environment variables are set!\n",
      "   SNOWPILOT_USER: katisthebatis\n",
      "   SNOWPILOT_PASSWORD: ***********\n",
      "\n",
      "=== Testing Authentication ===\n"
     ]
    },
    {
     "name": "stderr",
     "output_type": "stream",
     "text": [
      "ERROR:snowpylot.query_engine:Authentication failed with status 403\n"
     ]
    },
    {
     "name": "stdout",
     "output_type": "stream",
     "text": [
      "❌ Authentication failed - please check your credentials\n"
     ]
    }
   ],
   "source": [
    "import os\n",
    "\n",
    "import pandas as pd\n",
    "from dotenv import load_dotenv\n",
    "\n",
    "import snowpylot\n",
    "from snowpylot.query_engine import SnowPilotSession\n",
    "\n",
    "# Load environment variables from .env file\n",
    "load_dotenv()\n",
    "\n",
    "# Test environment setup\n",
    "print(\"=== Environment Check ===\")\n",
    "user = os.environ.get('SNOWPILOT_USER')\n",
    "password = os.environ.get('SNOWPILOT_PASSWORD')\n",
    "\n",
    "if user and password:\n",
    "    print('✅ Environment variables are set!')\n",
    "    print(f'   SNOWPILOT_USER: {user}')\n",
    "    print(f'   SNOWPILOT_PASSWORD: {\"*\" * len(password)}')\n",
    "else:\n",
    "    print('❌ Environment variables not set!')\n",
    "    print('Please check your .env file contains:')\n",
    "    print('SNOWPILOT_USER=your_username')\n",
    "    print('SNOWPILOT_PASSWORD=your_password')\n",
    "\n",
    "try:\n",
    "    print('\\n=== Testing Authentication ===')\n",
    "    session = SnowPilotSession()\n",
    "    if session.authenticate():\n",
    "        print('✅ Authentication successful!')\n",
    "    else:\n",
    "        print('❌ Authentication failed - please check your credentials')\n",
    "        \n",
    "except ImportError as e:\n",
    "    print(f'❌ Import error: {e}')\n",
    "except Exception as e:\n",
    "    print(f'❌ Error: {e}')\n"
   ]
  }
 ],
 "metadata": {
  "kernelspec": {
   "display_name": "venv",
   "language": "python",
   "name": "python3"
  },
  "language_info": {
   "codemirror_mode": {
    "name": "ipython",
    "version": 3
   },
   "file_extension": ".py",
   "mimetype": "text/x-python",
   "name": "python",
   "nbconvert_exporter": "python",
   "pygments_lexer": "ipython3",
   "version": "3.13.2"
  }
 },
 "nbformat": 4,
 "nbformat_minor": 5
}
