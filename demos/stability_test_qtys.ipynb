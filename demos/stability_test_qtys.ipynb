{
 "cells": [
  {
   "cell_type": "code",
   "execution_count": 12,
   "metadata": {},
   "outputs": [],
   "source": [
    "import os\n",
    "import pandas as pd\n",
    "from snowpylot.caaml_parser import caaml_parser\n"
   ]
  },
  {
   "cell_type": "code",
   "execution_count": 13,
   "metadata": {},
   "outputs": [
    {
     "name": "stdout",
     "output_type": "stream",
     "text": [
      "ECT qty    283\n",
      "CT qty     110\n",
      "RBT qty      0\n",
      "PST qty     12\n",
      "dtype: int64\n"
     ]
    }
   ],
   "source": [
    "# How many test results for each test type?\n",
    "# for 200 mt pits\n",
    "\n",
    "folder_path = \"snowpits/snowpits_200_MT\"  # The latest 200 snow pits from MT\n",
    "\n",
    "# Create a list of all CAAML files in the folder\n",
    "caaml_files = [\n",
    "    f for f in os.listdir(folder_path) if f.endswith(\".xml\")\n",
    "]  # List of all CAAML files in the folder\n",
    "\n",
    "pits = []\n",
    "\n",
    "for file in caaml_files:\n",
    "    file_path = folder_path + \"/\" + file\n",
    "    pit = caaml_parser(file_path)\n",
    "    pits.append(pit)\n",
    "\n",
    "test_qtys = []\n",
    "for pit in pits:\n",
    "    test_qty_dict = {\n",
    "        \"ECT qty\": len(pit.stabilityTests.ECT),\n",
    "        \"CT qty\": len(pit.stabilityTests.CT),\n",
    "        \"RBT qty\": len(pit.stabilityTests.RBlock),\n",
    "        \"PST qty\": len(pit.stabilityTests.PST),\n",
    "    }\n",
    "    test_qtys.append(test_qty_dict)\n",
    "\n",
    "    df = pd.DataFrame(test_qtys)\n",
    "\n",
    "print(df.sum())"
   ]
  },
  {
   "cell_type": "code",
   "execution_count": 14,
   "metadata": {},
   "outputs": [
    {
     "name": "stdout",
     "output_type": "stream",
     "text": [
      "ECT qty    1001\n",
      "CT qty      937\n",
      "RBT qty       0\n",
      "PST qty     126\n",
      "dtype: int64\n"
     ]
    }
   ],
   "source": [
    "# How many test results for each test type?\n",
    "# for 1K snow pits\n",
    "\n",
    "folder_path = \"snowpits/snowpits_1K\"  # The latest 1000\n",
    "\n",
    "# Create a list of all CAAML files in the folder\n",
    "caaml_files = [\n",
    "    f for f in os.listdir(folder_path) if f.endswith(\".xml\")\n",
    "]  # List of all CAAML files in the folder\n",
    "\n",
    "pits = []\n",
    "\n",
    "for file in caaml_files:\n",
    "    file_path = folder_path + \"/\" + file\n",
    "    pit = caaml_parser(file_path)\n",
    "    pits.append(pit)\n",
    "\n",
    "test_qtys = []\n",
    "for pit in pits:\n",
    "    test_qty_dict = {\n",
    "        \"ECT qty\": len(pit.stabilityTests.ECT),\n",
    "        \"CT qty\": len(pit.stabilityTests.CT),\n",
    "        \"RBT qty\": len(pit.stabilityTests.RBlock),\n",
    "        \"PST qty\": len(pit.stabilityTests.PST),\n",
    "    }\n",
    "    test_qtys.append(test_qty_dict)\n",
    "\n",
    "    df = pd.DataFrame(test_qtys)\n",
    "\n",
    "print(df.sum())"
   ]
  },
  {
   "cell_type": "code",
   "execution_count": 15,
   "metadata": {},
   "outputs": [
    {
     "name": "stdout",
     "output_type": "stream",
     "text": [
      "ECT qty    418\n",
      "CT qty      78\n",
      "RBT qty      1\n",
      "PST qty     81\n",
      "dtype: int64\n"
     ]
    }
   ],
   "source": [
    "# How many test results for each test type?\n",
    "# wumph pits\n",
    "\n",
    "folder_path = \"snowpits/wumph_pits\"  #\n",
    "\n",
    "# Create a list of all CAAML files in the folder\n",
    "caaml_files = [\n",
    "    f for f in os.listdir(folder_path) if f.endswith(\".xml\")\n",
    "]  # List of all CAAML files in the folder\n",
    "\n",
    "pits = []\n",
    "\n",
    "for file in caaml_files:\n",
    "    file_path = folder_path + \"/\" + file\n",
    "    pit = caaml_parser(file_path)\n",
    "    pits.append(pit)\n",
    "\n",
    "test_qtys = []\n",
    "for pit in pits:\n",
    "    test_qty_dict = {\n",
    "        \"ECT qty\": len(pit.stabilityTests.ECT),\n",
    "        \"CT qty\": len(pit.stabilityTests.CT),\n",
    "        \"RBT qty\": len(pit.stabilityTests.RBlock),\n",
    "        \"PST qty\": len(pit.stabilityTests.PST),\n",
    "    }\n",
    "    test_qtys.append(test_qty_dict)\n",
    "\n",
    "    df = pd.DataFrame(test_qtys)\n",
    "\n",
    "print(df.sum())"
   ]
  }
 ],
 "metadata": {
  "kernelspec": {
   "display_name": ".venv",
   "language": "python",
   "name": "python3"
  },
  "language_info": {
   "codemirror_mode": {
    "name": "ipython",
    "version": 3
   },
   "file_extension": ".py",
   "mimetype": "text/x-python",
   "name": "python",
   "nbconvert_exporter": "python",
   "pygments_lexer": "ipython3",
   "version": "3.13.2"
  }
 },
 "nbformat": 4,
 "nbformat_minor": 2
}
