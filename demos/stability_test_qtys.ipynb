{
 "cells": [
  {
   "cell_type": "markdown",
   "metadata": {},
   "source": [
    "## Stability Test QTYs\n",
    "#### How many test results per test type are there in the \"Whumpf Dataset\"?\n",
    "\n",
    "The \"Whumpf Dataset\" is the group of files exported from Snowpilot on 2/19/25 that contains all pits where the WhumpfVal > 0, meaning the files for the pits contain the custom Whumpf Data fields. The files are in the \"snowpits/wumph_pits\" folder"
   ]
  },
  {
   "cell_type": "code",
   "execution_count": 1,
   "metadata": {},
   "outputs": [],
   "source": [
    "# Import librarys and caaml parser function\n",
    "import os\n",
    "\n",
    "import pandas as pd\n",
    "\n",
    "from snowpylot.caaml_parser import caaml_parser\n"
   ]
  },
  {
   "cell_type": "code",
   "execution_count": 2,
   "metadata": {},
   "outputs": [],
   "source": [
    "# Define folder that contains whumpf pits\n",
    "folder_path = \"snowpits/wumph_pits\"\n",
    "\n",
    "# Create a list of all CAAML files in the folder\n",
    "caaml_files = [\n",
    "    f for f in os.listdir(folder_path) if f.endswith(\".xml\")\n",
    "]  # List of all CAAML files in the folder\n",
    "\n",
    "test_qtys_list = []  # Initialize list of test qtys\n",
    "\n",
    "for file in caaml_files:  # Iterate through each file in the folder\n",
    "    file_path = folder_path + \"/\" + file\n",
    "    pit = caaml_parser(file_path)  # Parse file\n",
    "    test_qty_dict = {  # Create dictionary of test qtys\n",
    "        \"PitID\": pit.core_info.pit_id,\n",
    "        \"ECT qty\": len(pit.stability_tests.ECT),\n",
    "        \"CT qty\": len(pit.stability_tests.CT),\n",
    "        \"RBlock qty\": len(pit.stability_tests.RBlock),\n",
    "        \"PST qty\": len(pit.stability_tests.PST),\n",
    "    }\n",
    "    test_qtys_list.append(test_qty_dict)  # Append dictionary to list of test qtys\n",
    "\n",
    "    test_qtys = pd.DataFrame(test_qtys_list)  # Convert to datafram"
   ]
  },
  {
   "cell_type": "markdown",
   "metadata": {},
   "source": [
    "#### Display Qty per Test Type by Pit"
   ]
  },
  {
   "cell_type": "code",
   "execution_count": 3,
   "metadata": {},
   "outputs": [
    {
     "name": "stdout",
     "output_type": "stream",
     "text": [
      "Test Qty per Test Type by Pit\n",
      "     PitID  ECT qty  CT qty  RBlock qty  PST qty\n",
      "0    25670        1       0           0        0\n",
      "1    25671        1       0           0        0\n",
      "2    25672        1       0           0        0\n",
      "3    25680        1       0           0        0\n",
      "4    25683        0       0           0        0\n",
      "..     ...      ...     ...         ...      ...\n",
      "301  69403        1       0           0        0\n",
      "302  71246        1       0           0        0\n",
      "303  71923        4       0           0        0\n",
      "304  72292        1       1           0        0\n",
      "305  72324        3       0           0        0\n",
      "\n",
      "[306 rows x 5 columns]\n"
     ]
    }
   ],
   "source": [
    "# Test qty per pit\n",
    "\n",
    "print(\"Test Qty per Test Type by Pit\")\n",
    "print(test_qtys)"
   ]
  },
  {
   "cell_type": "markdown",
   "metadata": {},
   "source": [
    "#### Display Total Qty per Test Type "
   ]
  },
  {
   "cell_type": "code",
   "execution_count": 4,
   "metadata": {},
   "outputs": [
    {
     "name": "stdout",
     "output_type": "stream",
     "text": [
      "Total Test Qty per Test Type\n",
      "ECT qty       418\n",
      "CT qty         78\n",
      "RBlock qty      1\n",
      "PST qty        81\n",
      "dtype: int64\n"
     ]
    }
   ],
   "source": [
    "print(\"Total Test Qty per Test Type\")\n",
    "print(test_qtys[[\"ECT qty\", \"CT qty\", \"RBlock qty\", \"PST qty\"]].sum())"
   ]
  },
  {
   "cell_type": "markdown",
   "metadata": {},
   "source": []
  }
 ],
 "metadata": {
  "kernelspec": {
   "display_name": ".venv",
   "language": "python",
   "name": "python3"
  },
  "language_info": {
   "codemirror_mode": {
    "name": "ipython",
    "version": 3
   },
   "file_extension": ".py",
   "mimetype": "text/x-python",
   "name": "python",
   "nbconvert_exporter": "python",
   "pygments_lexer": "ipython3",
   "version": "3.13.3"
  }
 },
 "nbformat": 4,
 "nbformat_minor": 2
}
