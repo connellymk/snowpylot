{
 "cells": [
  {
   "cell_type": "markdown",
   "metadata": {},
   "source": [
    "# Snowpylot demo for Western Snow Conference 2025\n",
    "Demonstrating the functionality of the snowpylot library using snowpits from the 2020-2024 water years\n"
   ]
  },
  {
   "cell_type": "code",
   "execution_count": 12,
   "metadata": {},
   "outputs": [],
   "source": [
    "# Import libraries\n",
    "import os\n",
    "import pandas as pd\n",
    "import matplotlib.pyplot as plt\n",
    "from snowpylot.caaml_parser import caaml_parser"
   ]
  },
  {
   "cell_type": "markdown",
   "metadata": {},
   "source": [
    "### Set Up"
   ]
  },
  {
   "cell_type": "code",
   "execution_count": 13,
   "metadata": {},
   "outputs": [],
   "source": [
    "def parse_pits(folder_path):\n",
    "    '''\n",
    "    Function to parse CAAML files in the specified folder\n",
    "    '''\n",
    "\n",
    "    files = [f for f in os.listdir(folder_path) if f.endswith(\".xml\")]  # List of all .xml files in the folder\n",
    "    \n",
    "    pits_list = []\n",
    "\n",
    "    for file in files: # iterate through each file in the folder\n",
    "        file_path = folder_path + \"/\" + file # create the file path\n",
    "        pit = caaml_parser(file_path) # parse the file\n",
    "        pits_list.append(pit)\n",
    "\n",
    "    return pits_list"
   ]
  },
  {
   "cell_type": "code",
   "execution_count": 14,
   "metadata": {},
   "outputs": [],
   "source": [
    "# Define folders and parse pits\n",
    "\n",
    "pits_19_20 = parse_pits(\"snowpits/by_season/2019-2020\")\n",
    "pits_20_21 = parse_pits(\"snowpits/by_season/2020-2021\")\n",
    "pits_21_22 = parse_pits(\"snowpits/by_season/2021-2022\")\n",
    "pits_22_23 = parse_pits(\"snowpits/by_season/2022-2023\")\n",
    "pits_23_24 = parse_pits(\"snowpits/by_season/2023-2024\")\n",
    "\n",
    "all_pits = pits_19_20 + pits_20_21 + pits_21_22 + pits_22_23 + pits_23_24 # list of all pits\n"
   ]
  },
  {
   "cell_type": "markdown",
   "metadata": {},
   "source": [
    "### Core Info"
   ]
  },
  {
   "cell_type": "markdown",
   "metadata": {},
   "source": [
    "Table\n",
    "- Number of pits\n",
    "- Unique users\n",
    "- Pits by Professionals\n",
    "- Pits by non-professionals\n",
    "- Unique Countries"
   ]
  },
  {
   "cell_type": "code",
   "execution_count": 15,
   "metadata": {},
   "outputs": [],
   "source": [
    "core_info_list = []\n",
    "\n",
    "for pit in all_pits:\n",
    "\n",
    "    core_info_dict = {\n",
    "        # metadata\n",
    "        \"PitID\": pit.coreInfo.pitID,\n",
    "        \"Date\": pit.coreInfo.date,\n",
    "        # User\n",
    "        \"SnowPilot Username\": pit.coreInfo.user.username,\n",
    "        \"Professional\": pit.coreInfo.user.professional,\n",
    "        \"Operation Name\": pit.coreInfo.user.operationName,\n",
    "        # Location\n",
    "        \"Latitude\": pit.coreInfo.location.latitude,\n",
    "        \"Longitude\": pit.coreInfo.location.longitude,\n",
    "        \"Elevation\": pit.coreInfo.location.elevation,\n",
    "        \"Aspect\": pit.coreInfo.location.aspect,\n",
    "        \"Slope Angle\": pit.coreInfo.location.slopeAngle,\n",
    "        \"Country\": pit.coreInfo.location.country,\n",
    "        \"Region\": pit.coreInfo.location.region,\n",
    "        \"Pit Near Avalanche\": pit.coreInfo.location.pitNearAvalanche,\n",
    "        \"Pit Near Avalanche Location\": pit.coreInfo.location.pitNearAvalancheLocation,\n",
    "    }\n",
    "    core_info_list.append(core_info_dict)\n",
    "\n",
    "core_info_df = pd.DataFrame(core_info_list)"
   ]
  },
  {
   "cell_type": "code",
   "execution_count": 16,
   "metadata": {},
   "outputs": [
    {
     "name": "stdout",
     "output_type": "stream",
     "text": [
      "Summary of Core Info Data:\n",
      "                   Metric                     Value\n",
      "0              Total Pits                     31170\n",
      "1              Date Range  1998-12-17 to 2024-09-25\n",
      "2            Unique Users                      3854\n",
      "3      Professional Users                     19891\n",
      "4  Non-Professional Users                     11279\n",
      "5        Unique Countries                        31\n",
      "6     Pits Near Avalanche                       945\n",
      "\n",
      "Pit Near Avalanche Locations:\n",
      "Pit Near Avalanche Location\n",
      "crown    480\n",
      "flank    240\n",
      "other    146\n",
      "Name: count, dtype: int64\n"
     ]
    }
   ],
   "source": [
    "# Create a summary table of core_info_df\n",
    "summary_table = {\n",
    "    \"Metric\": [\n",
    "        \"Total Pits\",\n",
    "        \"Date Range\",\n",
    "        \"Unique Users\",\n",
    "        \"Professional Users\",\n",
    "        \"Non-Professional Users\",\n",
    "        \"Unique Countries\",\n",
    "        \"Pits Near Avalanche\",\n",
    "    ],\n",
    "    \"Value\": [\n",
    "        len(core_info_df),  # Total quantity of PitID\n",
    "        f\"{core_info_df['Date'].min()} to {core_info_df['Date'].max()}\",  # Date Range\n",
    "        core_info_df['SnowPilot Username'].nunique(),  # Unique Usernames\n",
    "        core_info_df['Professional'].sum(),  # Count of Professional = True\n",
    "        (~core_info_df['Professional']).sum(),  # Count of Professional = False\n",
    "        core_info_df['Country'].nunique(),  # Unique Countries\n",
    "        core_info_df['Pit Near Avalanche'].sum(),  # Count of Pit Near Avalanche = True\n",
    "    ]\n",
    "}\n",
    "\n",
    "# Create DataFrame for the summary table\n",
    "summary_df = pd.DataFrame(summary_table)\n",
    "\n",
    "# Display the summary table\n",
    "print(\"Summary of Core Info Data:\")\n",
    "print(summary_df)\n",
    "\n",
    "# Count of each unique value for \"Pit Near Avalanche Location\"\n",
    "print(\"\\nPit Near Avalanche Locations:\")\n",
    "avalanche_locations = core_info_df[core_info_df['Pit Near Avalanche'] == True]['Pit Near Avalanche Location'].value_counts()\n",
    "print(avalanche_locations)"
   ]
  },
  {
   "cell_type": "markdown",
   "metadata": {},
   "source": [
    "### Snow Profile"
   ]
  },
  {
   "cell_type": "code",
   "execution_count": 17,
   "metadata": {},
   "outputs": [],
   "source": [
    "snow_profile_list = []\n",
    "\n",
    "for pit in all_pits:\n",
    "    numPrimaryGrainForm = 0 # initialize\n",
    "    numPrimaryGrainSize = 0 # initialize\n",
    "    for layer in pit.snowProfile.layers: # iterate through each layer in the pit\n",
    "        if layer.grainFormPrimary is not None: # if the layer has a primary grain form\n",
    "            numPrimaryGrainForm += 1 # increment the number of primary grain forms\n",
    "            if layer.grainFormPrimary.grainSizeAvg is not None: # if the layer has a primary grain size\n",
    "                numPrimaryGrainSize += 1 # increment the number of primary grain sizes\n",
    "\n",
    "    snow_profile_dict = {\n",
    "        \"PitID\": pit.coreInfo.pitID,\n",
    "        \"Measurement Direction\": pit.snowProfile.measurementDirection,\n",
    "        \"Profile Depth\": pit.snowProfile.profileDepth,\n",
    "        \"HS\": pit.snowProfile.hS,\n",
    "        # Surface Conditions    \n",
    "        \"Foot Penetration\": pit.snowProfile.surfCond.penetrationFoot,\n",
    "        \"Ski Penetration\": pit.snowProfile.surfCond.penetrationSki,\n",
    "        #Layers\n",
    "        \"Num Layers\": len(pit.snowProfile.layers),\n",
    "        \"num Layers wPrimary Grain Form\": numPrimaryGrainForm,\n",
    "        \"num Layers wPrimary Grain Size\": numPrimaryGrainSize,\n",
    "        # Temp Profile\n",
    "        \"Temp Profile\": True if pit.snowProfile.tempProfile is not None else False,\n",
    "        \"Num Temp Obs\": len(pit.snowProfile.tempProfile) if pit.snowProfile.tempProfile is not None else 0,\n",
    "        # Density Profile\n",
    "        \"Density Profile\": True if pit.snowProfile.densityProfile is not None else False,\n",
    "        \"Num Density Obs\": len(pit.snowProfile.densityProfile) if pit.snowProfile.densityProfile is not None else 0,\n",
    "\n",
    "    }\n",
    "    snow_profile_list.append(snow_profile_dict)\n",
    "\n",
    "snow_profile_df = pd.DataFrame(snow_profile_list)"
   ]
  },
  {
   "cell_type": "markdown",
   "metadata": {},
   "source": [
    "### Stability Tests"
   ]
  },
  {
   "cell_type": "code",
   "execution_count": 19,
   "metadata": {},
   "outputs": [],
   "source": [
    "stability_tests_list = []\n",
    "\n",
    "for pit in all_pits:\n",
    "\n",
    "    stability_tests_dict = {\n",
    "        # metadata\n",
    "        \"PitID\": pit.coreInfo.pitID,\n",
    "        \"Num ECT\": len(pit.stabilityTests.ECT),\n",
    "        \"Num CT\": len(pit.stabilityTests.CT),\n",
    "        \"Num RBlock\": len(pit.stabilityTests.RBlock),\n",
    "        \"Num PST\": len(pit.stabilityTests.PST),\n",
    "    }\n",
    "    stability_tests_list.append(stability_tests_dict)\n",
    "\n",
    "stability_tests_df = pd.DataFrame(stability_tests_list)"
   ]
  },
  {
   "cell_type": "code",
   "execution_count": 20,
   "metadata": {},
   "outputs": [
    {
     "name": "stdout",
     "output_type": "stream",
     "text": [
      "Summary of Stability Tests Data:\n",
      "                               Metric         Value\n",
      "0     Total Pits with Stability Tests  31170.000000\n",
      "1                     Total ECT Tests  29247.000000\n",
      "2                      Total CT Tests  32150.000000\n",
      "3             Total Rutschblock Tests    134.000000\n",
      "4                     Total PST Tests   3719.000000\n",
      "5           Average ECT Tests per Pit      0.938306\n",
      "6            Average CT Tests per Pit      1.031440\n",
      "7   Average Rutschblock Tests per Pit      0.004299\n",
      "8           Average PST Tests per Pit      0.119313\n",
      "9                 Pits with ECT Tests  21092.000000\n",
      "10                 Pits with CT Tests  18022.000000\n",
      "11        Pits with Rutschblock Tests    121.000000\n",
      "12                Pits with PST Tests   3102.000000\n",
      "\n",
      "Percentage of Pits with Each Test Type:\n",
      "     Test Type  Number of Pits  Percentage\n",
      "0          ECT           21092       67.67\n",
      "1           CT           18022       57.82\n",
      "2  Rutschblock             121        0.39\n",
      "3          PST            3102        9.95\n"
     ]
    }
   ],
   "source": [
    "# Create a summary of stability tests\n",
    "stability_summary = {\n",
    "    \"Metric\": [\n",
    "        \"Total Pits with Stability Tests\",\n",
    "        \"Total ECT Tests\",\n",
    "        \"Total CT Tests\",\n",
    "        \"Total Rutschblock Tests\",\n",
    "        \"Total PST Tests\",\n",
    "        \"Average ECT Tests per Pit\",\n",
    "        \"Average CT Tests per Pit\",\n",
    "        \"Average Rutschblock Tests per Pit\",\n",
    "        \"Average PST Tests per Pit\",\n",
    "        \"Pits with ECT Tests\",\n",
    "        \"Pits with CT Tests\",\n",
    "        \"Pits with Rutschblock Tests\",\n",
    "        \"Pits with PST Tests\",\n",
    "    ],\n",
    "    \"Value\": [\n",
    "        len(stability_tests_df),\n",
    "        stability_tests_df[\"Num ECT\"].sum(),\n",
    "        stability_tests_df[\"Num CT\"].sum(),\n",
    "        stability_tests_df[\"Num RBlock\"].sum(),\n",
    "        stability_tests_df[\"Num PST\"].sum(),\n",
    "        stability_tests_df[\"Num ECT\"].mean(),\n",
    "        stability_tests_df[\"Num CT\"].mean(),\n",
    "        stability_tests_df[\"Num RBlock\"].mean(),\n",
    "        stability_tests_df[\"Num PST\"].mean(),\n",
    "        (stability_tests_df[\"Num ECT\"] > 0).sum(),\n",
    "        (stability_tests_df[\"Num CT\"] > 0).sum(),\n",
    "        (stability_tests_df[\"Num RBlock\"] > 0).sum(),\n",
    "        (stability_tests_df[\"Num PST\"] > 0).sum(),\n",
    "    ]\n",
    "}\n",
    "\n",
    "# Create DataFrame for the summary\n",
    "stability_summary_df = pd.DataFrame(stability_summary)\n",
    "\n",
    "# Display the summary table\n",
    "print(\"Summary of Stability Tests Data:\")\n",
    "print(stability_summary_df)\n",
    "\n",
    "# Calculate percentage of pits with each test type\n",
    "total_pits = len(stability_tests_df)\n",
    "test_percentages = {\n",
    "    \"Test Type\": [\"ECT\", \"CT\", \"Rutschblock\", \"PST\"],\n",
    "    \"Number of Pits\": [\n",
    "        (stability_tests_df[\"Num ECT\"] > 0).sum(),\n",
    "        (stability_tests_df[\"Num CT\"] > 0).sum(),\n",
    "        (stability_tests_df[\"Num RBlock\"] > 0).sum(),\n",
    "        (stability_tests_df[\"Num PST\"] > 0).sum(),\n",
    "    ]\n",
    "}\n",
    "\n",
    "test_percentages_df = pd.DataFrame(test_percentages)\n",
    "test_percentages_df[\"Percentage\"] = (test_percentages_df[\"Number of Pits\"] / total_pits * 100).round(2)\n",
    "\n",
    "print(\"\\nPercentage of Pits with Each Test Type:\")\n",
    "print(test_percentages_df)"
   ]
  }
 ],
 "metadata": {
  "kernelspec": {
   "display_name": ".venv",
   "language": "python",
   "name": "python3"
  },
  "language_info": {
   "codemirror_mode": {
    "name": "ipython",
    "version": 3
   },
   "file_extension": ".py",
   "mimetype": "text/x-python",
   "name": "python",
   "nbconvert_exporter": "python",
   "pygments_lexer": "ipython3",
   "version": "3.13.2"
  }
 },
 "nbformat": 4,
 "nbformat_minor": 2
}
