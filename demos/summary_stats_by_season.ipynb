{
 "cells": [
  {
   "cell_type": "markdown",
   "metadata": {},
   "source": [
    "# Summary Statistics and Comparisons by Snow Year"
   ]
  },
  {
   "cell_type": "code",
   "execution_count": 1,
   "metadata": {},
   "outputs": [],
   "source": [
    "# Import libraries\n",
    "import os\n",
    "import pandas as pd\n",
    "import matplotlib.pyplot as plt\n",
    "from snowpylot.caaml_parser import caaml_parser"
   ]
  },
  {
   "cell_type": "code",
   "execution_count": 2,
   "metadata": {},
   "outputs": [],
   "source": [
    "def parse_pits(folder_path):\n",
    "    '''\n",
    "    Function to parse CAAML files in the specified folder\n",
    "    '''\n",
    "\n",
    "    files = [f for f in os.listdir(folder_path) if f.endswith(\".xml\")]  # List of all .xml files in the folder\n",
    "    \n",
    "    pits_list = []\n",
    "\n",
    "    for file in files: # iterate through each file in the folder\n",
    "        file_path = folder_path + \"/\" + file # create the file path\n",
    "        pit = caaml_parser(file_path) # parse the file\n",
    "        pits_list.append(pit)\n",
    "\n",
    "    return pits_list"
   ]
  },
  {
   "cell_type": "code",
   "execution_count": 4,
   "metadata": {},
   "outputs": [],
   "source": [
    "# Define folders and create a list of all CAAML files\n",
    "\n",
    "pits_19_20 = parse_pits(\"snowpits/by_season/2019-2020\")\n",
    "pits_20_21 = parse_pits(\"snowpits/by_season/2020-2021\")\n",
    "pits_21_22 = parse_pits(\"snowpits/by_season/2021-2022\")\n",
    "pits_22_23 = parse_pits(\"snowpits/by_season/2022-2023\")\n",
    "pits_23_24 = parse_pits(\"snowpits/by_season/2023-2024\")\n",
    "\n",
    "# 2019-2020 \n",
    "folder_path = \"snowpits/by_season/2019-2020\"  \n",
    "\n",
    "caaml_files_19_20 = [\n",
    "    f for f in os.listdir(folder_path) if f.endswith(\".xml\")\n",
    "]  # List of all CAAML files in the folder\n",
    "\n",
    "# 2020-2021 \n",
    "folder_path = \"snowpits/by_season/2019-2020\"  \n",
    "\n",
    "caaml_files_20_21 = [\n",
    "    f for f in os.listdir(folder_path) if f.endswith(\".xml\")\n",
    "]  # List of all CAAML files in the folder\n",
    "\n",
    "# 2021-2022 \n",
    "folder_path = \"snowpits/by_season/2019-2020\"  \n",
    "\n",
    "caaml_files_21_22 = [\n",
    "    f for f in os.listdir(folder_path) if f.endswith(\".xml\")\n",
    "]  # List of all CAAML files in the folder\n",
    "\n",
    "# 2022-2023 \n",
    "folder_path = \"snowpits/by_season/2019-2020\"  \n",
    "\n",
    "caaml_files_22_23 = [\n",
    "    f for f in os.listdir(folder_path) if f.endswith(\".xml\")\n",
    "]  # List of all CAAML files in the folder"
   ]
  },
  {
   "cell_type": "code",
   "execution_count": 5,
   "metadata": {},
   "outputs": [
    {
     "ename": "KeyError",
     "evalue": "'PPhl'",
     "output_type": "error",
     "traceback": [
      "\u001b[1;31m---------------------------------------------------------------------------\u001b[0m",
      "\u001b[1;31mKeyError\u001b[0m                                  Traceback (most recent call last)",
      "Cell \u001b[1;32mIn[5], line 7\u001b[0m\n\u001b[0;32m      5\u001b[0m \u001b[38;5;28;01mfor\u001b[39;00m file \u001b[38;5;129;01min\u001b[39;00m caaml_files_19_20: \u001b[38;5;66;03m# iterate through each file in the folder\u001b[39;00m\n\u001b[0;32m      6\u001b[0m     file_path \u001b[38;5;241m=\u001b[39m folder_path \u001b[38;5;241m+\u001b[39m \u001b[38;5;124m\"\u001b[39m\u001b[38;5;124m/\u001b[39m\u001b[38;5;124m\"\u001b[39m \u001b[38;5;241m+\u001b[39m file \u001b[38;5;66;03m# create the file path\u001b[39;00m\n\u001b[1;32m----> 7\u001b[0m     pit \u001b[38;5;241m=\u001b[39m \u001b[43mcaaml_parser\u001b[49m\u001b[43m(\u001b[49m\u001b[43mfile_path\u001b[49m\u001b[43m)\u001b[49m \u001b[38;5;66;03m# parse the file\u001b[39;00m\n\u001b[0;32m      9\u001b[0m     numPrimaryGrainForm \u001b[38;5;241m=\u001b[39m \u001b[38;5;241m0\u001b[39m \u001b[38;5;66;03m# initialize\u001b[39;00m\n\u001b[0;32m     10\u001b[0m     numPrimaryGrainSize \u001b[38;5;241m=\u001b[39m \u001b[38;5;241m0\u001b[39m \u001b[38;5;66;03m# initialize\u001b[39;00m\n",
      "File \u001b[1;32m~\\Desktop\\SnowPilot Repo\\SnowPilotAnalytics\\src\\snowpylot\\caaml_parser.py:198\u001b[0m, in \u001b[0;36mcaaml_parser\u001b[1;34m(file_path)\u001b[0m\n\u001b[0;32m    196\u001b[0m \u001b[38;5;28;01mfor\u001b[39;00m prop \u001b[38;5;129;01min\u001b[39;00m layer\u001b[38;5;241m.\u001b[39miter(caaml_tag \u001b[38;5;241m+\u001b[39m \u001b[38;5;124m\"\u001b[39m\u001b[38;5;124mgrainFormPrimary\u001b[39m\u001b[38;5;124m\"\u001b[39m):\n\u001b[0;32m    197\u001b[0m     layer_obj\u001b[38;5;241m.\u001b[39mgrainFormPrimary \u001b[38;5;241m=\u001b[39m Grain()\n\u001b[1;32m--> 198\u001b[0m     \u001b[43mlayer_obj\u001b[49m\u001b[38;5;241;43m.\u001b[39;49m\u001b[43mgrainFormPrimary\u001b[49m\u001b[38;5;241;43m.\u001b[39;49m\u001b[43mset_grainForm\u001b[49m\u001b[43m(\u001b[49m\u001b[43mprop\u001b[49m\u001b[38;5;241;43m.\u001b[39;49m\u001b[43mtext\u001b[49m\u001b[43m)\u001b[49m\n\u001b[0;32m    200\u001b[0m \u001b[38;5;28;01mfor\u001b[39;00m prop \u001b[38;5;129;01min\u001b[39;00m layer\u001b[38;5;241m.\u001b[39miter(caaml_tag \u001b[38;5;241m+\u001b[39m \u001b[38;5;124m\"\u001b[39m\u001b[38;5;124mgrainFormSecondary\u001b[39m\u001b[38;5;124m\"\u001b[39m):\n\u001b[0;32m    201\u001b[0m     layer_obj\u001b[38;5;241m.\u001b[39mgrainFormSecondary \u001b[38;5;241m=\u001b[39m Grain()\n",
      "File \u001b[1;32m~\\Desktop\\SnowPilot Repo\\SnowPilotAnalytics\\src\\snowpylot\\layer.py:159\u001b[0m, in \u001b[0;36mGrain.set_grainForm\u001b[1;34m(self, grainForm)\u001b[0m\n\u001b[0;32m    157\u001b[0m     \u001b[38;5;28mself\u001b[39m\u001b[38;5;241m.\u001b[39msubGrainClass_code \u001b[38;5;241m=\u001b[39m grainForm\n\u001b[0;32m    158\u001b[0m     \u001b[38;5;28mself\u001b[39m\u001b[38;5;241m.\u001b[39mbasicGrainClass_name \u001b[38;5;241m=\u001b[39m basicGrainClassDict[\u001b[38;5;28mself\u001b[39m\u001b[38;5;241m.\u001b[39mbasicGrainClass_code]\n\u001b[1;32m--> 159\u001b[0m     \u001b[38;5;28mself\u001b[39m\u001b[38;5;241m.\u001b[39msubGrainClass_name \u001b[38;5;241m=\u001b[39m \u001b[43msubGrainClassDict\u001b[49m\u001b[43m[\u001b[49m\u001b[38;5;28;43mself\u001b[39;49m\u001b[38;5;241;43m.\u001b[39;49m\u001b[43msubGrainClass_code\u001b[49m\u001b[43m]\u001b[49m\n\u001b[0;32m    160\u001b[0m \u001b[38;5;28;01melse\u001b[39;00m:\n\u001b[0;32m    161\u001b[0m     \u001b[38;5;28mself\u001b[39m\u001b[38;5;241m.\u001b[39mbasicGrainClass_code \u001b[38;5;241m=\u001b[39m grainForm\n",
      "\u001b[1;31mKeyError\u001b[0m: 'PPhl'"
     ]
    }
   ],
   "source": [
    "# Parse 2019-2020 CAAML files\n",
    "\n",
    "pitList = []\n",
    "\n",
    "for file in caaml_files_19_20: # iterate through each file in the folder\n",
    "    file_path = folder_path + \"/\" + file # create the file path\n",
    "    pit = caaml_parser(file_path) # parse the file\n",
    "\n",
    "    numPrimaryGrainForm = 0 # initialize\n",
    "    numPrimaryGrainSize = 0 # initialize\n",
    "    for layer in pit.snowProfile.layers: # iterate through each layer in the pit\n",
    "        if layer.grainFormPrimary is not None: # if the layer has a primary grain form\n",
    "            numPrimaryGrainForm += 1 # increment the number of primary grain forms\n",
    "            if layer.grainFormPrimary.grainSizeAvg is not None: # if the layer has a primary grain size\n",
    "                numPrimaryGrainSize += 1 # increment the number of primary grain sizes\n",
    "\n",
    "    pitDict = { # create a dictionary of the pit information for each pit\n",
    "        \"PitID\": pit.coreInfo.pitID,\n",
    "        \"Operation Name\": pit.coreInfo.user.operationName,\n",
    "        \"SnowPilot Username\": pit.coreInfo.user.username,\n",
    "        \"num Layers\": len(pit.snowProfile.layers),\n",
    "        \"num Layers wPrimary Grain Form\": numPrimaryGrainForm,\n",
    "        \"num Layers wPrimary Grain Size\": numPrimaryGrainSize,\n",
    "        \"tempMeasurements\": len(pit.snowProfile.tempProfile)\n",
    "        if pit.snowProfile.tempProfile != None\n",
    "        else 0,\n",
    "        \"densityMeasurements\": len(pit.snowProfile.densityProfile)\n",
    "        if pit.snowProfile.densityProfile != None\n",
    "        else 0,\n",
    "        \"ECT_qty\": len(pit.stabilityTests.ECT),\n",
    "        \"CT_qty\": len(pit.stabilityTests.CT),\n",
    "        \"PST_qty\": len(pit.stabilityTests.PST),\n",
    "        \"RBT_qty\": len(pit.stabilityTests.RBlock)\n",
    "    }\n",
    "    pitList.append(pitDict) # append the pit dictionary to the list\n",
    "\n",
    "df = pd.DataFrame(pitList)\n"
   ]
  },
  {
   "cell_type": "code",
   "execution_count": null,
   "metadata": {},
   "outputs": [],
   "source": [
    "# Create a dictionary to summarize available info\n",
    "\n",
    "summary_info = {\n",
    "    \"Pits\": int(df[\"PitID\"].count()), # number of pits  \n",
    "    \"Layers\": int(df[\"num Layers\"].sum()), # number of layers\n",
    "    \"Layers wPrimary Grain Form\": int(df[\"num Layers wPrimary Grain Form\"].sum()), # number of layers with primary grain form\n",
    "    \"Layers wPrimary Grain Size\": int(df[\"num Layers wPrimary Grain Size\"].sum()), # number of layers with primary grain size\n",
    "    \"Pits with Density Info\": int((df[\"densityMeasurements\"] != 0).sum()), # number of pits with density info\n",
    "    \"Density Measurements\": int(df[\"densityMeasurements\"].sum()), # number of density measurements\n",
    "    \"Pits with Temp Info\": int((df[\"tempMeasurements\"] != 0).sum()), # number of pits with temp info\n",
    "    \"Temp Measurements\": int(df[\"tempMeasurements\"].sum()), # number of temp measurements\n",
    "    \"ECT Results\": int(df[\"ECT_qty\"].sum()), # number of ECT results\n",
    "    \"CT Results\": int(df[\"CT_qty\"].sum()), # number of CT results\n",
    "    \"PST Results\": int(df[\"PST_qty\"].sum()), # number of PST results\n",
    "    \"RBT Results\": int(df[\"RBT_qty\"].sum()), # number of RBT results\n",
    "}\n",
    "\n",
    "for key, value in summary_info.items():\n",
    "    print(key + \": \" + str(value))"
   ]
  }
 ],
 "metadata": {
  "kernelspec": {
   "display_name": ".venv",
   "language": "python",
   "name": "python3"
  },
  "language_info": {
   "codemirror_mode": {
    "name": "ipython",
    "version": 3
   },
   "file_extension": ".py",
   "mimetype": "text/x-python",
   "name": "python",
   "nbconvert_exporter": "python",
   "pygments_lexer": "ipython3",
   "version": "3.13.2"
  }
 },
 "nbformat": 4,
 "nbformat_minor": 2
}
