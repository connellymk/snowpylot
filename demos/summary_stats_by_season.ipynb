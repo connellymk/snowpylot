{
 "cells": [
  {
   "cell_type": "markdown",
   "metadata": {},
   "source": [
    "# Summary Statistics and Comparisons by Snow Year"
   ]
  },
  {
   "cell_type": "markdown",
   "metadata": {},
   "source": [
    "#### Import Libraries"
   ]
  },
  {
   "cell_type": "code",
   "execution_count": 20,
   "metadata": {},
   "outputs": [],
   "source": [
    "# Import libraries\n",
    "import os\n",
    "import pandas as pd\n",
    "import matplotlib.pyplot as plt\n",
    "from snowpylot.caaml_parser import caaml_parser"
   ]
  },
  {
   "cell_type": "markdown",
   "metadata": {},
   "source": [
    "#### Define Folders"
   ]
  },
  {
   "cell_type": "code",
   "execution_count": 21,
   "metadata": {},
   "outputs": [],
   "source": [
    "# Define folders and create a list of all CAAML files\n",
    "\n",
    "# 2019-2020 \n",
    "folder_path = \"snowpits/by_season/2019-2020\"  \n",
    "\n",
    "caaml_files_19_20 = [\n",
    "    f for f in os.listdir(folder_path) if f.endswith(\".xml\")\n",
    "]  # List of all CAAML files in the folder\n",
    "\n",
    "# 2020-2021 \n",
    "folder_path = \"snowpits/by_season/2019-2020\"  \n",
    "\n",
    "caaml_files_20_21 = [\n",
    "    f for f in os.listdir(folder_path) if f.endswith(\".xml\")\n",
    "]  # List of all CAAML files in the folder\n",
    "\n",
    "# 2021-2022 \n",
    "folder_path = \"snowpits/by_season/2019-2020\"  \n",
    "\n",
    "caaml_files_21_22 = [\n",
    "    f for f in os.listdir(folder_path) if f.endswith(\".xml\")\n",
    "]  # List of all CAAML files in the folder\n",
    "\n",
    "# 2022-2023 \n",
    "folder_path = \"snowpits/by_season/2019-2020\"  \n",
    "\n",
    "caaml_files_22_23 = [\n",
    "    f for f in os.listdir(folder_path) if f.endswith(\".xml\")\n",
    "]  # List of all CAAML files in the folder"
   ]
  },
  {
   "cell_type": "markdown",
   "metadata": {},
   "source": [
    "## 2019-2020\n",
    "10/1/2019-9/30-2020"
   ]
  },
  {
   "cell_type": "markdown",
   "metadata": {},
   "source": [
    "#### Parse files and build dataframe"
   ]
  },
  {
   "cell_type": "code",
   "execution_count": 22,
   "metadata": {},
   "outputs": [],
   "source": [
    "#Parse 2019-2020 CAAML files\n",
    "\n",
    "pitList = []\n",
    "\n",
    "for file in caaml_files_19_20: # iterate through each file in the folder\n",
    "    file_path = folder_path + \"/\" + file # create the file path\n",
    "    pit = caaml_parser(file_path) # parse the file\n",
    "\n",
    "    numPrimaryGrainForm = 0 # initialize\n",
    "    numPrimaryGrainSize = 0 # initialize\n",
    "    for layer in pit.snowProfile.layers: # iterate through each layer in the pit\n",
    "        if layer.grainFormPrimary is not None: # if the layer has a primary grain form\n",
    "            numPrimaryGrainForm += 1 # increment the number of primary grain forms\n",
    "            if layer.grainFormPrimary.grainSizeAvg is not None: # if the layer has a primary grain size\n",
    "                numPrimaryGrainSize += 1 # increment the number of primary grain sizes\n",
    "\n",
    "    pitDict = { # create a dictionary of the pit information for each pit\n",
    "        \"PitID\": pit.coreInfo.pitID,\n",
    "        \"Operation Name\": pit.coreInfo.user.operationName,\n",
    "        \"SnowPilot Username\": pit.coreInfo.user.username,\n",
    "        \"num Layers\": len(pit.snowProfile.layers),\n",
    "        \"num Layers wPrimary Grain Form\": numPrimaryGrainForm,\n",
    "        \"num Layers wPrimary Grain Size\": numPrimaryGrainSize,\n",
    "        \"tempMeasurements\": len(pit.snowProfile.tempProfile)\n",
    "        if pit.snowProfile.tempProfile != None\n",
    "        else 0,\n",
    "        \"densityMeasurements\": len(pit.snowProfile.densityProfile)\n",
    "        if pit.snowProfile.densityProfile != None\n",
    "        else 0,\n",
    "        \"ECT_qty\": len(pit.stabilityTests.ECT),\n",
    "        \"CT_qty\": len(pit.stabilityTests.CT),\n",
    "        \"PST_qty\": len(pit.stabilityTests.PST),\n",
    "        \"RBT_qty\": len(pit.stabilityTests.RBlock)\n",
    "    }\n",
    "    pitList.append(pitDict) # append the pit dictionary to the list\n",
    "\n",
    "df = pd.DataFrame(pitList)\n"
   ]
  },
  {
   "cell_type": "code",
   "execution_count": 23,
   "metadata": {},
   "outputs": [],
   "source": [
    "# Create a dictionary to summarize available info\n",
    "\n",
    "summary_info = {\n",
    "    \"Pits\": int(df[\"PitID\"].count()), # number of pits  \n",
    "    \"Layers\": int(df[\"num Layers\"].sum()), # number of layers\n",
    "    \"Layers wPrimary Grain Form\": int(df[\"num Layers wPrimary Grain Form\"].sum()), # number of layers with primary grain form\n",
    "    \"Layers wPrimary Grain Size\": int(df[\"num Layers wPrimary Grain Size\"].sum()), # number of layers with primary grain size\n",
    "    \"Pits with Density Info\": int((df[\"densityMeasurements\"] != 0).sum()), # number of pits with density info\n",
    "    \"Density Measurements\": int(df[\"densityMeasurements\"].sum()), # number of density measurements\n",
    "    \"Pits with Temp Info\": int((df[\"tempMeasurements\"] != 0).sum()), # number of pits with temp info\n",
    "    \"Temp Measurements\": int(df[\"tempMeasurements\"].sum()), # number of temp measurements\n",
    "    \"ECT Results\": int(df[\"ECT_qty\"].sum()), # number of ECT results\n",
    "    \"CT Results\": int(df[\"CT_qty\"].sum()), # number of CT results\n",
    "    \"PST Results\": int(df[\"PST_qty\"].sum()), # number of PST results\n",
    "    \"RBT Results\": int(df[\"RBT_qty\"].sum()), # number of RBT results\n",
    "}\n"
   ]
  },
  {
   "cell_type": "markdown",
   "metadata": {},
   "source": [
    "#### Display Summary Info"
   ]
  },
  {
   "cell_type": "code",
   "execution_count": 24,
   "metadata": {},
   "outputs": [
    {
     "name": "stdout",
     "output_type": "stream",
     "text": [
      "Pits: 4663\n",
      "Layers: 36282\n",
      "Layers wPrimary Grain Form: 29369\n",
      "Layers wPrimary Grain Size: 17443\n",
      "Pits with Density Info: 151\n",
      "Density Measurements: 1392\n",
      "Pits with Temp Info: 2356\n",
      "Temp Measurements: 21644\n",
      "ECT Results: 4507\n",
      "CT Results: 5236\n",
      "PST Results: 582\n",
      "RBT Results: 33\n"
     ]
    }
   ],
   "source": [
    "for key, value in summary_info.items():\n",
    "    print(key + \": \" + str(value))"
   ]
  },
  {
   "cell_type": "markdown",
   "metadata": {},
   "source": [
    "## 2020-2021\n",
    "10/1/2020-9/30-2021"
   ]
  }
 ],
 "metadata": {
  "kernelspec": {
   "display_name": ".venv",
   "language": "python",
   "name": "python3"
  },
  "language_info": {
   "codemirror_mode": {
    "name": "ipython",
    "version": 3
   },
   "file_extension": ".py",
   "mimetype": "text/x-python",
   "name": "python",
   "nbconvert_exporter": "python",
   "pygments_lexer": "ipython3",
   "version": "3.13.2"
  }
 },
 "nbformat": 4,
 "nbformat_minor": 2
}
