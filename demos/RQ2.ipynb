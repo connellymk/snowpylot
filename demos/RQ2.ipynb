{
 "cells": [
  {
   "cell_type": "markdown",
   "metadata": {},
   "source": [
    "**Research Question 2**\n",
    "\n",
    "How often is a Q1 fracture associated with an ECTP on the same layer?\n",
    "\n",
    "## General Process\n",
    "1. load files\n",
    "2. Optional: Find pits with properties of interest\n",
    "3. Create a list of dictionaries of properties of interest\n",
    "4. Create a dataframe from the list of dictionaries\n",
    "\n",
    "*Question: In the case of multiple CT and ECT results, which results should be used?*\n",
    "* Do any tests\n",
    "\n",
    "\n",
    "* Do any ECTs and CTs have P and Q1 on the same layer?\n",
    "    If yes, then correlation\n",
    "\n",
    "\n",
    "* Are ECTP and Q1 failure on the same layer?\n",
    "* If multiple CTs, are they all the same shear quality?\n",
    "\n",
    "\n",
    "*STEPS*\n",
    "1. find pits with ECTP and CT with shear quality results\n",
    "2. Find tests with failure on the same layer\n",
    "3. If multiple of either test, select test with lowest fracture character\n",
    "\n",
    "*FIRST QUESTION*\n",
    "* Of pits that have ECTP results and CT results with Shear quality. When failure occurs on the same layer, how often (pie chart and/or percentage table) is the fracture character of the CT Q1?\n",
    "\n",
    "\n",
    "\n",
    "\n",
    "\n",
    "\n"
   ]
  },
  {
   "cell_type": "code",
   "execution_count": 1,
   "metadata": {},
   "outputs": [
    {
     "ename": "ModuleNotFoundError",
     "evalue": "No module named 'snowpylot'",
     "output_type": "error",
     "traceback": [
      "\u001b[1;31m---------------------------------------------------------------------------\u001b[0m",
      "\u001b[1;31mModuleNotFoundError\u001b[0m                       Traceback (most recent call last)",
      "Cell \u001b[1;32mIn[1], line 9\u001b[0m\n\u001b[0;32m      5\u001b[0m \u001b[38;5;28;01mimport\u001b[39;00m \u001b[38;5;21;01mmatplotlib\u001b[39;00m\u001b[38;5;21;01m.\u001b[39;00m\u001b[38;5;21;01mpyplot\u001b[39;00m \u001b[38;5;28;01mas\u001b[39;00m \u001b[38;5;21;01mplt\u001b[39;00m\n\u001b[0;32m      7\u001b[0m \u001b[38;5;66;03m# Add the directory containing snowpylot to your Python path\u001b[39;00m\n\u001b[0;32m      8\u001b[0m \u001b[38;5;66;03m# Adjust the path to match your directory structure\u001b[39;00m\n\u001b[1;32m----> 9\u001b[0m \u001b[38;5;28;01mfrom\u001b[39;00m \u001b[38;5;21;01msnowpylot\u001b[39;00m \u001b[38;5;28;01mimport\u001b[39;00m \u001b[38;5;241m*\u001b[39m\n",
      "\u001b[1;31mModuleNotFoundError\u001b[0m: No module named 'snowpylot'"
     ]
    }
   ],
   "source": [
    "# import libraries\n",
    "import sys\n",
    "import os\n",
    "import pandas as pd\n",
    "import matplotlib.pyplot as plt\n",
    "\n",
    "# Add the directory containing snowpylot to your Python path\n",
    "# Adjust the path to match your directory structure\n",
    "from snowpylot import *\n"
   ]
  },
  {
   "cell_type": "code",
   "execution_count": 10,
   "metadata": {},
   "outputs": [
    {
     "name": "stdout",
     "output_type": "stream",
     "text": [
      "Current working directory: c:\\Users\\Administrator\\Desktop\\SnowPilot Repo\\SnowPilotAnalytics\\demos\n",
      "\n",
      "Python path:\n",
      "C:\\Program Files\\WindowsApps\\PythonSoftwareFoundation.Python.3.13_3.13.752.0_x64__qbz5n2kfra8p0\\python313.zip\n",
      "C:\\Program Files\\WindowsApps\\PythonSoftwareFoundation.Python.3.13_3.13.752.0_x64__qbz5n2kfra8p0\\DLLs\n",
      "C:\\Program Files\\WindowsApps\\PythonSoftwareFoundation.Python.3.13_3.13.752.0_x64__qbz5n2kfra8p0\\Lib\n",
      "C:\\Program Files\\WindowsApps\\PythonSoftwareFoundation.Python.3.13_3.13.752.0_x64__qbz5n2kfra8p0\n",
      "c:\\Users\\Administrator\\Desktop\\SnowPilot Repo\\SnowPilotAnalytics\\.venv\n",
      "\n",
      "c:\\Users\\Administrator\\Desktop\\SnowPilot Repo\\SnowPilotAnalytics\\.venv\\Lib\\site-packages\n",
      "c:\\Users\\Administrator\\Desktop\\SnowPilot Repo\\SnowPilotAnalytics\\.venv\\Lib\\site-packages\\win32\n",
      "c:\\Users\\Administrator\\Desktop\\SnowPilot Repo\\SnowPilotAnalytics\\.venv\\Lib\\site-packages\\win32\\lib\n",
      "c:\\Users\\Administrator\\Desktop\\SnowPilot Repo\\SnowPilotAnalytics\\.venv\\Lib\\site-packages\\Pythonwin\n",
      "c:\\Users\\Administrator\\Desktop\\SnowPilot Repo\\SnowPilotAnalytics\\path\\to\\snowpylot\n",
      "c:\\Users\\Administrator\\Desktop\\SnowPilot Repo\\SnowPilotAnalytics\\demos\\snowpylot\n",
      "c:\\Users\\Administrator\\Desktop\\SnowPilot Repo\\SnowPilotAnalytics\\demos\\SnowPilot Repo\\SnowPilotAnalytics\\snowpylot\n"
     ]
    }
   ],
   "source": [
    "print(\"Current working directory:\", os.getcwd())\n",
    "print(\"\\nPython path:\")\n",
    "for path in sys.path:\n",
    "    print(path)"
   ]
  },
  {
   "cell_type": "code",
   "execution_count": 20,
   "metadata": {},
   "outputs": [],
   "source": [
    "# Load xml files\n",
    "\n",
    "#folder_path = \"snowpits_200_MT\" # The latest 200 snow pits from MT\n",
    "folder_path = \"snowpits_1K\" # latest 1K snowpits from SnowPilot\n",
    "\n",
    "# Create a list of all CAAML files in the folder\n",
    "caaml_files = [f for f in os.listdir(folder_path) if f.endswith('.xml')] # List of all CAAML files in the folder"
   ]
  },
  {
   "cell_type": "code",
   "execution_count": null,
   "metadata": {},
   "outputs": [],
   "source": [
    "# Find pits with CT and ECT results\n",
    "\n",
    "pits_with_CT_ECT = []\n",
    "\n",
    "for file in caaml_files:\n",
    "    file_path = folder_path + '/' + file\n",
    "    pit = caaml_parser(file_path)\n",
    "\n",
    "    if len(pit.stabilityTests.CT) > 0 and len(pit.stabilityTests.ECT) > 0:\n",
    "        pits_with_CT_ECT.append(pit)\n",
    "\n",
    "\n",
    "print(len(pits_with_CT_ECT)) ## How many pits have CT and ECT results?"
   ]
  },
  {
   "cell_type": "code",
   "execution_count": null,
   "metadata": {},
   "outputs": [],
   "source": [
    "# ECT and CT results\n",
    "\n",
    "results_list=[]\n",
    "results_dict={}\n",
    "\n",
    "for pit in pits_with_CT_ECT:\n",
    "\n",
    "    ECTs = pit.stabilityTests.ECT\n",
    "    CTs = pit.stabilityTests.CT\n",
    "\n",
    "    for ect in ECTs:\n",
    "        for ct in CTs: # Every combination of ECT and CT results\n",
    "            if(ect.depthTop == ct.depthTop and ect.propogation == True): # If failure on the same level and ECT has propogation\n",
    "                results_dict ={\n",
    "                    'PitID': pit.pitID,\n",
    "                    'ECT Score': ect.testScore,\n",
    "                    'CT Shear Qual': ct.shearQuality\n",
    "                }\n",
    "                results_list.append(results_dict)\n",
    "   \n",
    "df = pd.DataFrame(results_list)\n",
    "grouped=df.groupby('PitID')\n",
    "print(grouped.sum())\n",
    "\n",
    "df = df.drop_duplicates(subset=['PitID'], keep='first') # Drop duplicates per pit NOTE This keeps the first occurance, update?\n",
    "print('Unique df')\n",
    "print(df)\n"
   ]
  },
  {
   "cell_type": "code",
   "execution_count": null,
   "metadata": {},
   "outputs": [],
   "source": [
    "import matplotlib.pyplot as plt\n",
    "\n",
    "# Calculate value counts for ShearQual\n",
    "shear_counts = df['CT Shear Qual'].value_counts()\n",
    "\n",
    "# Create pie chart\n",
    "plt.figure(figsize=(10, 8))\n",
    "plt.pie(shear_counts.values, \n",
    "        labels=shear_counts.index,\n",
    "        autopct='%1.1f%%',  # Show percentages with 1 decimal place\n",
    "        startangle=90)      # Rotate start of pie to 90 degrees\n",
    "\n",
    "# Add title\n",
    "plt.title('Distribution of CT Shear Quality Results in Pits Where ECTP Occurs on the same Layer', pad=20)\n",
    "\n",
    "# Equal aspect ratio ensures that pie is drawn as a circle\n",
    "plt.axis('equal')\n",
    "\n",
    "# Show the plot\n",
    "plt.show()\n",
    "\n",
    "# Optional: Print the actual counts and percentages\n",
    "print(\"\\nShear Quality Distribution:\")\n",
    "print(shear_counts)\n",
    "print(\"\\nPercentages:\")\n",
    "print((shear_counts/len(df['CT Shear Qual'])*100).round(1))"
   ]
  }
 ],
 "metadata": {
  "kernelspec": {
   "display_name": ".venv",
   "language": "python",
   "name": "python3"
  },
  "language_info": {
   "codemirror_mode": {
    "name": "ipython",
    "version": 3
   },
   "file_extension": ".py",
   "mimetype": "text/x-python",
   "name": "python",
   "nbconvert_exporter": "python",
   "pygments_lexer": "ipython3",
   "version": "3.13.2"
  }
 },
 "nbformat": 4,
 "nbformat_minor": 2
}
