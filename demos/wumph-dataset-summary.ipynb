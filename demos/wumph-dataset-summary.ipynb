{
 "cells": [
  {
   "cell_type": "markdown",
   "metadata": {},
   "source": [
    "Summary Stats\n",
    "* Number of pits\n",
    "* Number of layers\n",
    "* Information about the layers\n",
    "* Types of tests\n",
    "* Information about the tests\n",
    "* How many have density?\n"
   ]
  },
  {
   "cell_type": "code",
   "execution_count": 1,
   "metadata": {},
   "outputs": [],
   "source": [
    "# Import libraries\n",
    "import sys\n",
    "import os\n",
    "import pandas as pd\n",
    "import matplotlib.pyplot as plt"
   ]
  },
  {
   "cell_type": "code",
   "execution_count": 3,
   "metadata": {},
   "outputs": [
    {
     "name": "stdout",
     "output_type": "stream",
     "text": [
      "Current working directory: c:\\Users\\Administrator\\Desktop\\SnowPilot Repo\\SnowPilotAnalytics\\demos\n",
      "\n",
      "Contents of current directory: ['LemonsInTheSnowpack.ipynb', 'RQ2.ipynb', 'test-pit-object.ipynb', 'wumph-dataset-summary.ipynb']\n",
      "\n",
      "After going up one level:\n",
      "New working directory: c:\\Users\\Administrator\\Desktop\\SnowPilot Repo\\SnowPilotAnalytics\n",
      "Contents: ['.git', '.gitattributes', '.gitignore', '.ipynb_checkpoints', '.venv', 'demos', 'documentation', 'README.md', 'snowpits', 'snowpylot', 'zz_old', '__pycache__']\n"
     ]
    }
   ],
   "source": [
    "print(\"Current working directory:\", os.getcwd())\n",
    "print(\"\\nContents of current directory:\", os.listdir())\n",
    "\n",
    "# Go up one directory level\n",
    "os.chdir(\"..\")\n",
    "print(\"\\nAfter going up one level:\")\n",
    "print(\"New working directory:\", os.getcwd())\n",
    "print(\"Contents:\", os.listdir())"
   ]
  },
  {
   "cell_type": "code",
   "execution_count": 4,
   "metadata": {},
   "outputs": [
    {
     "name": "stdout",
     "output_type": "stream",
     "text": [
      "Project root: c:\\Users\\Administrator\\Desktop\\SnowPilot Repo\n",
      "\n",
      "Python path:\n",
      "c:\\Users\\Administrator\\Desktop\\SnowPilot Repo\\snowpylot\n",
      "c:\\Users\\Administrator\\Desktop\\SnowPilot Repo\\SnowPilotAnalytics\\demos\n",
      "C:\\Program Files\\WindowsApps\\PythonSoftwareFoundation.Python.3.13_3.13.752.0_x64__qbz5n2kfra8p0\\python313.zip\n",
      "C:\\Program Files\\WindowsApps\\PythonSoftwareFoundation.Python.3.13_3.13.752.0_x64__qbz5n2kfra8p0\\DLLs\n",
      "C:\\Program Files\\WindowsApps\\PythonSoftwareFoundation.Python.3.13_3.13.752.0_x64__qbz5n2kfra8p0\\Lib\n",
      "C:\\Program Files\\WindowsApps\\PythonSoftwareFoundation.Python.3.13_3.13.752.0_x64__qbz5n2kfra8p0\n",
      "c:\\Users\\Administrator\\Desktop\\SnowPilot Repo\\SnowPilotAnalytics\\.venv\n",
      "\n",
      "c:\\Users\\Administrator\\Desktop\\SnowPilot Repo\\SnowPilotAnalytics\\.venv\\Lib\\site-packages\n",
      "c:\\Users\\Administrator\\Desktop\\SnowPilot Repo\\SnowPilotAnalytics\\.venv\\Lib\\site-packages\\win32\n",
      "c:\\Users\\Administrator\\Desktop\\SnowPilot Repo\\SnowPilotAnalytics\\.venv\\Lib\\site-packages\\win32\\lib\n",
      "c:\\Users\\Administrator\\Desktop\\SnowPilot Repo\\SnowPilotAnalytics\\.venv\\Lib\\site-packages\\Pythonwin\n"
     ]
    }
   ],
   "source": [
    "# Get absolute path to project root (where snowpylot directory is located)\n",
    "project_root = os.path.dirname(os.getcwd())  # go up from demos directory\n",
    "print(f\"Project root: {project_root}\")\n",
    "\n",
    "# Add snowpylot directory to Python path\n",
    "snowpylot_path = os.path.join(project_root, \"snowpylot\")\n",
    "if snowpylot_path not in sys.path:\n",
    "    sys.path.insert(0, snowpylot_path)\n",
    "\n",
    "# Print Python path to verify\n",
    "print(\"\\nPython path:\")\n",
    "for path in sys.path:\n",
    "    print(path)"
   ]
  },
  {
   "cell_type": "code",
   "execution_count": 5,
   "metadata": {},
   "outputs": [
    {
     "ename": "FileNotFoundError",
     "evalue": "[Errno 2] No such file or directory: 'snowpits_200_MT/snowpits-66387-caaml.xml'",
     "output_type": "error",
     "traceback": [
      "\u001b[1;31m---------------------------------------------------------------------------\u001b[0m",
      "\u001b[1;31mFileNotFoundError\u001b[0m                         Traceback (most recent call last)",
      "Cell \u001b[1;32mIn[5], line 3\u001b[0m\n\u001b[0;32m      1\u001b[0m \u001b[38;5;66;03m# Try importing\u001b[39;00m\n\u001b[0;32m      2\u001b[0m \u001b[38;5;28;01mtry\u001b[39;00m:\n\u001b[1;32m----> 3\u001b[0m     \u001b[38;5;28;01mfrom\u001b[39;00m \u001b[38;5;21;01msnowpylot\u001b[39;00m \u001b[38;5;28;01mimport\u001b[39;00m caaml_parser\n\u001b[0;32m      4\u001b[0m     \u001b[38;5;28mprint\u001b[39m(\u001b[38;5;124m\"\u001b[39m\u001b[38;5;130;01m\\n\u001b[39;00m\u001b[38;5;124mSuccessfully imported caaml_parser!\u001b[39m\u001b[38;5;124m\"\u001b[39m)\n\u001b[0;32m      5\u001b[0m \u001b[38;5;28;01mexcept\u001b[39;00m \u001b[38;5;167;01mImportError\u001b[39;00m \u001b[38;5;28;01mas\u001b[39;00m e:\n",
      "File \u001b[1;32mc:\\Users\\Administrator\\Desktop\\SnowPilot Repo\\SnowPilotAnalytics\\snowpylot\\__init__.py:14\u001b[0m\n\u001b[0;32m      3\u001b[0m \u001b[38;5;28;01mfrom\u001b[39;00m \u001b[38;5;21;01m.\u001b[39;00m\u001b[38;5;21;01mstabilityTests\u001b[39;00m \u001b[38;5;28;01mimport\u001b[39;00m (\n\u001b[0;32m      4\u001b[0m     StabilityTests,\n\u001b[0;32m      5\u001b[0m     ExtColumnTest,\n\u001b[1;32m   (...)\u001b[0m\n\u001b[0;32m     11\u001b[0m     DeepTapTest\n\u001b[0;32m     12\u001b[0m )\n\u001b[0;32m     13\u001b[0m \u001b[38;5;28;01mfrom\u001b[39;00m \u001b[38;5;21;01m.\u001b[39;00m\u001b[38;5;21;01msnowPit\u001b[39;00m \u001b[38;5;28;01mimport\u001b[39;00m SnowPit\n\u001b[1;32m---> 14\u001b[0m \u001b[38;5;28;01mfrom\u001b[39;00m \u001b[38;5;21;01m.\u001b[39;00m\u001b[38;5;21;01mcaaml_parser\u001b[39;00m \u001b[38;5;28;01mimport\u001b[39;00m caaml_parser\n\u001b[0;32m     16\u001b[0m __version__ \u001b[38;5;241m=\u001b[39m \u001b[38;5;124m'\u001b[39m\u001b[38;5;124m0.1.0\u001b[39m\u001b[38;5;124m'\u001b[39m\n\u001b[0;32m     18\u001b[0m __all__ \u001b[38;5;241m=\u001b[39m [\n\u001b[0;32m     19\u001b[0m     \u001b[38;5;124m'\u001b[39m\u001b[38;5;124mLayer\u001b[39m\u001b[38;5;124m'\u001b[39m,\n\u001b[0;32m     20\u001b[0m     \u001b[38;5;124m'\u001b[39m\u001b[38;5;124mSnowPit\u001b[39m\u001b[38;5;124m'\u001b[39m,\n\u001b[1;32m   (...)\u001b[0m\n\u001b[0;32m     32\u001b[0m     \u001b[38;5;124m'\u001b[39m\u001b[38;5;124mcaaml_parser\u001b[39m\u001b[38;5;124m'\u001b[39m\n\u001b[0;32m     33\u001b[0m ]\n",
      "File \u001b[1;32mc:\\Users\\Administrator\\Desktop\\SnowPilot Repo\\SnowPilotAnalytics\\snowpylot\\caaml_parser.py:283\u001b[0m\n\u001b[0;32m    281\u001b[0m \u001b[38;5;66;03m## Test\u001b[39;00m\n\u001b[0;32m    282\u001b[0m file_path \u001b[38;5;241m=\u001b[39m \u001b[38;5;124m\"\u001b[39m\u001b[38;5;124msnowpits_200_MT/snowpits-66387-caaml.xml\u001b[39m\u001b[38;5;124m\"\u001b[39m\n\u001b[1;32m--> 283\u001b[0m pit1 \u001b[38;5;241m=\u001b[39m \u001b[43mcaaml_parser\u001b[49m\u001b[43m(\u001b[49m\u001b[43mfile_path\u001b[49m\u001b[43m)\u001b[49m\n\u001b[0;32m    284\u001b[0m \u001b[38;5;28mprint\u001b[39m(\u001b[38;5;124m\"\u001b[39m\u001b[38;5;124mpit1\u001b[39m\u001b[38;5;124m\"\u001b[39m)\n\u001b[0;32m    285\u001b[0m \u001b[38;5;28mprint\u001b[39m(pit1)\n",
      "File \u001b[1;32mc:\\Users\\Administrator\\Desktop\\SnowPilot Repo\\SnowPilotAnalytics\\snowpylot\\caaml_parser.py:17\u001b[0m, in \u001b[0;36mcaaml_parser\u001b[1;34m(file_path)\u001b[0m\n\u001b[0;32m     15\u001b[0m common_tag \u001b[38;5;241m=\u001b[39m \u001b[38;5;124m'\u001b[39m\u001b[38;5;124m{\u001b[39m\u001b[38;5;124mhttp://caaml.org/Schemas/SnowProfileIACS/v6.0.3}\u001b[39m\u001b[38;5;124m'\u001b[39m \u001b[38;5;66;03m# Update to ready from xml file\u001b[39;00m\n\u001b[0;32m     16\u001b[0m gml_tag \u001b[38;5;241m=\u001b[39m \u001b[38;5;124m'\u001b[39m\u001b[38;5;124m{\u001b[39m\u001b[38;5;124mhttp://www.opengis.net/gml}\u001b[39m\u001b[38;5;124m'\u001b[39m\n\u001b[1;32m---> 17\u001b[0m root \u001b[38;5;241m=\u001b[39m \u001b[43mET\u001b[49m\u001b[38;5;241;43m.\u001b[39;49m\u001b[43mparse\u001b[49m\u001b[43m(\u001b[49m\u001b[43mfile_path\u001b[49m\u001b[43m)\u001b[49m\u001b[38;5;241m.\u001b[39mgetroot()\n\u001b[0;32m     19\u001b[0m \u001b[38;5;66;03m# caamlVersion\u001b[39;00m\n\u001b[0;32m     20\u001b[0m pit\u001b[38;5;241m.\u001b[39mset_caamlVersion(common_tag)\n",
      "File \u001b[1;32mC:\\Program Files\\WindowsApps\\PythonSoftwareFoundation.Python.3.13_3.13.752.0_x64__qbz5n2kfra8p0\\Lib\\xml\\etree\\ElementTree.py:1204\u001b[0m, in \u001b[0;36mparse\u001b[1;34m(source, parser)\u001b[0m\n\u001b[0;32m   1195\u001b[0m \u001b[38;5;250m\u001b[39m\u001b[38;5;124;03m\"\"\"Parse XML document into element tree.\u001b[39;00m\n\u001b[0;32m   1196\u001b[0m \n\u001b[0;32m   1197\u001b[0m \u001b[38;5;124;03m*source* is a filename or file object containing XML data,\u001b[39;00m\n\u001b[1;32m   (...)\u001b[0m\n\u001b[0;32m   1201\u001b[0m \n\u001b[0;32m   1202\u001b[0m \u001b[38;5;124;03m\"\"\"\u001b[39;00m\n\u001b[0;32m   1203\u001b[0m tree \u001b[38;5;241m=\u001b[39m ElementTree()\n\u001b[1;32m-> 1204\u001b[0m \u001b[43mtree\u001b[49m\u001b[38;5;241;43m.\u001b[39;49m\u001b[43mparse\u001b[49m\u001b[43m(\u001b[49m\u001b[43msource\u001b[49m\u001b[43m,\u001b[49m\u001b[43m \u001b[49m\u001b[43mparser\u001b[49m\u001b[43m)\u001b[49m\n\u001b[0;32m   1205\u001b[0m \u001b[38;5;28;01mreturn\u001b[39;00m tree\n",
      "File \u001b[1;32mC:\\Program Files\\WindowsApps\\PythonSoftwareFoundation.Python.3.13_3.13.752.0_x64__qbz5n2kfra8p0\\Lib\\xml\\etree\\ElementTree.py:558\u001b[0m, in \u001b[0;36mElementTree.parse\u001b[1;34m(self, source, parser)\u001b[0m\n\u001b[0;32m    556\u001b[0m close_source \u001b[38;5;241m=\u001b[39m \u001b[38;5;28;01mFalse\u001b[39;00m\n\u001b[0;32m    557\u001b[0m \u001b[38;5;28;01mif\u001b[39;00m \u001b[38;5;129;01mnot\u001b[39;00m \u001b[38;5;28mhasattr\u001b[39m(source, \u001b[38;5;124m\"\u001b[39m\u001b[38;5;124mread\u001b[39m\u001b[38;5;124m\"\u001b[39m):\n\u001b[1;32m--> 558\u001b[0m     source \u001b[38;5;241m=\u001b[39m \u001b[38;5;28;43mopen\u001b[39;49m\u001b[43m(\u001b[49m\u001b[43msource\u001b[49m\u001b[43m,\u001b[49m\u001b[43m \u001b[49m\u001b[38;5;124;43m\"\u001b[39;49m\u001b[38;5;124;43mrb\u001b[39;49m\u001b[38;5;124;43m\"\u001b[39;49m\u001b[43m)\u001b[49m\n\u001b[0;32m    559\u001b[0m     close_source \u001b[38;5;241m=\u001b[39m \u001b[38;5;28;01mTrue\u001b[39;00m\n\u001b[0;32m    560\u001b[0m \u001b[38;5;28;01mtry\u001b[39;00m:\n",
      "\u001b[1;31mFileNotFoundError\u001b[0m: [Errno 2] No such file or directory: 'snowpits_200_MT/snowpits-66387-caaml.xml'"
     ]
    },
    {
     "ename": "",
     "evalue": "",
     "output_type": "error",
     "traceback": [
      "\u001b[1;31mThe Kernel crashed while executing code in the current cell or a previous cell. \n",
      "\u001b[1;31mPlease review the code in the cell(s) to identify a possible cause of the failure. \n",
      "\u001b[1;31mClick <a href='https://aka.ms/vscodeJupyterKernelCrash'>here</a> for more info. \n",
      "\u001b[1;31mView Jupyter <a href='command:jupyter.viewOutput'>log</a> for further details."
     ]
    }
   ],
   "source": [
    "# Try importing\n",
    "try:\n",
    "    from snowpylot import caaml_parser\n",
    "\n",
    "    print(\"\\nSuccessfully imported caaml_parser!\")\n",
    "except ImportError as e:\n",
    "    print(f\"\\nImport failed: {str(e)}\")"
   ]
  },
  {
   "cell_type": "code",
   "execution_count": 2,
   "metadata": {},
   "outputs": [
    {
     "ename": "ModuleNotFoundError",
     "evalue": "No module named 'snowpylot'",
     "output_type": "error",
     "traceback": [
      "\u001b[1;31m---------------------------------------------------------------------------\u001b[0m",
      "\u001b[1;31mModuleNotFoundError\u001b[0m                       Traceback (most recent call last)",
      "Cell \u001b[1;32mIn[2], line 7\u001b[0m\n\u001b[0;32m      4\u001b[0m     sys\u001b[38;5;241m.\u001b[39mpath\u001b[38;5;241m.\u001b[39minsert(\u001b[38;5;241m0\u001b[39m, project_root)\n\u001b[0;32m      6\u001b[0m \u001b[38;5;66;03m# Import caaml_parser\u001b[39;00m\n\u001b[1;32m----> 7\u001b[0m \u001b[38;5;28;01mfrom\u001b[39;00m \u001b[38;5;21;01msnowpylot\u001b[39;00m \u001b[38;5;28;01mimport\u001b[39;00m caaml_parser\n",
      "\u001b[1;31mModuleNotFoundError\u001b[0m: No module named 'snowpylot'"
     ]
    }
   ],
   "source": [
    "# Add snowpylot to path\n",
    "project_root = os.getcwd()  # should be the SnowPilotAnalytics directory\n",
    "if project_root not in sys.path:\n",
    "    sys.path.insert(0, project_root)\n",
    "\n",
    "# Import caaml_parser\n",
    "from snowpylot import caaml_parser"
   ]
  }
 ],
 "metadata": {
  "kernelspec": {
   "display_name": ".venv",
   "language": "python",
   "name": "python3"
  },
  "language_info": {
   "codemirror_mode": {
    "name": "ipython",
    "version": 3
   },
   "file_extension": ".py",
   "mimetype": "text/x-python",
   "name": "python",
   "nbconvert_exporter": "python",
   "pygments_lexer": "ipython3",
   "version": "3.13.2"
  }
 },
 "nbformat": 4,
 "nbformat_minor": 2
}
