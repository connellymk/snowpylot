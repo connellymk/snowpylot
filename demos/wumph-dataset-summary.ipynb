{
 "cells": [
  {
   "cell_type": "markdown",
   "metadata": {},
   "source": [
    "# Summary Statistics for Wumph Dataset\n",
    "\n",
    "Wumph pits exported on 2/19/25\n",
    "\n",
    "* Number of pits\n",
    "* Number of layers\n",
    "* Number of layers with Grain Form\n",
    "* Number of layers with Grain Size\n",
    "* Number of pits with Density Profile\n",
    "* Number of density measurements\n",
    "* Number of pits with Temp Profile\n",
    "* Number of temp measurements\n",
    "* Number of ECT Results\n",
    "* Number of CT Results\n",
    "* Number of PST Results\n",
    "* Number of RBT Results\n",
    "* Whumpf data summary"
   ]
  },
  {
   "cell_type": "markdown",
   "metadata": {},
   "source": [
    "# To do\n",
    "\n",
    "- map grain forms to match paper\n",
    "- Reference Philipps code to plot\n",
    "- programatically query snowpilot database (snowPilotQueryEngine) \n",
    "- look at pep8 conformance\n",
    "- install and use Ruff formatter\n",
    "- Github actions using twine (ref weac .toml)\n",
    "- bump-my-version (python package GitHub release workflow)\n",
    "- Sphinx documentation\n"
   ]
  },
  {
   "cell_type": "code",
   "execution_count": 2,
   "metadata": {},
   "outputs": [
    {
     "ename": "ModuleNotFoundError",
     "evalue": "No module named 'snowpylot'",
     "output_type": "error",
     "traceback": [
      "\u001b[1;31m---------------------------------------------------------------------------\u001b[0m",
      "\u001b[1;31mModuleNotFoundError\u001b[0m                       Traceback (most recent call last)",
      "Cell \u001b[1;32mIn[2], line 6\u001b[0m\n\u001b[0;32m      4\u001b[0m \u001b[38;5;28;01mimport\u001b[39;00m \u001b[38;5;21;01mpandas\u001b[39;00m \u001b[38;5;28;01mas\u001b[39;00m \u001b[38;5;21;01mpd\u001b[39;00m\n\u001b[0;32m      5\u001b[0m \u001b[38;5;28;01mimport\u001b[39;00m \u001b[38;5;21;01mmatplotlib\u001b[39;00m\u001b[38;5;21;01m.\u001b[39;00m\u001b[38;5;21;01mpyplot\u001b[39;00m \u001b[38;5;28;01mas\u001b[39;00m \u001b[38;5;21;01mplt\u001b[39;00m\n\u001b[1;32m----> 6\u001b[0m \u001b[38;5;28;01mfrom\u001b[39;00m \u001b[38;5;21;01msnowpylot\u001b[39;00m\u001b[38;5;21;01m.\u001b[39;00m\u001b[38;5;21;01mcaaml_parser\u001b[39;00m \u001b[38;5;28;01mimport\u001b[39;00m caaml_parser\n",
      "\u001b[1;31mModuleNotFoundError\u001b[0m: No module named 'snowpylot'"
     ]
    }
   ],
   "source": [
    "# Import libraries\n",
    "import sys\n",
    "import os\n",
    "import pandas as pd\n",
    "import matplotlib.pyplot as plt\n",
    "from snowpylot.caaml_parser import caaml_parser"
   ]
  },
  {
   "cell_type": "code",
   "execution_count": 2,
   "metadata": {},
   "outputs": [],
   "source": [
    "# Load and parse xml files\n",
    "folder_path = \"snowpits/wumph_pits\"  # wumph data set pits exported on 2/19/25\n",
    "\n",
    "# Create a list of all CAAML files in the folder\n",
    "caaml_files = [\n",
    "    f for f in os.listdir(folder_path) if f.endswith(\".xml\")\n",
    "]  # List of all CAAML files in the folder"
   ]
  },
  {
   "cell_type": "code",
   "execution_count": 3,
   "metadata": {},
   "outputs": [],
   "source": [
    "# Parse all pits and summarize available info\n",
    "pits = []\n",
    "pitList = []\n",
    "pitDict = {}\n",
    "\n",
    "for file in caaml_files:\n",
    "    file_path = folder_path + \"/\" + file\n",
    "    pit = caaml_parser(file_path)\n",
    "\n",
    "    numPrimaryGrainForm = 0\n",
    "    numPrimaryGrainSize = 0\n",
    "    for layer in pit.snowProfile.layers:\n",
    "        if layer.grainFormPrimary is not None:\n",
    "            numPrimaryGrainForm += 1\n",
    "            if layer.grainFormPrimary.grainSizeAvg is not None:\n",
    "                numPrimaryGrainSize += 1\n",
    "\n",
    "    pitDict = {\n",
    "        \"PitID\": pit.coreInfo.pitID,\n",
    "        \"Operation Name\": pit.coreInfo.user.operationName,\n",
    "        \"SnowPilot Username\": pit.coreInfo.user.username,\n",
    "        \"num Layers\": len(pit.snowProfile.layers),\n",
    "        \"num Layers wPrimary Grain Form\": numPrimaryGrainForm,\n",
    "        \"num Layers wPrimary Grain Size\": numPrimaryGrainSize,\n",
    "        \"tempMeasurements\": len(pit.snowProfile.tempProfile)\n",
    "        if pit.snowProfile.tempProfile != None\n",
    "        else 0,\n",
    "        \"densityMeasurements\": len(pit.snowProfile.densityProfile)\n",
    "        if pit.snowProfile.densityProfile != None\n",
    "        else 0,\n",
    "        \"ECT_qty\": len(pit.stabilityTests.ECT),\n",
    "        \"CT_qty\": len(pit.stabilityTests.CT),\n",
    "        \"PST_qty\": len(pit.stabilityTests.PST),\n",
    "        \"RBT_qty\": len(pit.stabilityTests.RBlock),\n",
    "        \"whumpfCracking\": pit.whumpfData.whumpfCracking,\n",
    "        \"whumpfNoCracking\": pit.whumpfData.whumpfNoCracking,\n",
    "        \"crackingNoWhumpf\": pit.whumpfData.crackingNoWhumpf,\n",
    "        \"whumpfNearPit\": pit.whumpfData.whumpfNearPit,\n",
    "        \"whumpfDepthWeakLayer\": pit.whumpfData.whumpfDepthWeakLayer,\n",
    "        \"whumpfTriggeredRemoteAva\": pit.whumpfData.whumpfTriggeredRemoteAva,\n",
    "        \"whumpfSize\": pit.whumpfData.whumpfSize,\n",
    "    }\n",
    "    pitList.append(pitDict)\n",
    "    pits.append(pit)\n",
    "\n",
    "df = pd.DataFrame(pitList)\n",
    "\n",
    "# df.to_csv('wumph-dataset-summary.csv', index=False)"
   ]
  },
  {
   "cell_type": "code",
   "execution_count": null,
   "metadata": {},
   "outputs": [],
   "source": [
    "# Print dataframe\n",
    "print(df.to_string(index=False, max_rows=10))"
   ]
  },
  {
   "cell_type": "code",
   "execution_count": null,
   "metadata": {},
   "outputs": [],
   "source": [
    "summary_info = {\n",
    "    \"Pits\": int(df[\"PitID\"].count()),\n",
    "    \"Layers\": int(df[\"num Layers\"].sum()),\n",
    "    \"Layers wPrimary Grain Form\": int(df[\"num Layers wPrimary Grain Form\"].sum()),\n",
    "    \"Layers wPrimary Grain Size\": int(df[\"num Layers wPrimary Grain Size\"].sum()),\n",
    "    \"Pits with Density Info\": int((df[\"densityMeasurements\"] != 0).sum()),\n",
    "    \"Density Measurements\": int(df[\"densityMeasurements\"].sum()),\n",
    "    \"Pits with Temp Info\": int((df[\"tempMeasurements\"] != 0).sum()),\n",
    "    \"Temp Measurements\": int(df[\"tempMeasurements\"].sum()),\n",
    "    \"ECT Results\": int(df[\"ECT_qty\"].sum()),\n",
    "    \"CT Results\": int(df[\"CT_qty\"].sum()),\n",
    "    \"PST Results\": int(df[\"PST_qty\"].sum()),\n",
    "    \"RBT Results\": int(df[\"RBT_qty\"].sum()),\n",
    "    \"Pits where wumpfCracking = true\": int((df[\"whumpfCracking\"] == \"true\").sum()),\n",
    "    \"Pits where whumpfNoCracking = true\": int((df[\"whumpfNoCracking\"] == \"true\").sum()),\n",
    "    \"Pits where crackingNoWhumpf = true\": int((df[\"crackingNoWhumpf\"] == \"true\").sum()),\n",
    "    \"Pits where whumpfNearPit = true\": int((df[\"whumpfNearPit\"] == \"true\").sum()),\n",
    "    \"Pits where whumpfDepthWeakLayer = true\": int(\n",
    "        (df[\"whumpfDepthWeakLayer\"] == \"true\").sum()\n",
    "    ),\n",
    "    \"Pits where whumpfTriggeredRemoteAva = true\": int(\n",
    "        (df[\"whumpfTriggeredRemoteAva\"] == \"true\").sum()\n",
    "    ),\n",
    "    \"Pits where whumpfSize is specified\": int((df[\"whumpfSize\"] != None).sum()),\n",
    "}\n",
    "\n",
    "for key, value in summary_info.items():\n",
    "    print(key + \": \" + str(value))"
   ]
  },
  {
   "cell_type": "code",
   "execution_count": null,
   "metadata": {},
   "outputs": [],
   "source": [
    "# Create histogram of pits by Operation\n",
    "plt.figure(figsize=(12, 6))\n",
    "df[\"Operation Name\"].value_counts().plot(kind=\"bar\")\n",
    "plt.title(\"Distribution of Snow Pits by Operation\")\n",
    "plt.xlabel(\"Operation Name\")\n",
    "plt.ylabel(\"Number of Pits\")\n",
    "plt.xticks(rotation=45, ha=\"right\")\n",
    "plt.tight_layout()  # Adjusts layout to prevent label cutoff\n",
    "plt.show()\n",
    "\n",
    "# Create summary table\n",
    "operation_counts = df[\"Operation Name\"].value_counts()\n",
    "print(\"Summary of Snow Pits by Operation:\")\n",
    "print(\"----------------------------------\")\n",
    "print(f\"Total number of Operations: {len(operation_counts)}\")\n",
    "print(f\"Total number of Professional Pits: {operation_counts.sum()}\")\n",
    "print(\"\\nBreakdown by Operation:\")\n",
    "print(operation_counts.to_frame().rename(columns={\"Operation Name\": \"Number of Pits\"}))"
   ]
  },
  {
   "cell_type": "code",
   "execution_count": null,
   "metadata": {},
   "outputs": [],
   "source": [
    "# Create histogram of pits by User\n",
    "plt.figure(figsize=(12, 6))\n",
    "df[\"SnowPilot Username\"].value_counts().plot(kind=\"bar\")\n",
    "plt.title(\"Distribution of Snow Pits by User\")\n",
    "plt.xlabel(\"SnowPilot Username\")\n",
    "plt.ylabel(\"Number of Pits\")\n",
    "plt.xticks(rotation=45, ha=\"right\")\n",
    "plt.tight_layout()  # Adjusts layout to prevent label cutoff\n",
    "plt.show()\n",
    "\n",
    "# Create summary table\n",
    "operation_counts = df[\"SnowPilot Username\"].value_counts()\n",
    "print(\"Summary of Snow Pits by Individual:\")\n",
    "print(\"----------------------------------\")\n",
    "print(f\"Total number of Individual Users: {len(operation_counts)}\")\n",
    "print(f\"Total number of pits: {operation_counts.sum()}\")\n",
    "print(\"\\nBreakdown by Individual:\")\n",
    "print(\n",
    "    operation_counts.to_frame().rename(\n",
    "        columns={\"SnowPilot Username:\": \"Number of Pits\"}\n",
    "    )\n",
    ")"
   ]
  },
  {
   "cell_type": "code",
   "execution_count": null,
   "metadata": {},
   "outputs": [],
   "source": [
    "# Print example pit\n",
    "pit1 = caaml_parser(folder_path + \"/\" + caaml_files[0])\n",
    "print(pit1)"
   ]
  },
  {
   "cell_type": "code",
   "execution_count": null,
   "metadata": {},
   "outputs": [],
   "source": [
    "print(pit1.coreInfo)"
   ]
  },
  {
   "cell_type": "code",
   "execution_count": null,
   "metadata": {},
   "outputs": [],
   "source": [
    "print(pit1.stabilityTests)"
   ]
  }
 ],
 "metadata": {
  "kernelspec": {
   "display_name": ".venv",
   "language": "python",
   "name": "python3"
  },
  "language_info": {
   "codemirror_mode": {
    "name": "ipython",
    "version": 3
   },
   "file_extension": ".py",
   "mimetype": "text/x-python",
   "name": "python",
   "nbconvert_exporter": "python",
   "pygments_lexer": "ipython3",
   "version": "3.13.2"
  }
 },
 "nbformat": 4,
 "nbformat_minor": 2
}
