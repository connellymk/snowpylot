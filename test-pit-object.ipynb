{
 "cells": [
  {
   "cell_type": "code",
   "execution_count": 4,
   "metadata": {},
   "outputs": [
    {
     "name": "stdout",
     "output_type": "stream",
     "text": [
      "snowpits_200_MT/snowpits-66387-caaml.xml\n"
     ]
    }
   ],
   "source": [
    "import os\n",
    "\n",
    "folder_path = \"snowpits_200_MT\" # The latest 200 snow pits from MT\n",
    "\n",
    "# Create a list of all CAAML files in the folder\n",
    "caaml_files = [f for f in os.listdir(folder_path) if f.endswith('.xml')] # List of all CAAML files in the folder\n",
    "file = caaml_files[0] # take first file as sample\n",
    "\n",
    "file_path = folder_path + '/' + file\n",
    "print(file_path)"
   ]
  },
  {
   "cell_type": "code",
   "execution_count": 5,
   "metadata": {},
   "outputs": [],
   "source": [
    "from caaml_parser import caaml_parser\n",
    "pit1=caaml_parser(file_path)"
   ]
  },
  {
   "cell_type": "code",
   "execution_count": 6,
   "metadata": {},
   "outputs": [
    {
     "name": "stdout",
     "output_type": "stream",
     "text": [
      "SnowPit: \n",
      " caamlVersion: {http://caaml.org/Schemas/SnowProfileIACS/v6.0.3} \n",
      " pitId: 66387 \n",
      " date: 2024-11-06 \n",
      " user: {'Organization': None, 'Affiliation': None, 'Role': None, 'Name': None, 'UserID': None} \n",
      " location: {'Latitude': 45.819852, 'Longitude': -110.928698, 'Elevation': ['2532', 'm'], 'Aspect': ['E', None], 'SlopeAngle': ['31', 'deg'], 'Country': 'US', 'Region': 'MT'} \n",
      " snowProfile: <snowProfile.SnowProfile object at 0x000001F9563F0550> \n",
      " stabilityTests: StabilityTests:  \n"
     ]
    }
   ],
   "source": [
    "print(pit1)"
   ]
  },
  {
   "cell_type": "code",
   "execution_count": 7,
   "metadata": {},
   "outputs": [
    {
     "name": "stdout",
     "output_type": "stream",
     "text": [
      "US\n"
     ]
    }
   ],
   "source": [
    "country = pit1.location['Country']\n",
    "print(country)\n"
   ]
  }
 ],
 "metadata": {
  "kernelspec": {
   "display_name": ".venv",
   "language": "python",
   "name": "python3"
  },
  "language_info": {
   "codemirror_mode": {
    "name": "ipython",
    "version": 3
   },
   "file_extension": ".py",
   "mimetype": "text/x-python",
   "name": "python",
   "nbconvert_exporter": "python",
   "pygments_lexer": "ipython3",
   "version": "3.13.1"
  }
 },
 "nbformat": 4,
 "nbformat_minor": 2
}
