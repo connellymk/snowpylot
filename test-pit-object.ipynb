{
 "cells": [
  {
   "cell_type": "code",
   "execution_count": 3,
   "metadata": {},
   "outputs": [
    {
     "name": "stdout",
     "output_type": "stream",
     "text": [
      "snowpits_200_MT/snowpits-66387-caaml.xml\n"
     ]
    }
   ],
   "source": [
    "#import pandas as pd\n",
    "#import numpy as np\n",
    "#import matplotlib.pyplot as plt\n",
    "#import seaborn as sns\n",
    "import os\n",
    "#from xml.dom import minidom\n",
    "\n",
    "# Define path to sample file\n",
    "# Define the path to snowpits folder\n",
    "folder_path = \"snowpits_200_MT\" # The latest 200 snow pits from MT\n",
    "\n",
    "# Create a list of all CAAML files in the folder\n",
    "caaml_files = [f for f in os.listdir(folder_path) if f.endswith('.xml')] # List of all CAAML files in the folder\n",
    "file = caaml_files[0]\n",
    "\n",
    "file_path = folder_path + '/' + file\n",
    "print(file_path)"
   ]
  },
  {
   "cell_type": "code",
   "execution_count": 2,
   "metadata": {},
   "outputs": [
    {
     "name": "stdout",
     "output_type": "stream",
     "text": [
      "<Element '{http://caaml.org/Schemas/SnowProfileIACS/v6.0.3}SnowProfile' at 0x000001782BF2AF70>\n"
     ]
    }
   ],
   "source": [
    "from caaml_parser import caaml_parser\n",
    "pit1=caaml_parser(file_path)"
   ]
  },
  {
   "cell_type": "code",
   "execution_count": 3,
   "metadata": {},
   "outputs": [
    {
     "name": "stdout",
     "output_type": "stream",
     "text": [
      "SnowPit: \n",
      " pitId: None \n",
      " date: None \n",
      " dateTime: None \n",
      " user: <user.User object at 0x000001F9E32CC050> \n",
      " location: LocationInfo: \n",
      " elevation=None \n",
      " aspect=None \n",
      " slopeAngle=None \n",
      " coords=None \n",
      " latitude=None \n",
      " longitude=None \n",
      " country=None \n",
      " region=None  \n",
      " snowProfile: <snowProfile.SnowProfile object at 0x000001F9E32CF4D0> \n",
      " stabilityTests: <stabilityTests.StabilityTests object at 0x000001F9E32CFB60> \n",
      " caamlVersion: None \n"
     ]
    }
   ],
   "source": [
    "\n",
    "print(pit1)"
   ]
  }
 ],
 "metadata": {
  "kernelspec": {
   "display_name": ".venv",
   "language": "python",
   "name": "python3"
  },
  "language_info": {
   "codemirror_mode": {
    "name": "ipython",
    "version": 3
   },
   "file_extension": ".py",
   "mimetype": "text/x-python",
   "name": "python",
   "nbconvert_exporter": "python",
   "pygments_lexer": "ipython3",
   "version": "3.13.1"
  }
 },
 "nbformat": 4,
 "nbformat_minor": 2
}
