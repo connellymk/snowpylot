{
 "cells": [
  {
   "cell_type": "code",
   "execution_count": 3,
   "metadata": {},
   "outputs": [],
   "source": [
    "#import pandas as pd\n",
    "#import numpy as np\n",
    "#import matplotlib.pyplot as plt\n",
    "#import seaborn as sns\n",
    "import os\n",
    "#from xml.dom import minidom\n",
    "\n",
    "# Define path to sample file\n",
    "# Define the path to snowpits folder\n",
    "folder_path = \"snowpits_200_MT\" # The latest 200 snow pits from MT\n",
    "\n",
    "# Create a list of all CAAML files in the folder\n",
    "caaml_files = [f for f in os.listdir(folder_path) if f.endswith('.xml')] # List of all CAAML files in the folder\n",
    "file = caaml_files[0]\n",
    "\n",
    "file_path = folder_path + '/' + file"
   ]
  },
  {
   "cell_type": "code",
   "execution_count": 4,
   "metadata": {},
   "outputs": [
    {
     "ename": "TypeError",
     "evalue": "SnowPit.__init__() missing 1 required positional argument: 'layers'",
     "output_type": "error",
     "traceback": [
      "\u001b[1;31m---------------------------------------------------------------------------\u001b[0m",
      "\u001b[1;31mTypeError\u001b[0m                                 Traceback (most recent call last)",
      "Cell \u001b[1;32mIn[4], line 2\u001b[0m\n\u001b[0;32m      1\u001b[0m \u001b[38;5;28;01mfrom\u001b[39;00m \u001b[38;5;21;01mcaaml_parser\u001b[39;00m \u001b[38;5;28;01mimport\u001b[39;00m caaml_parser\n\u001b[1;32m----> 2\u001b[0m pit1\u001b[38;5;241m=\u001b[39m\u001b[43mcaaml_parser\u001b[49m\u001b[43m(\u001b[49m\u001b[43mfile_path\u001b[49m\u001b[43m)\u001b[49m\n",
      "File \u001b[1;32mc:\\Users\\Administrator\\Desktop\\SnowPilot Repo\\SnowPilotAnalytics\\caaml_parser.py:5\u001b[0m, in \u001b[0;36mcaaml_parser\u001b[1;34m(file_path)\u001b[0m\n\u001b[0;32m      3\u001b[0m \u001b[38;5;28;01mdef\u001b[39;00m \u001b[38;5;21mcaaml_parser\u001b[39m(file_path):\n\u001b[1;32m----> 5\u001b[0m     pit\u001b[38;5;241m=\u001b[39m\u001b[43mSnowPit\u001b[49m\u001b[43m(\u001b[49m\u001b[43m)\u001b[49m\n\u001b[0;32m      8\u001b[0m     \u001b[38;5;28;01mreturn\u001b[39;00m pit\n",
      "\u001b[1;31mTypeError\u001b[0m: SnowPit.__init__() missing 1 required positional argument: 'layers'"
     ]
    }
   ],
   "source": [
    "from caaml_parser import caaml_parser\n",
    "pit1=caaml_parser(file_path)"
   ]
  }
 ],
 "metadata": {
  "kernelspec": {
   "display_name": ".venv",
   "language": "python",
   "name": "python3"
  },
  "language_info": {
   "codemirror_mode": {
    "name": "ipython",
    "version": 3
   },
   "file_extension": ".py",
   "mimetype": "text/x-python",
   "name": "python",
   "nbconvert_exporter": "python",
   "pygments_lexer": "ipython3",
   "version": "3.13.1"
  }
 },
 "nbformat": 4,
 "nbformat_minor": 2
}
