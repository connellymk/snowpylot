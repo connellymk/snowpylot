{
 "cells": [
  {
   "cell_type": "code",
   "execution_count": 52,
   "metadata": {},
   "outputs": [],
   "source": [
    "import pandas as pd\n",
    "import numpy as np\n",
    "import matplotlib.pyplot as plt\n",
    "import seaborn as sns\n",
    "import os\n",
    "from xml.dom import minidom\n",
    "from layer import Grain, Layer\n",
    "from snowProfile import (\n",
    "    SnowProfile,\n",
    "    SurfaceCondition,\n",
    "    Layer,\n",
    "    TempObs,\n",
    "    WeatherConditions,\n",
    "    DensityObs,\n",
    ")\n",
    "from whumpfData import WumphData"
   ]
  },
  {
   "cell_type": "markdown",
   "metadata": {},
   "source": [
    "## Try other parser"
   ]
  },
  {
   "cell_type": "code",
   "execution_count": 57,
   "metadata": {},
   "outputs": [],
   "source": [
    "import xml.etree.ElementTree as ET\n",
    "\n",
    "# file_path = \"snowpits/wumph_pits/snowpits-25968-caaml.xml\"\n",
    "file_path = \"snowpits/mkc_TESTPIT-23-Feb.caaml\"\n",
    "\n",
    "\n",
    "common_tag = \"{http://caaml.org/Schemas/SnowProfileIACS/v6.0.3}\"\n",
    "root = ET.parse(file_path).getroot()\n",
    "gml_tag = \"{http://www.opengis.net/gml}\"\n",
    "snowpilot_tag = \"{http://www.snowpilot.org/Schemas/caaml}\""
   ]
  },
  {
   "cell_type": "code",
   "execution_count": 54,
   "metadata": {},
   "outputs": [
    {
     "name": "stdout",
     "output_type": "stream",
     "text": [
      "top down\n"
     ]
    }
   ],
   "source": [
    "# measurementDirection\n",
    "try:\n",
    "    measurementDirection = next(\n",
    "        root.iter(common_tag + \"SnowProfileMeasurements\"), None\n",
    "    ).get(\"dir\")\n",
    "except AttributeError:\n",
    "    measurementDirection = None\n",
    "\n",
    "print(measurementDirection)"
   ]
  },
  {
   "cell_type": "code",
   "execution_count": 56,
   "metadata": {},
   "outputs": [
    {
     "name": "stdout",
     "output_type": "stream",
     "text": [
      "{http://caaml.org/Schemas/SnowProfileIACS/v6.0.3}locRef\n",
      "\n",
      "    \n",
      "{'{http://www.opengis.net/gml}id': 'location-nid-72805'}\n",
      "{http://caaml.org/Schemas/SnowProfileIACS/v6.0.3}name\n",
      "mkc_TESTPIT\n",
      "{}\n",
      "{http://caaml.org/Schemas/SnowProfileIACS/v6.0.3}obsPointSubType\n",
      "SnowPilot Snowpit site\n",
      "{}\n",
      "{http://caaml.org/Schemas/SnowProfileIACS/v6.0.3}validElevation\n",
      "\n",
      "      \n",
      "{}\n",
      "{http://caaml.org/Schemas/SnowProfileIACS/v6.0.3}ElevationPosition\n",
      "\n",
      "        \n",
      "{'uom': 'm'}\n",
      "{http://caaml.org/Schemas/SnowProfileIACS/v6.0.3}position\n",
      "2134\n",
      "{}\n",
      "{http://caaml.org/Schemas/SnowProfileIACS/v6.0.3}validAspect\n",
      "\n",
      "      \n",
      "{}\n",
      "{http://caaml.org/Schemas/SnowProfileIACS/v6.0.3}AspectPosition\n",
      "\n",
      "        \n",
      "{}\n",
      "{http://caaml.org/Schemas/SnowProfileIACS/v6.0.3}position\n",
      "NE\n",
      "{}\n",
      "{http://caaml.org/Schemas/SnowProfileIACS/v6.0.3}validSlopeAngle\n",
      "\n",
      "      \n",
      "{}\n",
      "{http://caaml.org/Schemas/SnowProfileIACS/v6.0.3}SlopeAnglePosition\n",
      "\n",
      "        \n",
      "{'uom': 'deg'}\n",
      "{http://caaml.org/Schemas/SnowProfileIACS/v6.0.3}position\n",
      "32\n",
      "{}\n",
      "{http://caaml.org/Schemas/SnowProfileIACS/v6.0.3}pointLocation\n",
      "\n",
      "      \n",
      "{}\n",
      "{http://www.opengis.net/gml}Point\n",
      "\n",
      "        \n",
      "{'{http://www.opengis.net/gml}id': 'pointID', 'srsDimension': '2', 'srsName': 'urn:ogc:def:crs:OGC:1.3:CRS84'}\n",
      "{http://www.opengis.net/gml}pos\n",
      "45.8174 -110.8966\n",
      "{}\n",
      "{http://caaml.org/Schemas/SnowProfileIACS/v6.0.3}country\n",
      "US\n",
      "{}\n",
      "{http://caaml.org/Schemas/SnowProfileIACS/v6.0.3}region\n",
      "MT\n",
      "{}\n",
      "{http://www.snowpilot.org/Schemas/caaml}pitNearAvalanche\n",
      "true\n",
      "{'location': 'crown'}\n"
     ]
    }
   ],
   "source": [
    "try:\n",
    "    locRef = next(root.iter(common_tag + \"locRef\"), None)\n",
    "except AttributeError:\n",
    "    locRef = None\n",
    "\n",
    "for prop in locRef.iter():\n",
    "    print(prop.tag)\n",
    "    print(prop.text)\n",
    "    print(prop.attrib)"
   ]
  },
  {
   "cell_type": "code",
   "execution_count": 60,
   "metadata": {},
   "outputs": [
    {
     "name": "stdout",
     "output_type": "stream",
     "text": [
      "['true', 'crown']\n"
     ]
    }
   ],
   "source": [
    "try:\n",
    "    pitNearAvalanche_TF = next(root.iter(snowpilot_tag + \"pitNearAvalanche\"), None).text\n",
    "    pitNearAvalanche_loc = next(\n",
    "        root.iter(snowpilot_tag + \"pitNearAvalanche\"), None\n",
    "    ).get(\"location\")\n",
    "    pitNearAvalanche = [pitNearAvalanche_TF, pitNearAvalanche_loc]\n",
    "except AttributeError:\n",
    "    pitNearAvalanche = None\n",
    "\n",
    "print(pitNearAvalanche)"
   ]
  }
 ],
 "metadata": {
  "kernelspec": {
   "display_name": ".venv",
   "language": "python",
   "name": "python3"
  },
  "language_info": {
   "codemirror_mode": {
    "name": "ipython",
    "version": 3
   },
   "file_extension": ".py",
   "mimetype": "text/x-python",
   "name": "python",
   "nbconvert_exporter": "python",
   "pygments_lexer": "ipython3",
   "version": "3.13.2"
  }
 },
 "nbformat": 4,
 "nbformat_minor": 2
}
