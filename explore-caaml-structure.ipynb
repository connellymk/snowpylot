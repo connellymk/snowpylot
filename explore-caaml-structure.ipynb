{
 "cells": [
  {
   "cell_type": "code",
   "execution_count": 1,
   "metadata": {},
   "outputs": [],
   "source": [
    "import pandas as pd\n",
    "import numpy as np\n",
    "import matplotlib.pyplot as plt\n",
    "import seaborn as sns\n",
    "import os\n",
    "from xml.dom import minidom\n",
    "from layer import Grain, Layer\n",
    "from snowProfile import (\n",
    "    SnowProfile,\n",
    "    SurfaceCondition,\n",
    "    Layer,\n",
    "    TempObs,\n",
    "    DensityObs,\n",
    ")\n",
    "from whumpfData import WumphData\n",
    "from coreInfo import CoreInfo, User, Location, WeatherConditions"
   ]
  },
  {
   "cell_type": "markdown",
   "metadata": {},
   "source": [
    "## Try other parser"
   ]
  },
  {
   "cell_type": "code",
   "execution_count": 21,
   "metadata": {},
   "outputs": [],
   "source": [
    "import xml.etree.ElementTree as ET\n",
    "\n",
    "#file_path = \"snowpits/test/snowpylot-test-26-Feb-caaml.xml\"\n",
    "# file_path = \"snowpits/test/mkc_TESTPIT-23-Feb-caaml.xml\"\n",
    "# file_path = \"snowpits/test/snowpits-13720-caaml.xml\"\n",
    "file_path = \"snowpits/wumph_pits/snowpits-25670-caaml.xml\"\n",
    "\n",
    "caaml_tag = (\n",
    "    \"{http://caaml.org/Schemas/SnowProfileIACS/v6.0.3}\"  # Update to read from xml file\n",
    ")\n",
    "gml_tag = \"{http://www.opengis.net/gml}\"\n",
    "snowpilot_tag = \"{http://www.snowpilot.org/Schemas/caaml}\"\n",
    "root = ET.parse(file_path).getroot()"
   ]
  },
  {
   "cell_type": "code",
   "execution_count": 23,
   "metadata": {},
   "outputs": [
    {
     "name": "stdout",
     "output_type": "stream",
     "text": [
      "true\n",
      "false\n",
      "false\n",
      "true\n",
      "true\n",
      "false\n",
      "None\n"
     ]
    }
   ],
   "source": [
    "whumpfData = next(root.iter(snowpilot_tag + \"whumpfData\"))\n",
    "\n",
    "if whumpfData is not None:\n",
    "    for prop in whumpfData.iter(snowpilot_tag + \"whumpfCracking\"):\n",
    "        print(prop.text)\n",
    "    for prop in whumpfData.iter(snowpilot_tag + \"whumpfNoCracking\"):\n",
    "        print(prop.text)\n",
    "    for prop in whumpfData.iter(snowpilot_tag + \"crackingNoWhumpf\"):\n",
    "        print(prop.text)\n",
    "    for prop in whumpfData.iter(snowpilot_tag + \"whumpfNearPit\"):\n",
    "        print(prop.text)\n",
    "    for prop in whumpfData.iter(snowpilot_tag + \"whumpfDepthWeakLayer\"):\n",
    "        print(prop.text)\n",
    "    for prop in whumpfData.iter(snowpilot_tag + \"whumpfTriggeredRemoteAva\"):\n",
    "        print(prop.text)\n",
    "    for prop in whumpfData.iter(snowpilot_tag + \"whumpfSize\"):\n",
    "        print(prop.text)\n",
    "        \n",
    "        \n",
    "        \n"
   ]
  }
 ],
 "metadata": {
  "kernelspec": {
   "display_name": ".venv",
   "language": "python",
   "name": "python3"
  },
  "language_info": {
   "codemirror_mode": {
    "name": "ipython",
    "version": 3
   },
   "file_extension": ".py",
   "mimetype": "text/x-python",
   "name": "python",
   "nbconvert_exporter": "python",
   "pygments_lexer": "ipython3",
   "version": "3.13.2"
  }
 },
 "nbformat": 4,
 "nbformat_minor": 2
}
