{
 "cells": [
  {
   "cell_type": "code",
   "execution_count": 1,
   "metadata": {},
   "outputs": [],
   "source": [
    "import pandas as pd\n",
    "import numpy as np\n",
    "import matplotlib.pyplot as plt\n",
    "import seaborn as sns\n",
    "import os\n",
    "from xml.dom import minidom\n",
    "from layer import Grain, Layer\n",
    "from snowProfile import (\n",
    "    SnowProfile,\n",
    "    SurfaceCondition,\n",
    "    Layer,\n",
    "    TempObs,\n",
    "    DensityObs,\n",
    ")\n",
    "from whumpfData import WumphData\n",
    "from coreInfo import CoreInfo, User, Location, WeatherConditions"
   ]
  },
  {
   "cell_type": "markdown",
   "metadata": {},
   "source": [
    "## Try other parser"
   ]
  },
  {
   "cell_type": "code",
   "execution_count": 2,
   "metadata": {},
   "outputs": [],
   "source": [
    "import xml.etree.ElementTree as ET\n",
    "\n",
    "file_path = \"snowpits/test/snowpylot-test-26-Feb-caaml.xml\"\n",
    "# file_path = \"snowpits/test/mkc_TESTPIT-23-Feb-caaml.xml\"\n",
    "# file_path = \"snowpits/test/snowpits-13720-caaml.xml\"\n",
    "\n",
    "caaml_tag = (\n",
    "    \"{http://caaml.org/Schemas/SnowProfileIACS/v6.0.3}\"  # Update to read from xml file\n",
    ")\n",
    "gml_tag = \"{http://www.opengis.net/gml}\"\n",
    "snowpilot_tag = \"{http://www.snowpilot.org/Schemas/caaml}\"\n",
    "root = ET.parse(file_path).getroot()"
   ]
  },
  {
   "cell_type": "code",
   "execution_count": 20,
   "metadata": {},
   "outputs": [
    {
     "name": "stdout",
     "output_type": "stream",
     "text": [
      "[11.0, 'cm'] ECTN4 \" ECT 1 comment \"\n",
      "[32.0, 'cm'] ECTN25 \" ECT 2 comment \"\n",
      "[11.0, 'cm'] Q2 13 \" CT 2 comment \"\n",
      "None None CTN \" None \"\n",
      "[94.0, 'cm'] Q2 28 \" CT 3 comment \"\n",
      "[120.0, 'cm'] Q2 MB RB3 \" RBlock 1 comment \"\n",
      "[65.0, 'cm'] Arr [13.0, 'cm'] [100.0, 'cm'] \" shovel shear com \"\n"
     ]
    }
   ],
   "source": [
    "test_results = next(root.iter(caaml_tag + \"stbTests\"))\n",
    "\n",
    "if test_results is not None:\n",
    "        ECTs = [test for test in test_results if test.tag.endswith(\"ExtColumnTest\")]\n",
    "        CTs = [test for test in test_results if test.tag.endswith(\"ComprTest\")]\n",
    "        RBlocks = [test for test in test_results if test.tag.endswith(\"RBlockTest\")]\n",
    "        PSTs = [test for test in test_results if test.tag.endswith(\"PropSawTest\")]\n",
    "\n",
    "        for ECT in ECTs:\n",
    "                depthTop = None\n",
    "                testScore = None\n",
    "                comment = None\n",
    "                for prop in ECT.iter(caaml_tag + \"metaData\"):\n",
    "                        for subProp in prop.iter(caaml_tag + \"comment\"):\n",
    "                                comment = subProp.text\n",
    "                for prop in ECT.iter(caaml_tag + \"Layer\"):\n",
    "                        for subProp in prop.iter(caaml_tag + \"depthTop\"):\n",
    "                                depthTop = [float(subProp.text), subProp.get(\"uom\")]\n",
    "                for prop in ECT.iter(caaml_tag + \"Results\"):\n",
    "                        for subProp in prop.iter(caaml_tag + \"testScore\"):\n",
    "                                testScore = subProp.text\n",
    "                print(depthTop, testScore, '\"',comment,'\"')\n",
    "\n",
    "        for CT in CTs:\n",
    "                depthTop = None\n",
    "                testScore = None\n",
    "                comment = None\n",
    "                fractureCharacter = None\n",
    "                for prop in CT.iter(caaml_tag + \"metaData\"):\n",
    "                        for subProp in prop.iter(caaml_tag + \"comment\"):\n",
    "                                comment = subProp.text\n",
    "                for prop in CT.iter(caaml_tag + \"Layer\"):\n",
    "                        for subProp in prop.iter(caaml_tag + \"depthTop\"):\n",
    "                                depthTop = [float(subProp.text), subProp.get(\"uom\")]\n",
    "                for prop in CT.iter(caaml_tag + \"Results\"):\n",
    "                        for subProp in prop.iter(caaml_tag + \"fractureCharacter\"):\n",
    "                                fractureCharacter = subProp.text\n",
    "                        for subProp in prop.iter(caaml_tag + \"testScore\"):\n",
    "                                testScore = subProp.text\n",
    "                for prop in CT.iter(caaml_tag + \"noFailure\"):\n",
    "                        testScore = \"CTN\"\n",
    "\n",
    "                print(depthTop, fractureCharacter, testScore, '\"',comment,'\"')\n",
    "\n",
    "        for RBlock in RBlocks:\n",
    "                for prop in RBlock.iter(caaml_tag + \"metaData\"):\n",
    "                        for subProp in prop.iter(caaml_tag + \"comment\"):\n",
    "                                comment = subProp.text\n",
    "                for prop in RBlock.iter(caaml_tag + \"Layer\"):\n",
    "                        for subProp in prop.iter(caaml_tag + \"depthTop\"):\n",
    "                                depthTop = [float(subProp.text), subProp.get(\"uom\")]\n",
    "                for prop in RBlock.iter(caaml_tag + \"Results\"):\n",
    "                        for subProp in prop.iter(caaml_tag + \"fractureCharacter\"):\n",
    "                                fractureCharacter = subProp.text\n",
    "                        for subProp in prop.iter(caaml_tag + \"releaseType\"):\n",
    "                                releaseType = subProp.text\n",
    "                        for subProp in prop.iter(caaml_tag + \"testScore\"):\n",
    "                                testScore = subProp.text\n",
    "\n",
    "                print(depthTop, fractureCharacter, releaseType, testScore, '\"',comment,'\"')\n",
    "\n",
    "        for PST in PSTs:\n",
    "                for prop in PST.iter(caaml_tag + \"metaData\"):   \n",
    "                        for subProp in prop.iter(caaml_tag + \"comment\"):\n",
    "                                comment = subProp.text\n",
    "                for prop in PST.iter(caaml_tag + \"Layer\"):\n",
    "                        for subProp in prop.iter(caaml_tag + \"depthTop\"):\n",
    "                                depthTop = [float(subProp.text), subProp.get(\"uom\")]\n",
    "                for prop in PST.iter(caaml_tag + \"Results\"):\n",
    "                        for subProp in prop.iter(caaml_tag + \"fracturePropagation\"):\n",
    "                                fracturePropagation = subProp.text\n",
    "                        for subProp in prop.iter(caaml_tag + \"cutLength\"):\n",
    "                                cutLength = [float(subProp.text), subProp.get(\"uom\")]\n",
    "                        for subProp in prop.iter(caaml_tag + \"columnLength\"):\n",
    "                                columnLength = [float(subProp.text), subProp.get(\"uom\")]\n",
    "\n",
    "\n",
    "                print(depthTop, fracturePropagation, cutLength, columnLength, '\"',comment,'\"')\n",
    "\n",
    "                \n",
    "        \n"
   ]
  }
 ],
 "metadata": {
  "kernelspec": {
   "display_name": ".venv",
   "language": "python",
   "name": "python3"
  },
  "language_info": {
   "codemirror_mode": {
    "name": "ipython",
    "version": 3
   },
   "file_extension": ".py",
   "mimetype": "text/x-python",
   "name": "python",
   "nbconvert_exporter": "python",
   "pygments_lexer": "ipython3",
   "version": "3.13.2"
  }
 },
 "nbformat": 4,
 "nbformat_minor": 2
}
