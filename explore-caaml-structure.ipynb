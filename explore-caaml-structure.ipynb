{
 "cells": [
  {
   "cell_type": "code",
   "execution_count": 1,
   "metadata": {},
   "outputs": [],
   "source": [
    "import pandas as pd\n",
    "import numpy as np\n",
    "import matplotlib.pyplot as plt\n",
    "import seaborn as sns\n",
    "import os\n",
    "from xml.dom import minidom\n",
    "from Layer import Layer"
   ]
  },
  {
   "cell_type": "code",
   "execution_count": 2,
   "metadata": {},
   "outputs": [
    {
     "name": "stdout",
     "output_type": "stream",
     "text": [
      "ROOT NODE:\n",
      "caaml:SnowProfile\n"
     ]
    }
   ],
   "source": [
    "# Find root of the xml file\n",
    "\n",
    "# Define the path to snowpits folder\n",
    "folder_path = \"snowpits_200_MT\" # The latest 200 snow pits from MT\n",
    "\n",
    "# Create a list of all CAAML files in the folder\n",
    "caaml_files = [f for f in os.listdir(folder_path) if f.endswith('.xml')] # List of all CAAML files in the folder\n",
    "file = caaml_files[0]\n",
    "\n",
    "file_path = folder_path + '/' + file\n",
    "doc = minidom.parse(file_path)\n",
    "root = doc.documentElement\n",
    "\n",
    "print(\"ROOT NODE:\")\n",
    "print(root.nodeName)"
   ]
  },
  {
   "cell_type": "code",
   "execution_count": 3,
   "metadata": {},
   "outputs": [
    {
     "name": "stdout",
     "output_type": "stream",
     "text": [
      "2532\n",
      "m\n"
     ]
    }
   ],
   "source": [
    "# elevation\n",
    "elevation_list = root.getElementsByTagName('caaml:ElevationPosition')\n",
    "\n",
    "elevation=elevation_list[0].childNodes[1].firstChild.nodeValue if elevation_list[0].childNodes[1].firstChild else None\n",
    "elevation_unit=elevation_list[0].getAttribute('uom') if elevation_list[0].hasAttribute('uom') else None\n",
    "\n",
    "print(elevation)\n",
    "print(elevation_unit)\n",
    "\n",
    "\n"
   ]
  },
  {
   "cell_type": "markdown",
   "metadata": {},
   "source": [
    "## Try other parser"
   ]
  },
  {
   "cell_type": "code",
   "execution_count": 4,
   "metadata": {},
   "outputs": [],
   "source": [
    "import xml.etree.ElementTree as ET\n",
    "\n",
    "common_tag = '{http://caaml.org/Schemas/SnowProfileIACS/v6.0.3}'\n",
    "root = ET.parse(file_path).getroot()\n"
   ]
  },
  {
   "cell_type": "code",
   "execution_count": 5,
   "metadata": {},
   "outputs": [],
   "source": [
    "hs_tag = common_tag + 'profileDepth'\n",
    "        \n",
    "try:\n",
    "    hs = next(root.iter(hs_tag), None).text\n",
    "    hs_units = next(root.iter(hs_tag), None).get('uom')\n",
    "    HS = [float(hs), hs_units]\n",
    "except AttributeError:\n",
    "    HS = None\n"
   ]
  },
  {
   "cell_type": "code",
   "execution_count": 6,
   "metadata": {},
   "outputs": [
    {
     "name": "stdout",
     "output_type": "stream",
     "text": [
      "66387\n"
     ]
    }
   ],
   "source": [
    "# pitID\n",
    "#  <caaml:locRef gml:id=\"location-nid-66387\">\n",
    "\n",
    "pitID_tag = common_tag + 'locRef'\n",
    "gml_tag = '{http://www.opengis.net/gml}id'\n",
    "\n",
    "try:\n",
    "    pitID_str = next(root.iter(pitID_tag), None).attrib[gml_tag]\n",
    "    pitID = pitID_str.split('-')[-1]\n",
    "except AttributeError:\n",
    "    pitID = None\n",
    "\n",
    "print(pitID)"
   ]
  },
  {
   "cell_type": "code",
   "execution_count": 7,
   "metadata": {},
   "outputs": [
    {
     "name": "stdout",
     "output_type": "stream",
     "text": [
      "2024-11-06T11:16:00\n",
      "2024-11-06\n"
     ]
    }
   ],
   "source": [
    "dateTime_tag = common_tag + 'timePosition'\n",
    "\n",
    "try:\n",
    "    dt = next(root.iter(dateTime_tag), None).text\n",
    "except AttributeError:\n",
    "    dt = None\n",
    "\n",
    "date = dt.split('T')[0] if dt is not None else None\n",
    "\n",
    "print(dt)\n",
    "print(date)\n"
   ]
  },
  {
   "cell_type": "code",
   "execution_count": 8,
   "metadata": {},
   "outputs": [],
   "source": [
    "#<caaml:Operation gml:id=\"SnowPilot-Group-68\">\n",
    " #     <caaml:name>Bridger Bowl Ski Patrol</caaml:name>\n",
    "  #    <caaml:contactPerson gml:id=\"SnowPilot-User-2900\">\n",
    "   #     <caaml:name>BB Ski Patrol</caaml:name>\n",
    "\n"
   ]
  },
  {
   "cell_type": "code",
   "execution_count": 9,
   "metadata": {},
   "outputs": [
    {
     "name": "stdout",
     "output_type": "stream",
     "text": [
      "[<Element '{http://caaml.org/Schemas/SnowProfileIACS/v6.0.3}ElevationPosition' at 0x000002151A0FE8E0>, <Element '{http://caaml.org/Schemas/SnowProfileIACS/v6.0.3}AspectPosition' at 0x000002151A0FE9D0>, <Element '{http://caaml.org/Schemas/SnowProfileIACS/v6.0.3}SlopeAnglePosition' at 0x000002151A0FEAC0>]\n",
      "Elevation\n",
      "Aspect\n",
      "SlopeAngle\n",
      "{'lat': 45.819852, 'long': -110.928698, 'Elevation': '2532', 'Aspect': 'E', 'SlopeAngle': '31'}\n"
     ]
    }
   ],
   "source": [
    "POS_LAT_LONG = '{http://www.opengis.net/gml}pos'\n",
    "locations_params_tags = [common_tag + 'ElevationPosition', \n",
    "                                common_tag + 'AspectPosition', \n",
    "                                common_tag + 'SlopeAnglePosition']\n",
    "name_front_trim = len(common_tag)\n",
    "name_back_trim = -len('Position')\n",
    "\n",
    "location = {}\n",
    "\n",
    "try: \n",
    "    loc = next(root.iter(POS_LAT_LONG), None).text\n",
    "    location['lat'], location['long'] = map(float, loc.split(' '))\n",
    "except AttributeError:\n",
    "    location = None\n",
    "    \n",
    "position_params = [t for t in root.iter() if t.tag in locations_params_tags]\n",
    "print(position_params)\n",
    "for tp in position_params:\n",
    "    print(tp.tag[name_front_trim: name_back_trim])\n",
    "    location[tp.tag[name_front_trim: name_back_trim]] = tp.find(common_tag + 'position').text\n",
    "\n",
    "print(location)"
   ]
  },
  {
   "cell_type": "code",
   "execution_count": 10,
   "metadata": {},
   "outputs": [
    {
     "name": "stdout",
     "output_type": "stream",
     "text": [
      "45.8198520 -110.9286980\n",
      "['45.8198520', '-110.9286980']\n"
     ]
    }
   ],
   "source": [
    "# LatLong\n",
    "latLong_tag = '{http://www.opengis.net/gml}pos'\n",
    "\n",
    "try:\n",
    "    coords = next(root.iter(latLong_tag), None).text\n",
    "    lat_long=coords.split(' ')\n",
    "except AttributeError:\n",
    "    coords = None\n",
    "\n",
    "\n",
    "print(coords)\n",
    "print(lat_long)\n"
   ]
  },
  {
   "cell_type": "code",
   "execution_count": 11,
   "metadata": {},
   "outputs": [],
   "source": [
    "location = {}\n",
    "uom = {}\n",
    "\n",
    "#hs = next(root.iter(hs_tag), None).text\n",
    "#hs_units = next(root.iter(hs_tag), None).get('uom')\n",
    "\n",
    "locations_params_tags = [common_tag + 'ElevationPosition', \n",
    "                                common_tag + 'AspectPosition', \n",
    "                                common_tag + 'SlopeAnglePosition']\n",
    "\n",
    "name_front_trim = len(common_tag)\n",
    "name_back_trim = -len('Position')\n",
    "\n",
    "position_params = [t for t in root.iter() if t.tag in locations_params_tags]\n",
    "for tp in position_params:\n",
    "    location[tp.tag[name_front_trim: name_back_trim]] = [tp.find(common_tag + 'position').text, tp.get('uom')]\n",
    "    uom[tp.tag[name_front_trim: name_back_trim]] = tp.get('uom')\n",
    "\n"
   ]
  },
  {
   "cell_type": "code",
   "execution_count": 12,
   "metadata": {},
   "outputs": [
    {
     "name": "stdout",
     "output_type": "stream",
     "text": [
      "{'ECT 1': {'comment': 'Q1 planar', 'depthTop': 23.0, 'testScore': 'ECTN7'}}\n"
     ]
    }
   ],
   "source": [
    "def try_float(x):\n",
    "    try:\n",
    "        return float(x)\n",
    "    except (TypeError, ValueError):\n",
    "        return x\n",
    "\n",
    "test_types = {'CT' : 'ComprTest',\n",
    "                      'ECT': 'ExtColumnTest',\n",
    "                      'PST': 'PropSawTest'\n",
    "                      }\n",
    "        \n",
    "results = {}\n",
    "tests = next(root.iter(common_tag + 'stbTests'))\n",
    "for _type, tag in test_types.items():\n",
    "    for i, test in enumerate(tests.iter(common_tag + tag)):\n",
    "        try:\n",
    "            results[f'{_type} {i+1}'] = \\\n",
    "                {e.tag[len(common_tag):]: try_float(e.text) for e in test[0].iter() if e.text.strip() != ''}\n",
    "        except AttributeError:\n",
    "            pass\n",
    "print(results)"
   ]
  },
  {
   "cell_type": "code",
   "execution_count": 13,
   "metadata": {},
   "outputs": [],
   "source": [
    "file2=caaml_files[1]\n",
    "file_path2 = folder_path + '/' + file2\n",
    "root2 = ET.parse(file_path2).getroot()\n",
    "\n",
    "file3=caaml_files[2]\n",
    "file_path3 = folder_path + '/' + file3\n",
    "root3 = ET.parse(file_path3).getroot()\n"
   ]
  },
  {
   "cell_type": "code",
   "execution_count": 14,
   "metadata": {},
   "outputs": [
    {
     "name": "stdout",
     "output_type": "stream",
     "text": [
      "{'CT 1': {'depthTop': 40.0, 'fractureCharacter': 'Q2', 'testScore': 10.0}, 'ECT 1': {'depthTop': 40.0, 'testScore': 'ECTP18'}, 'ECT 2': {'depthTop': 40.0, 'testScore': 'ECTN23'}}\n"
     ]
    }
   ],
   "source": [
    "def try_float(x):\n",
    "    try:\n",
    "        return float(x)\n",
    "    except (TypeError, ValueError):\n",
    "        return x\n",
    "\n",
    "test_types = {'CT' : 'ComprTest',\n",
    "                      'ECT': 'ExtColumnTest',\n",
    "                      'PST': 'PropSawTest'\n",
    "                      }\n",
    "        \n",
    "results = {}\n",
    "tests = next(root3.iter(common_tag + 'stbTests'))\n",
    "for _type, tag in test_types.items():\n",
    "    for i, test in enumerate(tests.iter(common_tag + tag)):\n",
    "        try:\n",
    "            results[f'{_type} {i+1}'] = \\\n",
    "                {e.tag[len(common_tag):]: try_float(e.text) for e in test[0].iter() if e.text.strip() != ''}\n",
    "        except AttributeError:\n",
    "            pass\n",
    "print(results)"
   ]
  },
  {
   "cell_type": "code",
   "execution_count": 21,
   "metadata": {},
   "outputs": [
    {
     "name": "stdout",
     "output_type": "stream",
     "text": [
      "ExtColumnTest\n",
      "40\n",
      "ECTP18\n",
      "ExtColumnTest\n",
      "40\n",
      "ECTN23\n",
      "ComprTest\n"
     ]
    }
   ],
   "source": [
    "from stabilityTests import StabilityTests, ExtColumnTest, ComprTest, PropSawTest\n",
    "\n",
    "stabTests = StabilityTests()\n",
    "\n",
    "test_types = ['ExtColumnTest', 'ComprTest', 'PropSawTest']\n",
    "\n",
    "test_results = next(root3.iter(common_tag + 'stbTests'))\n",
    "\n",
    "for test_type in test_types:\n",
    "    for test in test_results.iter(common_tag + test_type):\n",
    "        if test_type == 'ExtColumnTest':\n",
    "            print('ExtColumnTest')\n",
    "            ect = ExtColumnTest()\n",
    "            stabTests.add_ECT(ect)\n",
    "\n",
    "            for e in test[0].iter():\n",
    "                if e.text.strip() != '':\n",
    "                    print(e.text)\n",
    "            \n",
    "        elif test_type == 'ComprTest':\n",
    "            print('ComprTest')\n",
    "            ct = ComprTest()\n",
    "        elif test_type == 'PropSawTest':\n",
    "            print('PropSawTest')\n",
    "            ps = PropSawTest()\n",
    "\n"
   ]
  }
 ],
 "metadata": {
  "kernelspec": {
   "display_name": ".venv",
   "language": "python",
   "name": "python3"
  },
  "language_info": {
   "codemirror_mode": {
    "name": "ipython",
    "version": 3
   },
   "file_extension": ".py",
   "mimetype": "text/x-python",
   "name": "python",
   "nbconvert_exporter": "python",
   "pygments_lexer": "ipython3",
   "version": "3.13.1"
  }
 },
 "nbformat": 4,
 "nbformat_minor": 2
}
