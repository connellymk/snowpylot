{
 "cells": [
  {
   "cell_type": "code",
   "execution_count": 1,
   "metadata": {},
   "outputs": [],
   "source": [
    "import pandas as pd\n",
    "import numpy as np\n",
    "import matplotlib.pyplot as plt\n",
    "import seaborn as sns\n",
    "import os\n",
    "from xml.dom import minidom\n",
    "from layer import Grain, Layer\n",
    "from snowProfile import (\n",
    "    SnowProfile,\n",
    "    SurfaceCondition,\n",
    "    Layer,\n",
    "    TempObs,\n",
    "    DensityObs,\n",
    ")\n",
    "from whumpfData import WumphData\n",
    "from coreInfo import CoreInfo, User, Location, WeatherConditions"
   ]
  },
  {
   "cell_type": "markdown",
   "metadata": {},
   "source": [
    "## Try other parser"
   ]
  },
  {
   "cell_type": "code",
   "execution_count": 56,
   "metadata": {},
   "outputs": [],
   "source": [
    "import xml.etree.ElementTree as ET\n",
    "\n",
    "file_path = \"snowpits/test/snowpylot-test-26-Feb-caaml.xml\"\n",
    "# file_path = \"snowpits/test/snowpits-13720-caaml.xml\"\n",
    "\n",
    "common_tag = (\n",
    "    \"{http://caaml.org/Schemas/SnowProfileIACS/v6.0.3}\"  # Update to read from xml file\n",
    ")\n",
    "gml_tag = \"{http://www.opengis.net/gml}\"\n",
    "snowpilot_tag = \"{http://www.snowpilot.org/Schemas/caaml}\"\n",
    "root = ET.parse(file_path).getroot()"
   ]
  },
  {
   "cell_type": "code",
   "execution_count": 59,
   "metadata": {},
   "outputs": [
    {
     "name": "stdout",
     "output_type": "stream",
     "text": [
      "true\n",
      "crown\n"
     ]
    }
   ],
   "source": [
    "location = \"\"\n",
    "for prop in root.iter(snowpilot_tag + \"pitNearAvalanche\"):\n",
    "    if prop.text == \"true\":\n",
    "        print(prop.text)\n",
    "    location = prop.attrib.get(\"location\")\n",
    "    print(location)"
   ]
  }
 ],
 "metadata": {
  "kernelspec": {
   "display_name": ".venv",
   "language": "python",
   "name": "python3"
  },
  "language_info": {
   "codemirror_mode": {
    "name": "ipython",
    "version": 3
   },
   "file_extension": ".py",
   "mimetype": "text/x-python",
   "name": "python",
   "nbconvert_exporter": "python",
   "pygments_lexer": "ipython3",
   "version": "3.13.2"
  }
 },
 "nbformat": 4,
 "nbformat_minor": 2
}
