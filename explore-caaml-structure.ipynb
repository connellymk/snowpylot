{
 "cells": [
  {
   "cell_type": "code",
   "execution_count": 1,
   "metadata": {},
   "outputs": [],
   "source": [
    "import pandas as pd\n",
    "import numpy as np\n",
    "import matplotlib.pyplot as plt\n",
    "import seaborn as sns\n",
    "import os\n",
    "from xml.dom import minidom\n",
    "from layer import Grain, Layer\n",
    "from snowProfile import SnowProfile, SurfaceCondition, Layer, TempObs, WeatherConditions, DensityObs\n",
    "from whumpfData import WumphData"
   ]
  },
  {
   "cell_type": "markdown",
   "metadata": {},
   "source": [
    "## Try other parser"
   ]
  },
  {
   "cell_type": "code",
   "execution_count": 49,
   "metadata": {},
   "outputs": [],
   "source": [
    "import xml.etree.ElementTree as ET\n",
    "#file_path = \"snowpits/wumph_pits/snowpits-25968-caaml.xml\"\n",
    "file_path = \"snowpits/mkc_TESTPIT-23-Feb.caaml\"\n",
    "\n",
    "\n",
    "common_tag = '{http://caaml.org/Schemas/SnowProfileIACS/v6.0.3}'\n",
    "root = ET.parse(file_path).getroot()\n",
    "gml_tag = '{http://www.opengis.net/gml}'\n"
   ]
  },
  {
   "cell_type": "code",
   "execution_count": 50,
   "metadata": {},
   "outputs": [
    {
     "name": "stdout",
     "output_type": "stream",
     "text": [
      "top down\n"
     ]
    }
   ],
   "source": [
    "# measurementDirection\n",
    "try:\n",
    "    measurementDirection = next(root.iter(common_tag + 'SnowProfileMeasurements'), None).get('dir')\n",
    "except AttributeError:\n",
    "    measurementDirection = None\n",
    "\n",
    "print(measurementDirection)\n"
   ]
  },
  {
   "cell_type": "code",
   "execution_count": 51,
   "metadata": {},
   "outputs": [
    {
     "name": "stdout",
     "output_type": "stream",
     "text": [
      "<Element '{http://caaml.org/Schemas/SnowProfileIACS/v6.0.3}srcRef' at 0x0000012EE684BC90>\n",
      "{'ContactPersonID': 'SnowPilot-User-15812', 'ContactPersonName': 'katisthebatis'}\n"
     ]
    }
   ],
   "source": [
    "user = {}\n",
    "\n",
    "try:\n",
    "    srcRef = next(root.iter(common_tag + 'srcRef'),None)\n",
    "except AttributeError:\n",
    "    srcRef = None\n",
    "\n",
    "if srcRef is not None:\n",
    "    for prop in srcRef.iter():\n",
    "        if prop.tag.endswith('Person'):\n",
    "            Person = prop\n",
    "            user['ContactPersonID'] = prop.attrib.get(gml_tag + 'id')\n",
    "            for subProp in Person.iter():\n",
    "                if subProp.tag.endswith('name'):\n",
    "                    user['ContactPersonName'] = subProp.text\n",
    "        elif prop.tag.endswith('Operation'):\n",
    "            Operation = prop\n",
    "            user['Professional'] = True\n",
    "            user['OperationID'] = prop.attrib.get(gml_tag + 'id')\n",
    "            name = []\n",
    "            for subProp in Operation.iter():\n",
    "                if subProp.tag.endswith('name'):\n",
    "                    name.append(subProp.text)\n",
    "                print(name)\n",
    "            if len(name) > 0:\n",
    "                user['OperationName'] = name[0]\n",
    "\n",
    "\n",
    "print(user)\n",
    "                \n"
   ]
  },
  {
   "cell_type": "code",
   "execution_count": 31,
   "metadata": {},
   "outputs": [
    {
     "name": "stdout",
     "output_type": "stream",
     "text": [
      "<_elementtree._element_iterator object at 0x0000012EE675F1F0>\n"
     ]
    },
    {
     "ename": "TypeError",
     "evalue": "object of type '_elementtree._element_iterator' has no len()",
     "output_type": "error",
     "traceback": [
      "\u001b[1;31m---------------------------------------------------------------------------\u001b[0m",
      "\u001b[1;31mTypeError\u001b[0m                                 Traceback (most recent call last)",
      "Cell \u001b[1;32mIn[31], line 4\u001b[0m\n\u001b[0;32m      1\u001b[0m \u001b[38;5;28mid\u001b[39m \u001b[38;5;241m=\u001b[39m root\u001b[38;5;241m.\u001b[39miter(gml_tag \u001b[38;5;241m+\u001b[39m \u001b[38;5;124m'\u001b[39m\u001b[38;5;124mid\u001b[39m\u001b[38;5;124m'\u001b[39m)\n\u001b[0;32m      2\u001b[0m \u001b[38;5;28mprint\u001b[39m(\u001b[38;5;28mid\u001b[39m)\n\u001b[1;32m----> 4\u001b[0m \u001b[38;5;28mprint\u001b[39m(\u001b[38;5;28;43mlen\u001b[39;49m\u001b[43m(\u001b[49m\u001b[38;5;28;43mid\u001b[39;49m\u001b[43m)\u001b[49m)\n",
      "\u001b[1;31mTypeError\u001b[0m: object of type '_elementtree._element_iterator' has no len()"
     ]
    }
   ],
   "source": [
    "id = root.iter(gml_tag + 'id')\n",
    "print(id)\n",
    "\n",
    "\n",
    "\n"
   ]
  }
 ],
 "metadata": {
  "kernelspec": {
   "display_name": ".venv",
   "language": "python",
   "name": "python3"
  },
  "language_info": {
   "codemirror_mode": {
    "name": "ipython",
    "version": 3
   },
   "file_extension": ".py",
   "mimetype": "text/x-python",
   "name": "python",
   "nbconvert_exporter": "python",
   "pygments_lexer": "ipython3",
   "version": "3.13.2"
  }
 },
 "nbformat": 4,
 "nbformat_minor": 2
}
