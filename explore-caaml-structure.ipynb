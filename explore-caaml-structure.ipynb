{
 "cells": [
  {
   "cell_type": "code",
   "execution_count": 7,
   "metadata": {},
   "outputs": [],
   "source": [
    "import pandas as pd\n",
    "import numpy as np\n",
    "import matplotlib.pyplot as plt\n",
    "import seaborn as sns\n",
    "import os\n",
    "from xml.dom import minidom\n",
    "from Layer import Layer"
   ]
  },
  {
   "cell_type": "code",
   "execution_count": 8,
   "metadata": {},
   "outputs": [
    {
     "name": "stdout",
     "output_type": "stream",
     "text": [
      "ROOT NODE:\n",
      "caaml:SnowProfile\n"
     ]
    }
   ],
   "source": [
    "# Find root of the xml file\n",
    "\n",
    "# Define the path to snowpits folder\n",
    "folder_path = \"snowpits_200_MT\" # The latest 200 snow pits from MT\n",
    "\n",
    "# Create a list of all CAAML files in the folder\n",
    "caaml_files = [f for f in os.listdir(folder_path) if f.endswith('.xml')] # List of all CAAML files in the folder\n",
    "file = caaml_files[0]\n",
    "\n",
    "file_path = folder_path + '/' + file\n",
    "doc = minidom.parse(file_path)\n",
    "root = doc.documentElement\n",
    "\n",
    "print(\"ROOT NODE:\")\n",
    "print(root.nodeName)"
   ]
  },
  {
   "cell_type": "code",
   "execution_count": 24,
   "metadata": {},
   "outputs": [
    {
     "name": "stdout",
     "output_type": "stream",
     "text": [
      "root children:\n",
      "caaml:metaData\n",
      "caaml:timeRef\n",
      "caaml:srcRef\n",
      "caaml:locRef\n",
      "caaml:snowProfileResultsOf\n",
      "caaml:application\n",
      "caaml:applicationVersion\n"
     ]
    }
   ],
   "source": [
    "# Layer 1 Nodes\n",
    "\n",
    "print(\"root children:\")\n",
    "\n",
    "for child in root.childNodes:\n",
    "    if child.nodeName != '#text':\n",
    "        print(child.nodeName)\n"
   ]
  },
  {
   "cell_type": "code",
   "execution_count": 11,
   "metadata": {},
   "outputs": [
    {
     "name": "stdout",
     "output_type": "stream",
     "text": [
      "MetaData Children:\n",
      "caaml:comment\n",
      "caaml:customData\n",
      "caaml:customData\n",
      "caaml:comment\n",
      "caaml:comment\n"
     ]
    }
   ],
   "source": [
    "# Layer 2: Children of metaData node\n",
    "\n",
    "print(\"metaData Children:\")\n",
    "\n",
    "metaData_list = root.getElementsByTagName('caaml:metaData')\n",
    "for child in metaData_list:\n",
    "    for subchild in child.childNodes:\n",
    "        if subchild.nodeName != '#text':\n",
    "            print(subchild.nodeName)\n"
   ]
  },
  {
   "cell_type": "code",
   "execution_count": 22,
   "metadata": {},
   "outputs": [
    {
     "name": "stdout",
     "output_type": "stream",
     "text": [
      "#text\n",
      "Lazar and Heath\n",
      "#text\n",
      "new snow\n",
      "#text\n",
      "Q1 planar\n"
     ]
    }
   ],
   "source": [
    "# Layer 3:  subchildren of metaData node\n",
    "metaData_list = root.getElementsByTagName('caaml:metaData')\n",
    "for child in metaData_list:\n",
    "    for subchild in child.childNodes:\n",
    "        for subsubchild in subchild.childNodes:\n",
    "            print(subsubchild.nodeName)\n",
    "            print(subsubchild.nodeValue)\n"
   ]
  },
  {
   "cell_type": "code",
   "execution_count": 38,
   "metadata": {},
   "outputs": [
    {
     "name": "stdout",
     "output_type": "stream",
     "text": [
      "Lazar and Heath\n",
      "new snow\n",
      "Q1 planar\n"
     ]
    }
   ],
   "source": [
    "# get string from comment node\n",
    "metaData_list = root.getElementsByTagName('caaml:metaData')\n",
    "for child in metaData_list:\n",
    "    for subchild in child.childNodes:\n",
    "        for subsubchild in subchild.childNodes:\n",
    "            print(subsubchild.nodeValue)\n"
   ]
  },
  {
   "cell_type": "code",
   "execution_count": 12,
   "metadata": {},
   "outputs": [
    {
     "name": "stdout",
     "output_type": "stream",
     "text": [
      "timeRef Children:\n",
      "caaml:recordTime\n",
      "caaml:dateTimeReport\n",
      "caaml:dateTimeLastEdit\n"
     ]
    }
   ],
   "source": [
    "# Layer 2: Children of timeRef node\n",
    "\n",
    "print(\"timeRef Children:\")\n",
    "\n",
    "timeRef_list = root.getElementsByTagName('caaml:timeRef')\n",
    "for child in timeRef_list:\n",
    "    for subchild in child.childNodes:\n",
    "        if subchild.nodeName != '#text':\n",
    "            print(subchild.nodeName)"
   ]
  },
  {
   "cell_type": "code",
   "execution_count": 52,
   "metadata": {},
   "outputs": [
    {
     "name": "stdout",
     "output_type": "stream",
     "text": [
      "2024-11-11T05:28:11-09:00\n",
      "['2024-11-11', '05:28:11-09:00']\n"
     ]
    }
   ],
   "source": [
    "# Get Date and Time from timeRef node\n",
    "timeRef_list = root.getElementsByTagName('caaml:dateTimeReport')\n",
    "dateTime=timeRef_list[0].firstChild.nodeValue\n",
    "print(dateTime)\n",
    "\n",
    "dateTime=dateTime.split('T')\n",
    "print(dateTime)\n"
   ]
  },
  {
   "cell_type": "code",
   "execution_count": 27,
   "metadata": {},
   "outputs": [
    {
     "name": "stdout",
     "output_type": "stream",
     "text": [
      "caaml:timeRef\n",
      "#text\n",
      "caaml:recordTime\n",
      "#text\n",
      "\n",
      "      \n",
      "caaml:TimeInstant\n",
      "None\n",
      "#text\n",
      "\n",
      "    \n",
      "#text\n",
      "caaml:dateTimeReport\n",
      "#text\n",
      "2024-11-11T05:28:11-09:00\n",
      "#text\n",
      "caaml:dateTimeLastEdit\n",
      "#text\n",
      "2024-11-11T05:28:45-09:00\n",
      "#text\n"
     ]
    }
   ],
   "source": [
    "# Layer 3:  subchildren of timeRef node\n",
    "timeRef_list = root.getElementsByTagName('caaml:timeRef')\n",
    "for child in timeRef_list:\n",
    "    print(child.nodeName)\n",
    "    for subchild in child.childNodes:\n",
    "        print(subchild.nodeName)\n",
    "        for subsubchild in subchild.childNodes:\n",
    "            print(subsubchild.nodeName)\n",
    "            print(subsubchild.nodeValue)"
   ]
  },
  {
   "cell_type": "code",
   "execution_count": 13,
   "metadata": {},
   "outputs": [
    {
     "name": "stdout",
     "output_type": "stream",
     "text": [
      "srcRef Children:\n",
      "caaml:Operation\n"
     ]
    }
   ],
   "source": [
    "# Layer 2: Children of srcRef node\n",
    "\n",
    "print(\"srcRef Children:\")\n",
    "\n",
    "srcRef_list = root.getElementsByTagName('caaml:srcRef')\n",
    "for child in srcRef_list:\n",
    "    for subchild in child.childNodes:\n",
    "        if subchild.nodeName != '#text':\n",
    "            print(subchild.nodeName)"
   ]
  },
  {
   "cell_type": "code",
   "execution_count": 14,
   "metadata": {},
   "outputs": [
    {
     "name": "stdout",
     "output_type": "stream",
     "text": [
      "locRef Children:\n",
      "caaml:name\n",
      "caaml:obsPointSubType\n",
      "caaml:validElevation\n",
      "caaml:validAspect\n",
      "caaml:validSlopeAngle\n",
      "caaml:pointLocation\n",
      "caaml:country\n",
      "caaml:region\n"
     ]
    }
   ],
   "source": [
    "# Layer 2: Children of locRef node\n",
    "\n",
    "print(\"locRef Children:\")\n",
    "\n",
    "locRef_list = root.getElementsByTagName('caaml:locRef')\n",
    "for child in locRef_list:\n",
    "    for subchild in child.childNodes:\n",
    "        if subchild.nodeName != '#text':\n",
    "            print(subchild.nodeName)"
   ]
  },
  {
   "cell_type": "code",
   "execution_count": 15,
   "metadata": {},
   "outputs": [
    {
     "name": "stdout",
     "output_type": "stream",
     "text": [
      "snowProfileResultsOf Children:\n",
      "caaml:SnowProfileMeasurements\n"
     ]
    }
   ],
   "source": [
    "# Layer 2: Children of snowProfileResultsOf node\n",
    "\n",
    "print(\"snowProfileResultsOf Children:\")\n",
    "\n",
    "snowProfileResultsOf_list = root.getElementsByTagName('caaml:snowProfileResultsOf')\n",
    "for child in snowProfileResultsOf_list:\n",
    "    for subchild in child.childNodes:\n",
    "        if subchild.nodeName != '#text':\n",
    "            print(subchild.nodeName)"
   ]
  },
  {
   "cell_type": "code",
   "execution_count": 16,
   "metadata": {},
   "outputs": [
    {
     "name": "stdout",
     "output_type": "stream",
     "text": [
      "application Children:\n"
     ]
    }
   ],
   "source": [
    "# Layer 2: Children of application node\n",
    "\n",
    "print(\"application Children:\")\n",
    "\n",
    "application_list = root.getElementsByTagName('caaml:application')\n",
    "for child in application_list:\n",
    "    for subchild in child.childNodes:\n",
    "        if subchild.nodeName != '#text':\n",
    "            print(subchild.nodeName)"
   ]
  },
  {
   "cell_type": "code",
   "execution_count": 17,
   "metadata": {},
   "outputs": [
    {
     "name": "stdout",
     "output_type": "stream",
     "text": [
      "applicationVersion Children:\n"
     ]
    }
   ],
   "source": [
    "# Layer 2: Children of applicationVersion node\n",
    "\n",
    "print(\"applicationVersion Children:\")\n",
    "\n",
    "applicationVersion_list = root.getElementsByTagName('caaml:applicationVersion')\n",
    "for child in applicationVersion_list:\n",
    "    for subchild in child.childNodes:\n",
    "        if subchild.nodeName != '#text':\n",
    "            print(subchild.nodeName)"
   ]
  },
  {
   "cell_type": "markdown",
   "metadata": {},
   "source": [
    "LEVEL 1 Nodes:\n",
    "caaml:metaData\n",
    "caaml:timeRef\n",
    "caaml:srcRef\n",
    "caaml:locRef\n",
    "caaml:snowProfileResultsOf\n",
    "caaml:application\n",
    "caaml:applicationVersion"
   ]
  }
 ],
 "metadata": {
  "kernelspec": {
   "display_name": ".venv",
   "language": "python",
   "name": "python3"
  },
  "language_info": {
   "codemirror_mode": {
    "name": "ipython",
    "version": 3
   },
   "file_extension": ".py",
   "mimetype": "text/x-python",
   "name": "python",
   "nbconvert_exporter": "python",
   "pygments_lexer": "ipython3",
   "version": "3.13.1"
  }
 },
 "nbformat": 4,
 "nbformat_minor": 2
}
