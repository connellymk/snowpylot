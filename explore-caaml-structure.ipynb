{
 "cells": [
  {
   "cell_type": "code",
   "execution_count": 1,
   "metadata": {},
   "outputs": [],
   "source": [
    "import pandas as pd\n",
    "import numpy as np\n",
    "import matplotlib.pyplot as plt\n",
    "import seaborn as sns\n",
    "import os\n",
    "from xml.dom import minidom\n",
    "from layer import Grain, Layer\n",
    "from snowProfile import (\n",
    "    SnowProfile,\n",
    "    SurfaceCondition,\n",
    "    Layer,\n",
    "    TempObs,\n",
    "    DensityObs,\n",
    ")\n",
    "from whumpfData import WumphData\n",
    "from coreInfo import CoreInfo, User, Location, WeatherConditions"
   ]
  },
  {
   "cell_type": "markdown",
   "metadata": {},
   "source": [
    "## Try other parser"
   ]
  },
  {
   "cell_type": "code",
   "execution_count": 2,
   "metadata": {},
   "outputs": [],
   "source": [
    "import xml.etree.ElementTree as ET\n",
    "\n",
    "file_path = \"snowpits/test/snowpylot-test-26-Feb-caaml.xml\"\n",
    "# file_path = \"snowpits/test/snowpits-13720-caaml.xml\"\n",
    "\n",
    "common_tag = (\n",
    "    \"{http://caaml.org/Schemas/SnowProfileIACS/v6.0.3}\"  # Update to read from xml file\n",
    ")\n",
    "gml_tag = \"{http://www.opengis.net/gml}\"\n",
    "snowpilot_tag = \"{http://www.snowpilot.org/Schemas/caaml}\"\n",
    "root = ET.parse(file_path).getroot()"
   ]
  },
  {
   "cell_type": "code",
   "execution_count": 7,
   "metadata": {},
   "outputs": [
    {
     "name": "stdout",
     "output_type": "stream",
     "text": [
      "SCT Nil ['28', 'degC'] C SW\n",
      "SW\n"
     ]
    }
   ],
   "source": [
    "weatherCond = next(root.iter(common_tag + \"weatherCond\"), None)\n",
    "\n",
    "for prop in weatherCond.iter(common_tag + \"skyCond\"):\n",
    "    skyCond = prop.text\n",
    "\n",
    "for prop in weatherCond.iter(common_tag + \"precipTI\"):\n",
    "    precipTI = prop.text\n",
    "\n",
    "for prop in weatherCond.iter(common_tag + \"airTempPres\"):\n",
    "    temp_val = prop.text\n",
    "    temp_units = prop.get(\"uom\")\n",
    "    temp = [float(temp_val), temp_units]\n",
    "    temp = [temp_val, temp_units]\n",
    "\n",
    "for prop in weatherCond.iter(common_tag + \"windSpd\"):\n",
    "    windSpd = prop.text\n",
    "\n",
    "for prop in weatherCond.iter(common_tag + \"windDir\"):\n",
    "    for subProp in prop.iter(common_tag + \"position\"):\n",
    "        windDir = subProp.text\n",
    "\n",
    "print(skyCond, precipTI, temp, windSpd, windDir)\n",
    "\n",
    "print(windDir)"
   ]
  }
 ],
 "metadata": {
  "kernelspec": {
   "display_name": ".venv",
   "language": "python",
   "name": "python3"
  },
  "language_info": {
   "codemirror_mode": {
    "name": "ipython",
    "version": 3
   },
   "file_extension": ".py",
   "mimetype": "text/x-python",
   "name": "python",
   "nbconvert_exporter": "python",
   "pygments_lexer": "ipython3",
   "version": "3.13.2"
  }
 },
 "nbformat": 4,
 "nbformat_minor": 2
}
