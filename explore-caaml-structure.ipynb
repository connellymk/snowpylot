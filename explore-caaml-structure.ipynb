{
 "cells": [
  {
   "cell_type": "code",
   "execution_count": 2,
   "metadata": {},
   "outputs": [],
   "source": [
    "import pandas as pd\n",
    "import numpy as np\n",
    "import matplotlib.pyplot as plt\n",
    "import seaborn as sns\n",
    "import os\n",
    "from xml.dom import minidom\n",
    "from snowProfile import SnowProfile, SurfaceCondition, Layer, TempMeasurement"
   ]
  },
  {
   "cell_type": "markdown",
   "metadata": {},
   "source": [
    "## Try other parser"
   ]
  },
  {
   "cell_type": "code",
   "execution_count": 3,
   "metadata": {},
   "outputs": [],
   "source": [
    "import xml.etree.ElementTree as ET\n",
    "file_path = \"snowpits_200_MT/snowpits-66387-caaml.xml\"\n",
    "\n",
    "common_tag = '{http://caaml.org/Schemas/SnowProfileIACS/v6.0.3}'\n",
    "root = ET.parse(file_path).getroot()\n"
   ]
  },
  {
   "cell_type": "code",
   "execution_count": 4,
   "metadata": {},
   "outputs": [
    {
     "name": "stdout",
     "output_type": "stream",
     "text": [
      "top down\n"
     ]
    }
   ],
   "source": [
    "# measurementDirection\n",
    "try:\n",
    "    measurementDirection = next(root.iter(common_tag + 'SnowProfileMeasurements'), None).get('dir')\n",
    "except AttributeError:\n",
    "    measurementDirection = None\n",
    "\n",
    "print(measurementDirection)\n"
   ]
  },
  {
   "cell_type": "code",
   "execution_count": 5,
   "metadata": {},
   "outputs": [],
   "source": [
    "hs_tag = common_tag + 'profileDepth'\n",
    "        \n",
    "try:\n",
    "    hs = next(root.iter(hs_tag), None).text\n",
    "    hs_units = next(root.iter(hs_tag), None).get('uom')\n",
    "    HS = [float(hs), hs_units]\n",
    "except AttributeError:\n",
    "    HS = None\n"
   ]
  },
  {
   "cell_type": "markdown",
   "metadata": {},
   "source": [
    "Surface Conditions\n",
    "windLoading\n",
    "penetrationFoot\n",
    "penetrationSki"
   ]
  },
  {
   "cell_type": "code",
   "execution_count": 6,
   "metadata": {},
   "outputs": [],
   "source": [
    "custom = root.iter(common_tag+'custom_Data')\n",
    "\n",
    "for tag in custom:\n",
    "    print(tag.text)"
   ]
  },
  {
   "cell_type": "code",
   "execution_count": 7,
   "metadata": {},
   "outputs": [],
   "source": [
    "try:\n",
    "    penFoot_val = next(root.iter(common_tag + 'penetrationFoot'), None).text\n",
    "    penFoot_units = next(root.iter(common_tag + 'penetrationFoot'), None).get('uom')\n",
    "    penFoot = [float(penFoot_val), penFoot_units]\n",
    "except AttributeError:\n",
    "    penFoot = None"
   ]
  },
  {
   "cell_type": "code",
   "execution_count": 8,
   "metadata": {},
   "outputs": [
    {
     "name": "stdout",
     "output_type": "stream",
     "text": [
      "Layer 1:\n",
      "\n",
      "\t depthTop: ['0', 'cm']\n",
      "\t thickness: ['8', 'cm']\n",
      "\t grainFormPrimary: DFbk\n",
      "\t hardness: F\n",
      "\t wetness: None\n",
      "\t layerOfConcern: None\n",
      "\t grainFormPrimary_Class: DF\n",
      "Layer 2:\n",
      "\n",
      "\t depthTop: ['8', 'cm']\n",
      "\t thickness: ['39', 'cm']\n",
      "\t grainFormPrimary: DFbk\n",
      "\t hardness: F+\n",
      "\t wetness: None\n",
      "\t layerOfConcern: None\n",
      "\t grainFormPrimary_Class: DF\n",
      "Layer 3:\n",
      "\n",
      "\t depthTop: ['47', 'cm']\n",
      "\t thickness: ['1', 'cm']\n",
      "\t grainFormPrimary: MFcr\n",
      "\t hardness: 1F\n",
      "\t wetness: None\n",
      "\t layerOfConcern: true\n",
      "\t grainFormPrimary_Class: MF\n",
      "Layer 4:\n",
      "\n",
      "\t depthTop: ['48', 'cm']\n",
      "\t thickness: ['20', 'cm']\n",
      "\t grainFormPrimary: FCxr\n",
      "\t hardness: 4F\n",
      "\t wetness: None\n",
      "\t layerOfConcern: None\n",
      "\t grainFormPrimary_Class: FC\n",
      "Layer 5:\n",
      "\n",
      "\t depthTop: ['23', 'cm']\n",
      "\t thickness: None\n",
      "\t grainFormPrimary: None\n",
      "\t hardness: None\n",
      "\t wetness: None\n",
      "\t layerOfConcern: None\n",
      "\t grainFormPrimary_Class: None\n"
     ]
    }
   ],
   "source": [
    "# layers\n",
    "layers = root.iter(common_tag + 'Layer')\n",
    "\n",
    "layer_list = []\n",
    "\n",
    "for layer in layers:\n",
    "    layer_obj = Layer()\n",
    "    for prop in layer.iter():\n",
    "        if prop.tag.endswith('depthTop'):\n",
    "            depthTop_val = prop.text\n",
    "            depthTop_units = prop.get('uom')\n",
    "            depthTop=[depthTop_val,depthTop_units]\n",
    "            layer_obj.set_depthTop(depthTop)\n",
    "\n",
    "        if prop.tag.endswith('thickness'):\n",
    "            thickness_val = prop.text\n",
    "            thickness_units = prop.get('uom')\n",
    "            thickness=[thickness_val,thickness_units]\n",
    "            layer_obj   .set_thickness(thickness)\n",
    "        if prop.tag.endswith('grainFormPrimary'):\n",
    "            grainFormPrimary = prop.text\n",
    "            layer_obj.set_grainFormPrimary(grainFormPrimary)\n",
    "        if prop.tag.endswith('hardness'):\n",
    "            hardness = prop.text\n",
    "            layer_obj.set_hardness(hardness)\n",
    "        if prop.tag.endswith('wetness'):\n",
    "            wetness = prop.text\n",
    "            layer_obj.set_wetness(wetness)\n",
    "        if prop.tag.endswith('layerOfConcern'):\n",
    "            layerOfConcern = prop.text\n",
    "            layer_obj.set_layerOfConcern(layerOfConcern)\n",
    "            \n",
    "\n",
    "    layer_list.append(layer_obj)\n",
    "\n",
    "for i,layer in enumerate(layer_list):\n",
    "    print(f\"Layer {i+1}:\")\n",
    "\n",
    "    print(layer_list[i])\n",
    "\n",
    "        "
   ]
  },
  {
   "cell_type": "code",
   "execution_count": 9,
   "metadata": {},
   "outputs": [
    {
     "name": "stdout",
     "output_type": "stream",
     "text": [
      "66387\n"
     ]
    }
   ],
   "source": [
    "# pitID\n",
    "#  <caaml:locRef gml:id=\"location-nid-66387\">\n",
    "\n",
    "pitID_tag = common_tag + 'locRef'\n",
    "gml_tag = '{http://www.opengis.net/gml}id'\n",
    "\n",
    "try:\n",
    "    pitID_str = next(root.iter(pitID_tag), None).attrib[gml_tag]\n",
    "    pitID = pitID_str.split('-')[-1]\n",
    "except AttributeError:\n",
    "    pitID = None\n",
    "\n",
    "print(pitID)"
   ]
  },
  {
   "cell_type": "code",
   "execution_count": 35,
   "metadata": {},
   "outputs": [
    {
     "name": "stdout",
     "output_type": "stream",
     "text": [
      "<_elementtree._element_iterator object at 0x000001A689102F20>\n",
      "tag:  {http://caaml.org/Schemas/SnowProfileIACS/v6.0.3}srcRef\n",
      "attrib:  {}\n",
      "text:  \n",
      "    \n",
      "sub_tag:  {http://caaml.org/Schemas/SnowProfileIACS/v6.0.3}Operation\n",
      "sub_attrib:  {'{http://www.opengis.net/gml}id': 'SnowPilot-Group-68'}\n",
      "sub_text:  \n",
      "      \n",
      "sub_sub_tag:  {http://caaml.org/Schemas/SnowProfileIACS/v6.0.3}name\n",
      "sub_sub_attrib:  {}\n",
      "sub_sub_text:  Bridger Bowl Ski Patrol\n",
      "sub_sub_tag:  {http://caaml.org/Schemas/SnowProfileIACS/v6.0.3}contactPerson\n",
      "sub_sub_attrib:  {'{http://www.opengis.net/gml}id': 'SnowPilot-User-2900'}\n",
      "sub_sub_text:  \n",
      "        \n",
      "sub_sub_sub_tag:  {http://caaml.org/Schemas/SnowProfileIACS/v6.0.3}name\n",
      "sub_sub_sub_attrib:  {}\n",
      "sub_sub_sub_text:  BB Ski Patrol\n",
      "{}\n"
     ]
    }
   ],
   "source": [
    "#user = {\n",
    " #           'OperationID': None,\n",
    "  #          'OperationName': None,\n",
    "   #         'Professional': None,\n",
    "    #        'ContactPersonID': None,\n",
    "     #       'ContactPersonName': None,\n",
    "      #      }   \n",
    "\n",
    "user = {}\n",
    "\n",
    "\n",
    "try:\n",
    "    srcRef = root.iter(common_tag + 'srcRef')\n",
    "except AttributeError:\n",
    "    srcRef = None\n",
    "\n",
    "print(srcRef)\n",
    "\n",
    "if srcRef is not None:\n",
    "    for prop in srcRef:\n",
    "        print(\"tag: \",prop.tag)\n",
    "        print(\"attrib: \",prop.attrib)\n",
    "        print(\"text: \",prop.text)\n",
    "        for sub_prop in prop:\n",
    "            print(\"sub_tag: \",sub_prop.tag)\n",
    "            print(\"sub_attrib: \",sub_prop.attrib)\n",
    "            print(\"sub_text: \",sub_prop.text)\n",
    "            for sub_sub_prop in sub_prop:\n",
    "                print(\"sub_sub_tag: \",sub_sub_prop.tag)\n",
    "                print(\"sub_sub_attrib: \",sub_sub_prop.attrib)\n",
    "                print(\"sub_sub_text: \",sub_sub_prop.text)\n",
    "                for sub_sub_sub_prop in sub_sub_prop:\n",
    "                    print(\"sub_sub_sub_tag: \",sub_sub_sub_prop.tag)\n",
    "                    print(\"sub_sub_sub_attrib: \",sub_sub_sub_prop.attrib)\n",
    "                    print(\"sub_sub_sub_text: \",sub_sub_sub_prop.text)\n",
    "\n",
    "if srcRef is not None:\n",
    "    for prop in srcRef:\n",
    "        for sub_prop in prop:\n",
    "            if sub_prop.tag.endswith('Operation'):\n",
    "                user['OperationID'] = sub_prop.attrib['gml:id']\n",
    "                for sub_sub_prop in sub_prop:\n",
    "                    if sub_sub_prop.tag.endswith('name'):\n",
    "                        user['OperationName'] = sub_sub_prop.text\n",
    "                    if sub_sub_prop.tag.endswith('contactPerson'):\n",
    "                        user['ContactPersonID'] = sub_sub_prop.attrib['gml:id']\n",
    "                        for sub_sub_sub_prop in sub_sub_prop:\n",
    "                            if sub_sub_sub_prop.tag.endswith('name'):\n",
    "                                user['ContactPersonName'] = sub_sub_sub_prop.text\n",
    "            elif sub_prop.tag.endswith('Person'):\n",
    "                user['ContactPersonID'] = sub_prop.attrib['gml:id']\n",
    "                for sub_sub_prop in sub_prop:\n",
    "                    if sub_sub_prop.tag.endswith('name'):\n",
    "                        user['ContactPersonName'] = sub_sub_prop.text\n",
    "\n",
    "\n",
    "\n",
    "print(user)\n"
   ]
  }
 ],
 "metadata": {
  "kernelspec": {
   "display_name": ".venv",
   "language": "python",
   "name": "python3"
  },
  "language_info": {
   "codemirror_mode": {
    "name": "ipython",
    "version": 3
   },
   "file_extension": ".py",
   "mimetype": "text/x-python",
   "name": "python",
   "nbconvert_exporter": "python",
   "pygments_lexer": "ipython3",
   "version": "3.13.2"
  }
 },
 "nbformat": 4,
 "nbformat_minor": 2
}
