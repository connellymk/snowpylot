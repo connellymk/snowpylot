{
 "cells": [
  {
   "cell_type": "code",
   "execution_count": 4,
   "metadata": {},
   "outputs": [],
   "source": [
    "import pandas as pd\n",
    "import numpy as np\n",
    "import matplotlib.pyplot as plt\n",
    "import seaborn as sns\n",
    "import os\n",
    "from xml.dom import minidom\n",
    "from Layer import Layer"
   ]
  },
  {
   "cell_type": "markdown",
   "metadata": {},
   "source": [
    "## Try other parser"
   ]
  },
  {
   "cell_type": "code",
   "execution_count": 5,
   "metadata": {},
   "outputs": [],
   "source": [
    "import xml.etree.ElementTree as ET\n",
    "file_path = \"snowpits_200_MT/snowpits-66387-caaml.xml\"\n",
    "\n",
    "common_tag = '{http://caaml.org/Schemas/SnowProfileIACS/v6.0.3}'\n",
    "root = ET.parse(file_path).getroot()\n"
   ]
  },
  {
   "cell_type": "code",
   "execution_count": 7,
   "metadata": {},
   "outputs": [
    {
     "name": "stdout",
     "output_type": "stream",
     "text": [
      "top down\n"
     ]
    }
   ],
   "source": [
    "# measurementDirection\n",
    "try:\n",
    "    measurementDirection = next(root.iter(common_tag + 'SnowProfileMeasurements'), None).get('dir')\n",
    "except AttributeError:\n",
    "    measurementDirection = None\n",
    "\n",
    "print(measurementDirection)\n"
   ]
  },
  {
   "cell_type": "code",
   "execution_count": 5,
   "metadata": {},
   "outputs": [],
   "source": [
    "hs_tag = common_tag + 'profileDepth'\n",
    "        \n",
    "try:\n",
    "    hs = next(root.iter(hs_tag), None).text\n",
    "    hs_units = next(root.iter(hs_tag), None).get('uom')\n",
    "    HS = [float(hs), hs_units]\n",
    "except AttributeError:\n",
    "    HS = None\n"
   ]
  },
  {
   "cell_type": "markdown",
   "metadata": {},
   "source": [
    "Surface Conditions\n",
    "windLoading\n",
    "penetrationFoot\n",
    "penetrationSki"
   ]
  },
  {
   "cell_type": "code",
   "execution_count": 21,
   "metadata": {},
   "outputs": [],
   "source": [
    "custom = root.iter(common_tag+'custom_Data')\n",
    "\n",
    "for tag in custom:\n",
    "    print(tag.text)"
   ]
  },
  {
   "cell_type": "code",
   "execution_count": null,
   "metadata": {},
   "outputs": [],
   "source": [
    "try:\n",
    "    penFoot_val = next(root.iter(common_tag + 'penetrationFoot'), None).text\n",
    "    penFoot_units = next(root.iter(common_tag + 'penetrationFoot'), None).get('uom')\n",
    "    penFoot = [float(penFoot_val), penFoot_units]\n",
    "except AttributeError:\n",
    "    penFoot = None"
   ]
  },
  {
   "cell_type": "code",
   "execution_count": 31,
   "metadata": {},
   "outputs": [
    {
     "name": "stdout",
     "output_type": "stream",
     "text": [
      "['0', 'cm']\n",
      "['8', 'cm']\n",
      "['47', 'cm']\n",
      "['48', 'cm']\n",
      "['23', 'cm']\n"
     ]
    }
   ],
   "source": [
    "# layers\n",
    "layers = root.iter(common_tag + 'Layer')\n",
    "\n",
    "for layer in layers:\n",
    "    for prop in layer.iter():\n",
    "        if prop.tag.endswith('depthTop'):\n",
    "            depthTop_val = prop.text\n",
    "            depthTop_units = prop.get('uom')\n",
    "            depthTop=[depthTop_val,depthTop_units]\n",
    "            print(depthTop)\n",
    "\n",
    "        "
   ]
  },
  {
   "cell_type": "code",
   "execution_count": 6,
   "metadata": {},
   "outputs": [
    {
     "name": "stdout",
     "output_type": "stream",
     "text": [
      "66387\n"
     ]
    }
   ],
   "source": [
    "# pitID\n",
    "#  <caaml:locRef gml:id=\"location-nid-66387\">\n",
    "\n",
    "pitID_tag = common_tag + 'locRef'\n",
    "gml_tag = '{http://www.opengis.net/gml}id'\n",
    "\n",
    "try:\n",
    "    pitID_str = next(root.iter(pitID_tag), None).attrib[gml_tag]\n",
    "    pitID = pitID_str.split('-')[-1]\n",
    "except AttributeError:\n",
    "    pitID = None\n",
    "\n",
    "print(pitID)"
   ]
  }
 ],
 "metadata": {
  "kernelspec": {
   "display_name": ".venv",
   "language": "python",
   "name": "python3"
  },
  "language_info": {
   "codemirror_mode": {
    "name": "ipython",
    "version": 3
   },
   "file_extension": ".py",
   "mimetype": "text/x-python",
   "name": "python",
   "nbconvert_exporter": "python",
   "pygments_lexer": "ipython3",
   "version": "3.13.1"
  }
 },
 "nbformat": 4,
 "nbformat_minor": 2
}
