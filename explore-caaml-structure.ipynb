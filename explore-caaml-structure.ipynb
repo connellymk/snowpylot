{
 "cells": [
  {
   "cell_type": "code",
   "execution_count": 1,
   "metadata": {},
   "outputs": [],
   "source": [
    "import pandas as pd\n",
    "import numpy as np\n",
    "import matplotlib.pyplot as plt\n",
    "import seaborn as sns\n",
    "import os\n",
    "from xml.dom import minidom\n",
    "from layer import Grain, Layer\n",
    "from snowProfile import (\n",
    "    SnowProfile,\n",
    "    SurfaceCondition,\n",
    "    Layer,\n",
    "    TempObs,\n",
    "    DensityObs,\n",
    ")\n",
    "from whumpfData import WumphData\n",
    "from coreInfo import CoreInfo, User, Location, WeatherConditions"
   ]
  },
  {
   "cell_type": "markdown",
   "metadata": {},
   "source": [
    "## Try other parser"
   ]
  },
  {
   "cell_type": "code",
   "execution_count": 14,
   "metadata": {},
   "outputs": [],
   "source": [
    "import xml.etree.ElementTree as ET\n",
    "\n",
    "#file_path = \"snowpits/test/snowpylot-test-26-Feb-caaml.xml\"\n",
    "file_path = \"snowpits/test/mkc_TESTPIT-23-Feb-caaml.xml\"\n",
    "# file_path = \"snowpits/test/snowpits-13720-caaml.xml\"\n",
    "\n",
    "common_tag = (\n",
    "    \"{http://caaml.org/Schemas/SnowProfileIACS/v6.0.3}\"  # Update to read from xml file\n",
    ")\n",
    "gml_tag = \"{http://www.opengis.net/gml}\"\n",
    "snowpilot_tag = \"{http://www.snowpilot.org/Schemas/caaml}\"\n",
    "root = ET.parse(file_path).getroot()"
   ]
  },
  {
   "cell_type": "code",
   "execution_count": 17,
   "metadata": {},
   "outputs": [
    {
     "name": "stdout",
     "output_type": "stream",
     "text": [
      "[10.0, 'cm']\n",
      "[4.0, 'cm']\n",
      "[20.0, 'kgm-3']\n",
      "[20.0, 'cm']\n",
      "[4.0, 'cm']\n",
      "[30.0, 'kgm-3']\n",
      "[30.0, 'cm']\n",
      "[4.0, 'cm']\n",
      "[40.0, 'kgm-3']\n",
      "[40.0, 'cm']\n",
      "[4.0, 'cm']\n",
      "[40.0, 'kgm-3']\n",
      "[50.0, 'cm']\n",
      "[4.0, 'cm']\n",
      "[40.0, 'kgm-3']\n",
      "[60.0, 'cm']\n",
      "[4.0, 'cm']\n",
      "[40.0, 'kgm-3']\n"
     ]
    }
   ],
   "source": [
    "densityProfile = next(root.iter(common_tag + \"densityProfile\"), None)\n",
    "\n",
    "if densityProfile is not None:\n",
    "    densityLayer = [layer for layer in densityProfile if layer.tag.endswith(\"Layer\")]\n",
    "    \n",
    "    for layer in densityLayer:\n",
    "        # obs = DensityObs()\n",
    "        for prop in layer.iter(common_tag + \"depthTop\"):\n",
    "            depthTop = [round(float(prop.text), 2), prop.get(\"uom\")]\n",
    "            print(depthTop)\n",
    "\n",
    "        for prop in layer.iter(common_tag + \"thickness\"):\n",
    "            thickness = [round(float(prop.text), 2), prop.get(\"uom\")]\n",
    "            print(thickness)\n",
    "\n",
    "        for prop in layer.iter(common_tag + \"density\"):\n",
    "            density = [round(float(prop.text), 2), prop.get(\"uom\")]\n",
    "            print(density)\n"
   ]
  }
 ],
 "metadata": {
  "kernelspec": {
   "display_name": ".venv",
   "language": "python",
   "name": "python3"
  },
  "language_info": {
   "codemirror_mode": {
    "name": "ipython",
    "version": 3
   },
   "file_extension": ".py",
   "mimetype": "text/x-python",
   "name": "python",
   "nbconvert_exporter": "python",
   "pygments_lexer": "ipython3",
   "version": "3.13.2"
  }
 },
 "nbformat": 4,
 "nbformat_minor": 2
}
