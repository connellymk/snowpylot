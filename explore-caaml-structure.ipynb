{
 "cells": [
  {
   "cell_type": "code",
   "execution_count": 4,
   "metadata": {},
   "outputs": [],
   "source": [
    "import pandas as pd\n",
    "import numpy as np\n",
    "import matplotlib.pyplot as plt\n",
    "import seaborn as sns\n",
    "import os\n",
    "from xml.dom import minidom\n",
    "from Layer import Layer"
   ]
  },
  {
   "cell_type": "code",
   "execution_count": 5,
   "metadata": {},
   "outputs": [
    {
     "name": "stdout",
     "output_type": "stream",
     "text": [
      "ROOT NODE:\n",
      "caaml:SnowProfile\n"
     ]
    }
   ],
   "source": [
    "# Find root of the xml file\n",
    "\n",
    "# Define the path to snowpits folder\n",
    "folder_path = \"snowpits_200_MT\" # The latest 200 snow pits from MT\n",
    "\n",
    "# Create a list of all CAAML files in the folder\n",
    "caaml_files = [f for f in os.listdir(folder_path) if f.endswith('.xml')] # List of all CAAML files in the folder\n",
    "file = caaml_files[0]\n",
    "\n",
    "file_path = folder_path + '/' + file\n",
    "doc = minidom.parse(file_path)\n",
    "root = doc.documentElement\n",
    "\n",
    "print(\"ROOT NODE:\")\n",
    "print(root.nodeName)"
   ]
  },
  {
   "cell_type": "code",
   "execution_count": 24,
   "metadata": {},
   "outputs": [
    {
     "name": "stdout",
     "output_type": "stream",
     "text": [
      "root children:\n",
      "caaml:metaData\n",
      "caaml:timeRef\n",
      "caaml:srcRef\n",
      "caaml:locRef\n",
      "caaml:snowProfileResultsOf\n",
      "caaml:application\n",
      "caaml:applicationVersion\n"
     ]
    }
   ],
   "source": [
    "# Layer 1 Nodes\n",
    "\n",
    "print(\"root children:\")\n",
    "\n",
    "for child in root.childNodes:\n",
    "    if child.nodeName != '#text':\n",
    "        print(child.nodeName)\n"
   ]
  },
  {
   "cell_type": "code",
   "execution_count": 11,
   "metadata": {},
   "outputs": [
    {
     "name": "stdout",
     "output_type": "stream",
     "text": [
      "MetaData Children:\n",
      "caaml:comment\n",
      "caaml:customData\n",
      "caaml:customData\n",
      "caaml:comment\n",
      "caaml:comment\n"
     ]
    }
   ],
   "source": [
    "# Layer 2: Children of metaData node\n",
    "\n",
    "print(\"metaData Children:\")\n",
    "\n",
    "metaData_list = root.getElementsByTagName('caaml:metaData')\n",
    "for child in metaData_list:\n",
    "    for subchild in child.childNodes:\n",
    "        if subchild.nodeName != '#text':\n",
    "            print(subchild.nodeName)\n"
   ]
  },
  {
   "cell_type": "code",
   "execution_count": 22,
   "metadata": {},
   "outputs": [
    {
     "name": "stdout",
     "output_type": "stream",
     "text": [
      "#text\n",
      "Lazar and Heath\n",
      "#text\n",
      "new snow\n",
      "#text\n",
      "Q1 planar\n"
     ]
    }
   ],
   "source": [
    "# Layer 3:  subchildren of metaData node\n",
    "metaData_list = root.getElementsByTagName('caaml:metaData')\n",
    "for child in metaData_list:\n",
    "    for subchild in child.childNodes:\n",
    "        for subsubchild in subchild.childNodes:\n",
    "            print(subsubchild.nodeName)\n",
    "            print(subsubchild.nodeValue)\n"
   ]
  },
  {
   "cell_type": "code",
   "execution_count": 38,
   "metadata": {},
   "outputs": [
    {
     "name": "stdout",
     "output_type": "stream",
     "text": [
      "Lazar and Heath\n",
      "new snow\n",
      "Q1 planar\n"
     ]
    }
   ],
   "source": [
    "# get string from comment node\n",
    "metaData_list = root.getElementsByTagName('caaml:metaData')\n",
    "for child in metaData_list:\n",
    "    for subchild in child.childNodes:\n",
    "        for subsubchild in subchild.childNodes:\n",
    "            print(subsubchild.nodeValue)\n"
   ]
  },
  {
   "cell_type": "code",
   "execution_count": 12,
   "metadata": {},
   "outputs": [
    {
     "name": "stdout",
     "output_type": "stream",
     "text": [
      "timeRef Children:\n",
      "caaml:recordTime\n",
      "caaml:dateTimeReport\n",
      "caaml:dateTimeLastEdit\n"
     ]
    }
   ],
   "source": [
    "# Layer 2: Children of timeRef node\n",
    "\n",
    "print(\"timeRef Children:\")\n",
    "\n",
    "timeRef_list = root.getElementsByTagName('caaml:timeRef')\n",
    "for child in timeRef_list:\n",
    "    for subchild in child.childNodes:\n",
    "        if subchild.nodeName != '#text':\n",
    "            print(subchild.nodeName)"
   ]
  },
  {
   "cell_type": "code",
   "execution_count": 52,
   "metadata": {},
   "outputs": [
    {
     "name": "stdout",
     "output_type": "stream",
     "text": [
      "2024-11-11T05:28:11-09:00\n",
      "['2024-11-11', '05:28:11-09:00']\n"
     ]
    }
   ],
   "source": [
    "# Get Date and Time from timeRef node\n",
    "timeRef_list = root.getElementsByTagName('caaml:dateTimeReport')\n",
    "dateTime=timeRef_list[0].firstChild.nodeValue\n",
    "print(dateTime)\n",
    "\n",
    "dateTime=dateTime.split('T')\n",
    "print(dateTime)\n"
   ]
  },
  {
   "cell_type": "code",
   "execution_count": 27,
   "metadata": {},
   "outputs": [
    {
     "name": "stdout",
     "output_type": "stream",
     "text": [
      "caaml:timeRef\n",
      "#text\n",
      "caaml:recordTime\n",
      "#text\n",
      "\n",
      "      \n",
      "caaml:TimeInstant\n",
      "None\n",
      "#text\n",
      "\n",
      "    \n",
      "#text\n",
      "caaml:dateTimeReport\n",
      "#text\n",
      "2024-11-11T05:28:11-09:00\n",
      "#text\n",
      "caaml:dateTimeLastEdit\n",
      "#text\n",
      "2024-11-11T05:28:45-09:00\n",
      "#text\n"
     ]
    }
   ],
   "source": [
    "# Layer 3:  subchildren of timeRef node\n",
    "timeRef_list = root.getElementsByTagName('caaml:timeRef')\n",
    "for child in timeRef_list:\n",
    "    print(child.nodeName)\n",
    "    for subchild in child.childNodes:\n",
    "        print(subchild.nodeName)\n",
    "        for subsubchild in subchild.childNodes:\n",
    "            print(subsubchild.nodeName)\n",
    "            print(subsubchild.nodeValue)"
   ]
  },
  {
   "cell_type": "code",
   "execution_count": 13,
   "metadata": {},
   "outputs": [
    {
     "name": "stdout",
     "output_type": "stream",
     "text": [
      "srcRef Children:\n",
      "caaml:Operation\n"
     ]
    }
   ],
   "source": [
    "# Layer 2: Children of srcRef node\n",
    "\n",
    "print(\"srcRef Children:\")\n",
    "\n",
    "srcRef_list = root.getElementsByTagName('caaml:srcRef')\n",
    "for child in srcRef_list:\n",
    "    for subchild in child.childNodes:\n",
    "        if subchild.nodeName != '#text':\n",
    "            print(subchild.nodeName)"
   ]
  },
  {
   "cell_type": "code",
   "execution_count": 14,
   "metadata": {},
   "outputs": [
    {
     "name": "stdout",
     "output_type": "stream",
     "text": [
      "locRef Children:\n",
      "caaml:name\n",
      "caaml:obsPointSubType\n",
      "caaml:validElevation\n",
      "caaml:validAspect\n",
      "caaml:validSlopeAngle\n",
      "caaml:pointLocation\n",
      "caaml:country\n",
      "caaml:region\n"
     ]
    }
   ],
   "source": [
    "# Layer 2: Children of locRef node\n",
    "\n",
    "print(\"locRef Children:\")\n",
    "\n",
    "locRef_list = root.getElementsByTagName('caaml:locRef')\n",
    "for child in locRef_list:\n",
    "    for subchild in child.childNodes:\n",
    "        if subchild.nodeName != '#text':\n",
    "            print(subchild.nodeName)"
   ]
  },
  {
   "cell_type": "code",
   "execution_count": 108,
   "metadata": {},
   "outputs": [
    {
     "name": "stdout",
     "output_type": "stream",
     "text": [
      "2532\n",
      "m\n"
     ]
    }
   ],
   "source": [
    "# elevation\n",
    "elevation_list = root.getElementsByTagName('caaml:ElevationPosition')\n",
    "\n",
    "elevation=elevation_list[0].childNodes[1].firstChild.nodeValue if elevation_list[0].childNodes[1].firstChild else None\n",
    "elevation_unit=elevation_list[0].getAttribute('uom') if elevation_list[0].hasAttribute('uom') else None\n",
    "\n",
    "print(elevation)\n",
    "print(elevation_unit)\n",
    "\n",
    "\n"
   ]
  },
  {
   "cell_type": "code",
   "execution_count": 120,
   "metadata": {},
   "outputs": [],
   "source": [
    "aspect_list = root.getElementsByTagName('caaml:AspectPosition')\n",
    "aspect_value=aspect_list[0].childNodes[1].firstChild.nodeValue if aspect_list[0].childNodes[1].firstChild else None\n",
    "\n"
   ]
  },
  {
   "cell_type": "code",
   "execution_count": 121,
   "metadata": {},
   "outputs": [
    {
     "name": "stdout",
     "output_type": "stream",
     "text": [
      "31\n",
      "deg\n"
     ]
    }
   ],
   "source": [
    "# Slope Angle\n",
    "slopeAngle_list = root.getElementsByTagName('caaml:SlopeAnglePosition')\n",
    "\n",
    "slopeAngle_val=slopeAngle_list[0].childNodes[1].firstChild.nodeValue if slopeAngle_list[0].childNodes[1].firstChild else None\n",
    "slopeAngle_unit=slopeAngle_list[0].getAttribute('uom') if slopeAngle_list[0].hasAttribute('uom') else None\n",
    "\n",
    "slopeAngle=[slopeAngle_val, slopeAngle_unit]\n",
    "\n",
    "print(slopeAngle)\n",
    "print(slopeAngle_unit)\n"
   ]
  },
  {
   "cell_type": "code",
   "execution_count": 141,
   "metadata": {},
   "outputs": [
    {
     "name": "stdout",
     "output_type": "stream",
     "text": [
      "45.8198520 -110.9286980\n",
      "['45.8198520', '-110.9286980']\n"
     ]
    }
   ],
   "source": [
    "# latitude\n",
    "latLong_list = root.getElementsByTagName('caaml:pointLocation')\n",
    "\n",
    "lat_long=latLong_list[0].childNodes[1].childNodes[1].firstChild.nodeValue\n",
    "\n",
    "lat_long=lat_long.split(' ')\n",
    "\n",
    "print(lat_long)\n"
   ]
  },
  {
   "cell_type": "code",
   "execution_count": 147,
   "metadata": {},
   "outputs": [
    {
     "name": "stdout",
     "output_type": "stream",
     "text": [
      "US\n",
      "MT\n"
     ]
    }
   ],
   "source": [
    "# Country\n",
    "country_list = root.getElementsByTagName('caaml:country')\n",
    "country=country_list[0].firstChild.nodeValue\n",
    "\n",
    "print(country)\n",
    "\n",
    "region_list = root.getElementsByTagName('caaml:region')\n",
    "region=region_list[0].firstChild.nodeValue\n",
    "\n",
    "print(region)\n",
    "\n",
    "\n",
    "\n",
    "\n"
   ]
  },
  {
   "cell_type": "code",
   "execution_count": 149,
   "metadata": {},
   "outputs": [
    {
     "name": "stdout",
     "output_type": "stream",
     "text": [
      "\n",
      "test1\n",
      "test2\n",
      "\n"
     ]
    }
   ],
   "source": [
    "test_str = \"\"\"\n",
    "test1\n",
    "test2\n",
    "\"\"\"\n",
    "\n",
    "print(test_str)\n",
    "\n",
    "\n"
   ]
  },
  {
   "cell_type": "code",
   "execution_count": 15,
   "metadata": {},
   "outputs": [
    {
     "name": "stdout",
     "output_type": "stream",
     "text": [
      "snowProfileResultsOf Children:\n",
      "caaml:SnowProfileMeasurements\n"
     ]
    }
   ],
   "source": [
    "# Layer 2: Children of snowProfileResultsOf node\n",
    "\n",
    "print(\"snowProfileResultsOf Children:\")\n",
    "\n",
    "snowProfileResultsOf_list = root.getElementsByTagName('caaml:snowProfileResultsOf')\n",
    "for child in snowProfileResultsOf_list:\n",
    "    for subchild in child.childNodes:\n",
    "        if subchild.nodeName != '#text':\n",
    "            print(subchild.nodeName)"
   ]
  },
  {
   "cell_type": "code",
   "execution_count": 16,
   "metadata": {},
   "outputs": [
    {
     "name": "stdout",
     "output_type": "stream",
     "text": [
      "application Children:\n"
     ]
    }
   ],
   "source": [
    "# Layer 2: Children of application node\n",
    "\n",
    "print(\"application Children:\")\n",
    "\n",
    "application_list = root.getElementsByTagName('caaml:application')\n",
    "for child in application_list:\n",
    "    for subchild in child.childNodes:\n",
    "        if subchild.nodeName != '#text':\n",
    "            print(subchild.nodeName)"
   ]
  },
  {
   "cell_type": "code",
   "execution_count": 17,
   "metadata": {},
   "outputs": [
    {
     "name": "stdout",
     "output_type": "stream",
     "text": [
      "applicationVersion Children:\n"
     ]
    }
   ],
   "source": [
    "# Layer 2: Children of applicationVersion node\n",
    "\n",
    "print(\"applicationVersion Children:\")\n",
    "\n",
    "applicationVersion_list = root.getElementsByTagName('caaml:applicationVersion')\n",
    "for child in applicationVersion_list:\n",
    "    for subchild in child.childNodes:\n",
    "        if subchild.nodeName != '#text':\n",
    "            print(subchild.nodeName)"
   ]
  },
  {
   "cell_type": "markdown",
   "metadata": {},
   "source": [
    "## Try other parser"
   ]
  },
  {
   "cell_type": "code",
   "execution_count": 6,
   "metadata": {},
   "outputs": [],
   "source": [
    "import xml.etree.ElementTree as ET\n",
    "\n",
    "common_tag = '{http://caaml.org/Schemas/SnowProfileIACS/v6.0.3}'\n",
    "root = ET.parse(file_path).getroot()\n"
   ]
  },
  {
   "cell_type": "code",
   "execution_count": 18,
   "metadata": {},
   "outputs": [
    {
     "name": "stdout",
     "output_type": "stream",
     "text": [
      "{http://caaml.org/Schemas/SnowProfileIACS/v6.0.3}profileDepth\n",
      "[68.0, 'cm']\n"
     ]
    }
   ],
   "source": [
    "hs_tag = common_tag + 'profileDepth'\n",
    "        \n",
    "try:\n",
    "    hs = next(root.iter(hs_tag), None).text\n",
    "    hs_units = next(root.iter(hs_tag), None).get('uom')\n",
    "    HS = [float(hs), hs_units]\n",
    "except AttributeError:\n",
    "    HS = None\n"
   ]
  },
  {
   "cell_type": "code",
   "execution_count": 41,
   "metadata": {},
   "outputs": [
    {
     "name": "stdout",
     "output_type": "stream",
     "text": [
      "66387\n"
     ]
    }
   ],
   "source": [
    "# pitID\n",
    "#  <caaml:locRef gml:id=\"location-nid-66387\">\n",
    "\n",
    "pitID_tag = common_tag + 'locRef'\n",
    "gml_tag = '{http://www.opengis.net/gml}id'\n",
    "\n",
    "try:\n",
    "    pitID_str = next(root.iter(pitID_tag), None).attrib[gml_tag]\n",
    "    pitID = pitID_str.split('-')[-1]\n",
    "except AttributeError:\n",
    "    pitID = None\n",
    "\n",
    "print(pitID)"
   ]
  },
  {
   "cell_type": "code",
   "execution_count": 45,
   "metadata": {},
   "outputs": [
    {
     "name": "stdout",
     "output_type": "stream",
     "text": [
      "2024-11-06T11:16:00\n",
      "2024-11-06\n"
     ]
    }
   ],
   "source": [
    "dateTime_tag = common_tag + 'timePosition'\n",
    "\n",
    "try:\n",
    "    dt = next(root.iter(dateTime_tag), None).text\n",
    "except AttributeError:\n",
    "    dt = None\n",
    "\n",
    "date = dt.split('T')[0] if dt is not None else None\n",
    "\n",
    "print(dt)\n",
    "print(date)\n"
   ]
  },
  {
   "cell_type": "code",
   "execution_count": 46,
   "metadata": {},
   "outputs": [
    {
     "name": "stdout",
     "output_type": "stream",
     "text": [
      "{http://caaml.org/Schemas/SnowProfileIACS/v6.0.3}\n"
     ]
    }
   ],
   "source": [
    "#<caaml:Operation gml:id=\"SnowPilot-Group-68\">\n",
    " #     <caaml:name>Bridger Bowl Ski Patrol</caaml:name>\n",
    "  #    <caaml:contactPerson gml:id=\"SnowPilot-User-2900\">\n",
    "   #     <caaml:name>BB Ski Patrol</caaml:name>\n",
    "\n"
   ]
  },
  {
   "cell_type": "code",
   "execution_count": 53,
   "metadata": {},
   "outputs": [
    {
     "name": "stdout",
     "output_type": "stream",
     "text": [
      "[<Element '{http://caaml.org/Schemas/SnowProfileIACS/v6.0.3}ElevationPosition' at 0x00000275E5116E80>, <Element '{http://caaml.org/Schemas/SnowProfileIACS/v6.0.3}AspectPosition' at 0x00000275E5116F70>, <Element '{http://caaml.org/Schemas/SnowProfileIACS/v6.0.3}SlopeAnglePosition' at 0x00000275E5117060>]\n",
      "Elevation\n",
      "Aspect\n",
      "SlopeAngle\n",
      "{'lat': 45.819852, 'long': -110.928698, 'Elevation': '2532', 'Aspect': 'E', 'SlopeAngle': '31'}\n"
     ]
    }
   ],
   "source": [
    "POS_LAT_LONG = '{http://www.opengis.net/gml}pos'\n",
    "locations_params_tags = [common_tag + 'ElevationPosition', \n",
    "                                common_tag + 'AspectPosition', \n",
    "                                common_tag + 'SlopeAnglePosition']\n",
    "name_front_trim = len(common_tag)\n",
    "name_back_trim = -len('Position')\n",
    "\n",
    "location = {}\n",
    "\n",
    "try: \n",
    "    loc = next(root.iter(POS_LAT_LONG), None).text\n",
    "    location['lat'], location['long'] = map(float, loc.split(' '))\n",
    "except AttributeError:\n",
    "    location = None\n",
    "    \n",
    "position_params = [t for t in root.iter() if t.tag in locations_params_tags]\n",
    "print(position_params)\n",
    "for tp in position_params:\n",
    "    print(tp.tag[name_front_trim: name_back_trim])\n",
    "    location[tp.tag[name_front_trim: name_back_trim]] = tp.find(common_tag + 'position').text\n",
    "\n",
    "print(location)"
   ]
  }
 ],
 "metadata": {
  "kernelspec": {
   "display_name": ".venv",
   "language": "python",
   "name": "python3"
  },
  "language_info": {
   "codemirror_mode": {
    "name": "ipython",
    "version": 3
   },
   "file_extension": ".py",
   "mimetype": "text/x-python",
   "name": "python",
   "nbconvert_exporter": "python",
   "pygments_lexer": "ipython3",
   "version": "3.13.1"
  }
 },
 "nbformat": 4,
 "nbformat_minor": 2
}
