{
 "cells": [
  {
   "cell_type": "code",
   "execution_count": 4,
   "metadata": {},
   "outputs": [],
   "source": [
    "import pandas as pd\n",
    "import numpy as np\n",
    "import matplotlib.pyplot as plt\n",
    "import seaborn as sns\n",
    "import os\n",
    "from xml.dom import minidom\n",
    "from Layer import Layer"
   ]
  },
  {
   "cell_type": "markdown",
   "metadata": {},
   "source": [
    "## Try other parser"
   ]
  },
  {
   "cell_type": "code",
   "execution_count": 5,
   "metadata": {},
   "outputs": [],
   "source": [
    "import xml.etree.ElementTree as ET\n",
    "file_path = \"snowpits_200_MT/snowpits-66387-caaml.xml\"\n",
    "\n",
    "common_tag = '{http://caaml.org/Schemas/SnowProfileIACS/v6.0.3}'\n",
    "root = ET.parse(file_path).getroot()\n"
   ]
  },
  {
   "cell_type": "code",
   "execution_count": 7,
   "metadata": {},
   "outputs": [
    {
     "name": "stdout",
     "output_type": "stream",
     "text": [
      "top down\n"
     ]
    }
   ],
   "source": [
    "# measurementDirection\n",
    "try:\n",
    "    measurementDirection = next(root.iter(common_tag + 'SnowProfileMeasurements'), None).get('dir')\n",
    "except AttributeError:\n",
    "    measurementDirection = None\n",
    "\n",
    "print(measurementDirection)\n"
   ]
  },
  {
   "cell_type": "code",
   "execution_count": 13,
   "metadata": {},
   "outputs": [
    {
     "name": "stdout",
     "output_type": "stream",
     "text": [
      "[68.0, 'cm']\n"
     ]
    }
   ],
   "source": [
    "#hs_tag = common_tag + 'profileDepth'\n",
    "        \n",
    "try:\n",
    "    profileDepth = next(root.iter(common_tag + 'profileDepth'), None).text\n",
    "    profileDepth_units = next(root.iter(common_tag + 'profileDepth'), None).get('uom')\n",
    "    profileDepth = [float(profileDepth), profileDepth_units]\n",
    "except AttributeError:\n",
    "    profileDepth = None\n",
    "\n",
    "print(profileDepth)\n"
   ]
  },
  {
   "cell_type": "code",
   "execution_count": 18,
   "metadata": {},
   "outputs": [],
   "source": [
    "#hS\n",
    "try:\n",
    "    hS_val = next(root.iter(common_tag + 'height'), None).text\n",
    "    hS_units = next(root.iter(common_tag + 'height'), None).get('uom')\n",
    "    hS = [float(hS_val), hS_units]\n",
    "except AttributeError:\n",
    "    hS = None\n",
    "\n"
   ]
  }
 ],
 "metadata": {
  "kernelspec": {
   "display_name": ".venv",
   "language": "python",
   "name": "python3"
  },
  "language_info": {
   "codemirror_mode": {
    "name": "ipython",
    "version": 3
   },
   "file_extension": ".py",
   "mimetype": "text/x-python",
   "name": "python",
   "nbconvert_exporter": "python",
   "pygments_lexer": "ipython3",
   "version": "3.13.1"
  }
 },
 "nbformat": 4,
 "nbformat_minor": 2
}
