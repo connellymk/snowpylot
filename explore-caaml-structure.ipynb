{
 "cells": [
  {
   "cell_type": "code",
   "execution_count": 1,
   "metadata": {},
   "outputs": [],
   "source": [
    "import pandas as pd\n",
    "import numpy as np\n",
    "import matplotlib.pyplot as plt\n",
    "import seaborn as sns\n",
    "import os\n",
    "from xml.dom import minidom\n",
    "from layer import Grain, Layer\n",
    "from snowProfile import (\n",
    "    SnowProfile,\n",
    "    SurfaceCondition,\n",
    "    Layer,\n",
    "    TempObs,\n",
    "    DensityObs,\n",
    ")\n",
    "from whumpfData import WumphData\n",
    "from coreInfo import CoreInfo, User, Location, WeatherConditions"
   ]
  },
  {
   "cell_type": "markdown",
   "metadata": {},
   "source": [
    "## Try other parser"
   ]
  },
  {
   "cell_type": "code",
   "execution_count": 2,
   "metadata": {},
   "outputs": [],
   "source": [
    "import xml.etree.ElementTree as ET\n",
    "\n",
    "file_path = \"snowpits/test/snowpylot-test-26-Feb-caaml.xml\"\n",
    "# file_path = \"snowpits/test/snowpits-13720-caaml.xml\"\n",
    "\n",
    "common_tag = (\n",
    "    \"{http://caaml.org/Schemas/SnowProfileIACS/v6.0.3}\"  # Update to read from xml file\n",
    ")\n",
    "gml_tag = \"{http://www.opengis.net/gml}\"\n",
    "snowpilot_tag = \"{http://www.snowpilot.org/Schemas/caaml}\"\n",
    "root = ET.parse(file_path).getroot()"
   ]
  },
  {
   "cell_type": "code",
   "execution_count": 11,
   "metadata": {},
   "outputs": [
    {
     "name": "stdout",
     "output_type": "stream",
     "text": [
      "[125.0, 'cm'] [30.0, 'cm'] 1F FCxr FCxr\n"
     ]
    }
   ],
   "source": [
    "stratProfile = next(root.iter(common_tag + \"stratProfile\"), None)\n",
    "layers = list(stratProfile)\n",
    "\n",
    "\n",
    "# depthTop\n",
    "# thickness\n",
    "# hardness\n",
    "# hardnessTop\n",
    "# hardnessBottom\n",
    "# grainFormPrimary\n",
    "# grainFormSecondary\n",
    "# density\n",
    "# wetness\n",
    "# layerOfConcern\n",
    "# comment\n",
    "\n",
    "for layer in layers:\n",
    "    layer_obj = Layer()\n",
    "    for prop in layer.iter(common_tag + 'depthTop'):\n",
    "        depthTop = [float(prop.text), prop.get(\"uom\")]\n",
    "    for prop in layer.iter(common_tag + 'thickness'):\n",
    "        thickness = [float(prop.text), prop.get(\"uom\")]\n",
    "    for prop in layer.iter(common_tag + 'hardness'):\n",
    "        hardness = prop.text\n",
    "    for prop in layer.iter(common_tag + 'hardnessTop'):\n",
    "        hardnessTop = prop.text\n",
    "    for prop in layer.iter(common_tag + 'hardnessBottom'):\n",
    "        hardnessBottom = prop.text\n",
    "    for prop in layer.iter(common_tag + 'grainFormPrimary'):\n",
    "        grainFormPrimary = prop.text\n",
    "    for prop in layer.iter(common_tag + 'grainFormSecondary'):\n",
    "        grainFormSecondary = prop.text\n",
    "    for prop in layer.iter(common_tag + 'grainSize'):\n",
    "        uom = prop.get(\"uom\")\n",
    "        for subProp in prop.iter(common_tag + 'avg'):\n",
    "            grainSizeAvg = [float(subProp.text), uom]\n",
    "        for subProp in prop.iter(common_tag + 'avgMax'):\n",
    "            grainSizeMax = [float(subProp.text), uom]\n",
    "    for prop in layer.iter(common_tag + 'wetness'):\n",
    "        wetness = prop.text\n",
    "    for prop in layer.iter(common_tag + 'layerOfConcern'):\n",
    "        layerOfConcern = prop.text\n",
    "    for prop in layer.iter(common_tag + 'comment'):\n",
    "        comment = prop.text\n",
    "\n",
    "\n",
    "        \n",
    "        \n",
    "\n",
    "\n",
    "        "
   ]
  }
 ],
 "metadata": {
  "kernelspec": {
   "display_name": ".venv",
   "language": "python",
   "name": "python3"
  },
  "language_info": {
   "codemirror_mode": {
    "name": "ipython",
    "version": 3
   },
   "file_extension": ".py",
   "mimetype": "text/x-python",
   "name": "python",
   "nbconvert_exporter": "python",
   "pygments_lexer": "ipython3",
   "version": "3.13.2"
  }
 },
 "nbformat": 4,
 "nbformat_minor": 2
}
