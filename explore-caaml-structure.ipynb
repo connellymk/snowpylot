{
 "cells": [
  {
   "cell_type": "code",
   "execution_count": 1,
   "metadata": {},
   "outputs": [],
   "source": [
    "import pandas as pd\n",
    "import numpy as np\n",
    "import matplotlib.pyplot as plt\n",
    "import seaborn as sns\n",
    "import os\n",
    "from xml.dom import minidom\n",
    "from layer import Grain, Layer\n",
    "from snowProfile import (\n",
    "    SnowProfile,\n",
    "    SurfaceCondition,\n",
    "    Layer,\n",
    "    TempObs,\n",
    "    DensityObs,\n",
    ")\n",
    "from whumpfData import WumphData\n",
    "from coreInfo import CoreInfo, User, Location, WeatherConditions"
   ]
  },
  {
   "cell_type": "markdown",
   "metadata": {},
   "source": [
    "## Try other parser"
   ]
  },
  {
   "cell_type": "code",
   "execution_count": 2,
   "metadata": {},
   "outputs": [],
   "source": [
    "import xml.etree.ElementTree as ET\n",
    "\n",
    "file_path = \"snowpits/test/snowpylot-test-26-Feb-caaml.xml\"\n",
    "# file_path = \"snowpits/test/snowpits-13720-caaml.xml\"\n",
    "\n",
    "common_tag = (\n",
    "    \"{http://caaml.org/Schemas/SnowProfileIACS/v6.0.3}\"  # Update to read from xml file\n",
    ")\n",
    "gml_tag = \"{http://www.opengis.net/gml}\"\n",
    "snowpilot_tag = \"{http://www.snowpilot.org/Schemas/caaml}\"\n",
    "root = ET.parse(file_path).getroot()"
   ]
  },
  {
   "cell_type": "code",
   "execution_count": 13,
   "metadata": {},
   "outputs": [
    {
     "name": "stdout",
     "output_type": "stream",
     "text": [
      "0.0 cm\n",
      "-2.2222222222222 degC\n",
      "10.0 cm\n",
      "-5.0 degC\n",
      "20.0 cm\n",
      "-6.1111111111111 degC\n",
      "25.0 cm\n",
      "-5.0 degC\n",
      "35.0 cm\n",
      "-5.0 degC\n",
      "45.0 cm\n",
      "-3.8888888888889 degC\n",
      "55.0 cm\n",
      "-3.8888888888889 degC\n",
      "65.0 cm\n",
      "-2.7777777777778 degC\n",
      "75.0 cm\n",
      "-2.7777777777778 degC\n",
      "85.0 cm\n",
      "-2.7777777777778 degC\n",
      "95.0 cm\n",
      "-2.2222222222222 degC\n",
      "105.0 cm\n",
      "-2.2222222222222 degC\n",
      "115.0 cm\n",
      "-2.2222222222222 degC\n",
      "125.0 cm\n",
      "-2.2222222222222 degC\n",
      "135.0 cm\n",
      "-2.2222222222222 degC\n",
      "145.0 cm\n",
      "-2.2222222222222 degC\n"
     ]
    }
   ],
   "source": [
    "tempProfile = next(root.iter(common_tag + \"tempProfile\"), None)\n",
    "tempObs = list(tempProfile)\n",
    "\n",
    "for obs in tempObs:\n",
    "    for prop in obs.iter(common_tag + \"depth\"):\n",
    "        print(float(prop.text), prop.get(\"uom\"))\n",
    "    for prop in obs.iter(common_tag + \"snowTemp\"):\n",
    "        print(float(prop.text), prop.get(\"uom\"))"
   ]
  }
 ],
 "metadata": {
  "kernelspec": {
   "display_name": ".venv",
   "language": "python",
   "name": "python3"
  },
  "language_info": {
   "codemirror_mode": {
    "name": "ipython",
    "version": 3
   },
   "file_extension": ".py",
   "mimetype": "text/x-python",
   "name": "python",
   "nbconvert_exporter": "python",
   "pygments_lexer": "ipython3",
   "version": "3.13.2"
  }
 },
 "nbformat": 4,
 "nbformat_minor": 2
}
