{
 "cells": [
  {
   "cell_type": "code",
   "execution_count": 1,
   "metadata": {},
   "outputs": [],
   "source": [
    "import pandas as pd\n",
    "import numpy as np\n",
    "import matplotlib.pyplot as plt\n",
    "import seaborn as sns\n",
    "import os\n",
    "from xml.dom import minidom\n",
    "from layer import Grain, Layer\n",
    "from snowProfile import SnowProfile, SurfaceCondition, Layer, TempMeasurement, WeatherConditions\n",
    "from whumpfData import WumphData"
   ]
  },
  {
   "cell_type": "markdown",
   "metadata": {},
   "source": [
    "## Try other parser"
   ]
  },
  {
   "cell_type": "code",
   "execution_count": 2,
   "metadata": {},
   "outputs": [],
   "source": [
    "import xml.etree.ElementTree as ET\n",
    "#file_path = \"snowpits/wumph_pits/snowpits-25968-caaml.xml\"\n",
    "file_path = \"snowpits/mkc_TESTPIT-23-Feb.caaml\"\n",
    "\n",
    "\n",
    "common_tag = '{http://caaml.org/Schemas/SnowProfileIACS/v6.0.3}'\n",
    "root = ET.parse(file_path).getroot()\n"
   ]
  },
  {
   "cell_type": "code",
   "execution_count": 3,
   "metadata": {},
   "outputs": [
    {
     "name": "stdout",
     "output_type": "stream",
     "text": [
      "top down\n"
     ]
    }
   ],
   "source": [
    "# measurementDirection\n",
    "try:\n",
    "    measurementDirection = next(root.iter(common_tag + 'SnowProfileMeasurements'), None).get('dir')\n",
    "except AttributeError:\n",
    "    measurementDirection = None\n",
    "\n",
    "print(measurementDirection)\n"
   ]
  },
  {
   "cell_type": "code",
   "execution_count": 4,
   "metadata": {},
   "outputs": [
    {
     "name": "stdout",
     "output_type": "stream",
     "text": [
      "<_elementtree._element_iterator object at 0x00000165DB008090>\n",
      "tag:  {http://caaml.org/Schemas/SnowProfileIACS/v6.0.3}srcRef\n",
      "attrib:  {}\n",
      "text:  \n",
      "    \n",
      "sub_tag:  {http://caaml.org/Schemas/SnowProfileIACS/v6.0.3}Person\n",
      "sub_attrib:  {'{http://www.opengis.net/gml}id': 'SnowPilot-User-15812'}\n",
      "sub_text:  \n",
      "      \n",
      "sub_sub_tag:  {http://caaml.org/Schemas/SnowProfileIACS/v6.0.3}name\n",
      "sub_sub_attrib:  {}\n",
      "sub_sub_text:  katisthebatis\n",
      "{}\n"
     ]
    }
   ],
   "source": [
    "#user = {\n",
    " #           'OperationID': None,\n",
    "  #          'OperationName': None,\n",
    "   #         'Professional': None,\n",
    "    #        'ContactPersonID': None,\n",
    "     #       'ContactPersonName': None,\n",
    "      #      }   \n",
    "\n",
    "user = {}\n",
    "\n",
    "\n",
    "try:\n",
    "    srcRef = root.iter(common_tag + 'srcRef')\n",
    "except AttributeError:\n",
    "    srcRef = None\n",
    "\n",
    "print(srcRef)\n",
    "\n",
    "if srcRef is not None:\n",
    "    for prop in srcRef:\n",
    "        print(\"tag: \",prop.tag)\n",
    "        print(\"attrib: \",prop.attrib)\n",
    "        print(\"text: \",prop.text)\n",
    "        for sub_prop in prop:\n",
    "            print(\"sub_tag: \",sub_prop.tag)\n",
    "            print(\"sub_attrib: \",sub_prop.attrib)\n",
    "            print(\"sub_text: \",sub_prop.text)\n",
    "            for sub_sub_prop in sub_prop:\n",
    "                print(\"sub_sub_tag: \",sub_sub_prop.tag)\n",
    "                print(\"sub_sub_attrib: \",sub_sub_prop.attrib)\n",
    "                print(\"sub_sub_text: \",sub_sub_prop.text)\n",
    "                for sub_sub_sub_prop in sub_sub_prop:\n",
    "                    print(\"sub_sub_sub_tag: \",sub_sub_sub_prop.tag)\n",
    "                    print(\"sub_sub_sub_attrib: \",sub_sub_sub_prop.attrib)\n",
    "                    print(\"sub_sub_sub_text: \",sub_sub_sub_prop.text)\n",
    "\n",
    "if srcRef is not None:\n",
    "    for prop in srcRef:\n",
    "        for sub_prop in prop:\n",
    "            if sub_prop.tag.endswith('Operation'):\n",
    "                user['OperationID'] = sub_prop.attrib['gml:id']\n",
    "                for sub_sub_prop in sub_prop:\n",
    "                    if sub_sub_prop.tag.endswith('name'):\n",
    "                        user['OperationName'] = sub_sub_prop.text\n",
    "                    if sub_sub_prop.tag.endswith('contactPerson'):\n",
    "                        user['ContactPersonID'] = sub_sub_prop.attrib['gml:id']\n",
    "                        for sub_sub_sub_prop in sub_sub_prop:\n",
    "                            if sub_sub_sub_prop.tag.endswith('name'):\n",
    "                                user['ContactPersonName'] = sub_sub_sub_prop.text\n",
    "            elif sub_prop.tag.endswith('Person'):\n",
    "                user['ContactPersonID'] = sub_prop.attrib['gml:id']\n",
    "                for sub_sub_prop in sub_prop:\n",
    "                    if sub_sub_prop.tag.endswith('name'):\n",
    "                        user['ContactPersonName'] = sub_sub_prop.text\n",
    "\n",
    "\n",
    "\n",
    "print(user)\n"
   ]
  },
  {
   "cell_type": "code",
   "execution_count": 16,
   "metadata": {},
   "outputs": [
    {
     "name": "stdout",
     "output_type": "stream",
     "text": [
      "{http://caaml.org/Schemas/SnowProfileIACS/v6.0.3}weatherCond\n",
      "\n",
      "        \n",
      "{http://caaml.org/Schemas/SnowProfileIACS/v6.0.3}skyCond\n",
      "OVC\n",
      "{http://caaml.org/Schemas/SnowProfileIACS/v6.0.3}precipTI\n",
      "-SN\n",
      "{http://caaml.org/Schemas/SnowProfileIACS/v6.0.3}airTempPres\n",
      "5\n",
      "{http://caaml.org/Schemas/SnowProfileIACS/v6.0.3}windSpd\n",
      "C\n",
      "{http://caaml.org/Schemas/SnowProfileIACS/v6.0.3}windDir\n",
      "\n",
      "          \n",
      "{http://caaml.org/Schemas/SnowProfileIACS/v6.0.3}AspectPosition\n",
      "\n",
      "            \n",
      "{http://caaml.org/Schemas/SnowProfileIACS/v6.0.3}position\n",
      "SE\n"
     ]
    }
   ],
   "source": [
    "# Weather Conditions\n",
    "\n",
    "weatherConditions = next(root.iter(common_tag + 'weatherCond'),None)\n",
    "\n",
    "for prop in weatherConditions.iter():\n",
    "    print(prop.tag)\n",
    "    print(prop.text)\n"
   ]
  },
  {
   "cell_type": "code",
   "execution_count": null,
   "metadata": {},
   "outputs": [],
   "source": [
    "    for prop in weatherConditions:\n",
    "        if prop.tag.endswith('skyCond'):\n",
    "            pit.snowProfile.weatherConditions.set_skyCond(prop.text)\n",
    "        if prop.tag.endswith('precipTI'):\n",
    "            pit.snowProfile.weatherConditions.set_precipTI(prop.text)\n",
    "        if prop.tag.endswith('airTempPres'):\n",
    "            temp_val = prop.text\n",
    "            temp_units = prop.get('uom')\n",
    "            temp = [float(temp_val), temp_units]\n",
    "            pit.snowProfile.weatherConditions.set_airTempPres(temp)\n",
    "        if prop.tag.endswith('windSpeed'):\n",
    "            windSpeed_val = prop.text\n",
    "            windSpeed_units = prop.get('uom')\n",
    "            windSpeed = [float(windSpeed_val), windSpeed_units]\n",
    "            pit.snowProfile.weatherConditions.set_windSpeed(windSpeed)\n",
    "        if prop.tag.endswith('windDir'):\n",
    "            for sub_prop in prop:\n",
    "                if sub_prop.tag.endswith('position'):\n",
    "                    pit.snowProfile.weatherConditions.set_windDir(sub_prop.text)"
   ]
  }
 ],
 "metadata": {
  "kernelspec": {
   "display_name": ".venv",
   "language": "python",
   "name": "python3"
  },
  "language_info": {
   "codemirror_mode": {
    "name": "ipython",
    "version": 3
   },
   "file_extension": ".py",
   "mimetype": "text/x-python",
   "name": "python",
   "nbconvert_exporter": "python",
   "pygments_lexer": "ipython3",
   "version": "3.13.2"
  }
 },
 "nbformat": 4,
 "nbformat_minor": 2
}
